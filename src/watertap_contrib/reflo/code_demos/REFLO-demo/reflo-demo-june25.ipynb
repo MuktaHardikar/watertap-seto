{
 "cells": [
  {
   "cell_type": "code",
   "execution_count": 1,
   "id": "462cf9b0",
   "metadata": {
    "scrolled": true,
    "slideshow": {
     "slide_type": "skip"
    }
   },
   "outputs": [],
   "source": [
    "# Relevant Imports\n",
    "from IPython.display import Image,HTML\n",
    "import matplotlib.pyplot as plt\n",
    "import matplotlib.image as mpimg\n",
    "\n",
    "from watertap_contrib.reflo.analysis.case_studies.KBHDP.KBHDP_ZLD import zld_main"
   ]
  },
  {
   "cell_type": "markdown",
   "id": "920706d4",
   "metadata": {
    "slideshow": {
     "slide_type": "slide"
    }
   },
   "source": [
    "<h1 style=\"text-align:center;\">Demonstration of WaterTAP-REFLO Framework</h1>"
   ]
  },
  {
   "cell_type": "markdown",
   "id": "2da4827e",
   "metadata": {
    "slideshow": {
     "slide_type": "subslide"
    }
   },
   "source": [
    "<div style=\"max-height: 650px; overflow-y: auto;\">\n",
    "Contents:\n",
    "<li>Introduction to the WaterTAP-REFLO framework\n",
    "<li>Build a WaterTAP-REFLO treatment flowsheet\n",
    "<ul>\n",
    "    <li>Build, optimization and costing with a single unit model\n",
    "    <li>Parameter sweeps and results\n",
    "</ul>\n",
    "<li>Build a solar surrogate energy model using PySAM\n",
    "<ul>\n",
    "    <li>Surrogate model workflow\n",
    "    <li>Build solar surrogate\n",
    "</ul>\n",
    "<li>Build example analysis flowsheet energy\n",
    "<ul>\n",
    "    <li>Build a complete treatment flowsheet\n",
    "    <li>Integrate solar energy models\n",
    "    <li>Intergrate costing\n",
    "    <li>Parameter sweeps and results  \n",
    "</ul>\n",
    "</div>"
   ]
  },
  {
   "cell_type": "markdown",
   "id": "17c60169",
   "metadata": {
    "slideshow": {
     "slide_type": "fragment"
    }
   },
   "source": [
    "<li> Analysis</li>\n",
    "<ul>\n",
    "    <li>Build a complete treatment flowsheet</li>\n",
    "    <li> Integrate solar energy models</li>\n",
    "    <li> Intergrate costing</li>\n",
    "    <li>Parameter sweeps and results</li>  \n",
    "</ul>"
   ]
  },
  {
   "cell_type": "markdown",
   "id": "3ed5345d",
   "metadata": {
    "slideshow": {
     "slide_type": "slide"
    }
   },
   "source": [
    "Framework"
   ]
  },
  {
   "cell_type": "markdown",
   "id": "08123f1e",
   "metadata": {
    "slideshow": {
     "slide_type": "subslide"
    }
   },
   "source": [
    "<center><img src=\"figures/demo_images/Slide1.png\" width=1000 height=1000><center>"
   ]
  },
  {
   "cell_type": "markdown",
   "id": "36605f9b",
   "metadata": {
    "slideshow": {
     "slide_type": "subslide"
    }
   },
   "source": [
    "<center><img src=\"figures/demo_images/Slide2.png\" width=1000 height=1000><center>"
   ]
  },
  {
   "cell_type": "markdown",
   "id": "458c22e2",
   "metadata": {
    "slideshow": {
     "slide_type": "subslide"
    }
   },
   "source": [
    "<center><img src=\"figures/demo_images/Slide3.png\" width=1000 height=1000><center>"
   ]
  },
  {
   "cell_type": "markdown",
   "id": "68c5a7cd",
   "metadata": {
    "slideshow": {
     "slide_type": "slide"
    }
   },
   "source": [
    "Building Water Treatment Flowsheet: Workflow"
   ]
  },
  {
   "cell_type": "markdown",
   "id": "e914447e",
   "metadata": {
    "slideshow": {
     "slide_type": "subslide"
    }
   },
   "source": [
    "<center><img src=\"figures/demo_images/Slide5.png\" width=1000 height=1000><center>"
   ]
  },
  {
   "cell_type": "markdown",
   "id": "f4a90415",
   "metadata": {
    "slideshow": {
     "slide_type": "subslide"
    }
   },
   "source": [
    "<center><img src=\"figures/demo_images/Slide6.png\" width=1000 height=1000><center>"
   ]
  },
  {
   "cell_type": "markdown",
   "id": "0f53fafa",
   "metadata": {
    "slideshow": {
     "slide_type": "slide"
    }
   },
   "source": [
    "Sample unit model build and optimization - Still working on this! Should have this done by Monday"
   ]
  },
  {
   "cell_type": "code",
   "execution_count": 2,
   "id": "b1145f0f",
   "metadata": {},
   "outputs": [],
   "source": [
    "# Import relevant libraries\n",
    "from pyomo.environ import (\n",
    "    ConcreteModel,\n",
    "    value,\n",
    "    Var,\n",
    "    Constraint,\n",
    "    Objective,\n",
    "    NonNegativeReals,\n",
    "    TransformationFactory,\n",
    "    Block,\n",
    "    check_optimal_termination,\n",
    "    units as pyunits,\n",
    ")\n",
    "from pyomo.util.check_units import assert_units_consistent\n",
    "from pyomo.network import Arc\n",
    "from idaes.core import FlowsheetBlock, MaterialFlowBasis\n",
    "from idaes.core.util.initialization import propagate_state as _prop_state\n",
    "from idaes.core.solvers import get_solver\n",
    "import idaes.core.util.scaling as iscale\n",
    "from watertap_contrib.reflo.core import REFLODatabase\n",
    "import idaes.logger as idaeslog\n",
    "from watertap.property_models.NaCl_prop_pack import NaClParameterBlock\n",
    "from watertap.property_models.multicomp_aq_sol_prop_pack import MCASParameterBlock\n",
    "from idaes.models.unit_models import Product, Feed\n",
    "from idaes.core.util.model_statistics import *\n",
    "from watertap_contrib.reflo.costing import (\n",
    "    TreatmentCosting,\n",
    "    EnergyCosting,\n",
    "    REFLOSystemCosting,\n",
    ")\n",
    "from watertap.unit_models.pressure_changer import Pump\n",
    "from watertap.core.util.model_diagnostics.infeasible import *\n",
    "from watertap.core.util.initialization import *\n",
    "from idaes.core import FlowsheetBlock, UnitModelCostingBlock\n",
    "from watertap_contrib.reflo.analysis.case_studies.KBHDP import *\n",
    "from watertap.core.zero_order_properties import WaterParameterBlock\n"
   ]
  },
  {
   "cell_type": "code",
   "execution_count": null,
   "id": "10fbb535",
   "metadata": {
    "scrolled": true,
    "slideshow": {
     "slide_type": "subslide"
    }
   },
   "outputs": [],
   "source": [
    "# Build the model\n",
    "def build_system(RE=True):\n",
    "    m = ConcreteModel()\n",
    "    m.fs = FlowsheetBlock(dynamic=False)\n",
    "\n",
    "    # Get unit model input data from a database\n",
    "    m.db = REFLODatabase()\n",
    "\n",
    "    # Add uni\n",
    "    m.fs.RO_properties = NaClParameterBlock()\n",
    "\n",
    "    return m"
   ]
  },
  {
   "cell_type": "code",
   "execution_count": null,
   "id": "a251e728",
   "metadata": {},
   "outputs": [
    {
     "ename": "SyntaxError",
     "evalue": "incomplete input (1683609025.py, line 3)",
     "output_type": "error",
     "traceback": [
      "\u001b[0;36m  Cell \u001b[0;32mIn[5], line 3\u001b[0;36m\u001b[0m\n\u001b[0;31m    \u001b[0m\n\u001b[0m    ^\u001b[0m\n\u001b[0;31mSyntaxError\u001b[0m\u001b[0;31m:\u001b[0m incomplete input\n"
     ]
    }
   ],
   "source": [
    "# Build the treatment system\n",
    "def build_treatment(m):\n",
    "    # Create a treatment block\n",
    "    m.fs.treatment = Block()\n",
    "    # Add feed, product and waste streams\n",
    "    m.fs.treatment.feed = Feed(property_package=m.fs.RO_properties)\n",
    "    m.fs.treatment.product = Product(property_package=m.fs.RO_properties)"
   ]
  },
  {
   "cell_type": "code",
   "execution_count": null,
   "id": "dc9b4545",
   "metadata": {},
   "outputs": [],
   "source": [
    "# Build the treatment system"
   ]
  },
  {
   "cell_type": "code",
   "execution_count": null,
   "id": "a38c7da5",
   "metadata": {
    "scrolled": true,
    "slideshow": {
     "slide_type": "subslide"
    }
   },
   "outputs": [],
   "source": [
    "# Optimization of RO model"
   ]
  },
  {
   "cell_type": "markdown",
   "id": "9cb0c0ad",
   "metadata": {
    "slideshow": {
     "slide_type": "subslide"
    }
   },
   "source": [
    "Adding Costing to Water Treatment Flowsheet"
   ]
  },
  {
   "cell_type": "code",
   "execution_count": 3,
   "id": "ca819f08",
   "metadata": {
    "scrolled": true,
    "slideshow": {
     "slide_type": "subslide"
    }
   },
   "outputs": [],
   "source": [
    "# Add treatment costing to the flowsheet\n",
    "\n",
    "# Sweep on recovery to show range of electricity demand\n",
    "\n",
    "# Print SEC for RO"
   ]
  },
  {
   "cell_type": "markdown",
   "id": "e4f657f7",
   "metadata": {
    "slideshow": {
     "slide_type": "slide"
    }
   },
   "source": [
    "Building solar surrogate model using PySAM (Figure to show its a steady state here)"
   ]
  },
  {
   "cell_type": "code",
   "execution_count": 10,
   "id": "d8b74f90",
   "metadata": {
    "scrolled": true,
    "slideshow": {
     "slide_type": "fragment"
    }
   },
   "outputs": [],
   "source": [
    "# Logic of building a PySAM surrogate\n",
    "# Location specific model -weather file as input\n",
    "# Steady state system costing variables inputs"
   ]
  },
  {
   "cell_type": "code",
   "execution_count": 6,
   "id": "ddcd9e3d",
   "metadata": {
    "scrolled": true,
    "slideshow": {
     "slide_type": "subslide"
    }
   },
   "outputs": [],
   "source": [
    "# How to build a surrogate model\n",
    "\n",
    "# Users can decide the input to the surrogate model\n",
    "\n",
    "# Net metering and 24h storage of thermal system\n",
    "\n",
    "# Accuracy of surrogate"
   ]
  },
  {
   "cell_type": "code",
   "execution_count": null,
   "id": "e27fb7dd",
   "metadata": {
    "scrolled": true
   },
   "outputs": [],
   "source": [
    "# Build surrogate model"
   ]
  },
  {
   "cell_type": "markdown",
   "id": "cb5fe62b",
   "metadata": {
    "slideshow": {
     "slide_type": "subslide"
    }
   },
   "source": [
    "<center><img src=\"figures/demo_images/Slide4.png\" width=1000 height=1000><center>"
   ]
  },
  {
   "cell_type": "markdown",
   "id": "df39b635",
   "metadata": {
    "slideshow": {
     "slide_type": "slide"
    }
   },
   "source": [
    "Analysis\n",
    "<ul>\n",
    "    <li>Build a complete treatment flowsheet</li>\n",
    "    <li> Integrate solar energy models</li>\n",
    "    <li> Intergrate costing</li>\n",
    "    <li>Parameter sweeps and results</li>  "
   ]
  },
  {
   "cell_type": "markdown",
   "id": "218ca887",
   "metadata": {
    "slideshow": {
     "slide_type": "subslide"
    }
   },
   "source": [
    "<center><img src=\"figures/demo_images/Slide7.png\" width=1000 height=1000><center>"
   ]
  },
  {
   "cell_type": "code",
   "execution_count": null,
   "id": "3d27b012",
   "metadata": {
    "scrolled": true,
    "slideshow": {
     "slide_type": "subslide"
    }
   },
   "outputs": [
    {
     "ename": "NameError",
     "evalue": "name 'zld_main' is not defined",
     "output_type": "error",
     "traceback": [
      "\u001b[0;31m---------------------------------------------------------------------------\u001b[0m",
      "\u001b[0;31mNameError\u001b[0m                                 Traceback (most recent call last)",
      "Cell \u001b[0;32mIn[8], line 1\u001b[0m\n\u001b[0;32m----> 1\u001b[0m m \u001b[38;5;241m=\u001b[39m \u001b[43mzld_main\u001b[49m(\n\u001b[1;32m      2\u001b[0m         ro_recovery \u001b[38;5;241m=\u001b[39m \u001b[38;5;241m0.8\u001b[39m,\n\u001b[1;32m      3\u001b[0m         md_water_recovery \u001b[38;5;241m=\u001b[39m \u001b[38;5;241m0.78\u001b[39m,\n\u001b[1;32m      4\u001b[0m         nacl_recovery_price \u001b[38;5;241m=\u001b[39m \u001b[38;5;241m0\u001b[39m,\n\u001b[1;32m      5\u001b[0m         heat_price \u001b[38;5;241m=\u001b[39m \u001b[38;5;241m0.00894\u001b[39m,\n\u001b[1;32m      6\u001b[0m         electricity_price \u001b[38;5;241m=\u001b[39m \u001b[38;5;241m0.04989\u001b[39m,\n\u001b[1;32m      7\u001b[0m         grid_frac_heat \u001b[38;5;241m=\u001b[39m \u001b[38;5;241m0.5\u001b[39m,\n\u001b[1;32m      8\u001b[0m         cost_per_total_aperture_area \u001b[38;5;241m=\u001b[39m \u001b[38;5;241m297\u001b[39m,\n\u001b[1;32m      9\u001b[0m         cost_per_storage_capital \u001b[38;5;241m=\u001b[39m \u001b[38;5;241m93\u001b[39m,\n\u001b[1;32m     10\u001b[0m         cost_per_watt_installed \u001b[38;5;241m=\u001b[39m \u001b[38;5;241m1.6\u001b[39m\n\u001b[1;32m     11\u001b[0m         )\n",
      "\u001b[0;31mNameError\u001b[0m: name 'zld_main' is not defined"
     ]
    }
   ],
   "source": []
  },
  {
   "cell_type": "code",
   "execution_count": null,
   "id": "4df2c14d",
   "metadata": {
    "scrolled": true
   },
   "outputs": [],
   "source": [
    "# Analysis results:\n",
    "# Compare MLD and ZLD treatment trains : \n",
    "# Stacked bar plot: RO, RO+MLD, RO+ZLD, Fixed RO recovery\n",
    "# LCOW sweeps : DWI cost"
   ]
  },
  {
   "cell_type": "markdown",
   "id": "4af0c6ea",
   "metadata": {
    "slideshow": {
     "slide_type": "slide"
    }
   },
   "source": [
    "Future Capabilities"
   ]
  },
  {
   "cell_type": "code",
   "execution_count": null,
   "id": "d9ca3446",
   "metadata": {
    "scrolled": true,
    "slideshow": {
     "slide_type": "subslide"
    }
   },
   "outputs": [],
   "source": [
    "PV-RO"
   ]
  },
  {
   "cell_type": "code",
   "execution_count": null,
   "id": "fc53b6ee",
   "metadata": {
    "scrolled": true,
    "slideshow": {
     "slide_type": "subslide"
    }
   },
   "outputs": [],
   "source": [
    "Multiperiod MD"
   ]
  },
  {
   "cell_type": "markdown",
   "id": "db5bf61a",
   "metadata": {
    "slideshow": {
     "slide_type": "subslide"
    }
   },
   "source": [
    "#TODO\n",
    "1. K-RPT1 flowsheet\n",
    "2. K-MLD flowsheet\n",
    "3. K-ZLD flowsheet\n",
    "4. Decided analysis-\n",
    "5. Walk through surrogate model development - \n",
    "\n"
   ]
  }
 ],
 "metadata": {
  "celltoolbar": "Slideshow",
  "kernelspec": {
   "display_name": "watertap-reflo",
   "language": "python",
   "name": "python3"
  },
  "language_info": {
   "codemirror_mode": {
    "name": "ipython",
    "version": 3
   },
   "file_extension": ".py",
   "mimetype": "text/x-python",
   "name": "python",
   "nbconvert_exporter": "python",
   "pygments_lexer": "ipython3",
   "version": "3.10.13"
  }
 },
 "nbformat": 4,
 "nbformat_minor": 5
}
