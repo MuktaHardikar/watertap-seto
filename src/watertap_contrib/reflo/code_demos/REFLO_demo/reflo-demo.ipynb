{
 "cells": [
  {
   "cell_type": "code",
   "execution_count": null,
   "id": "586296b8",
   "metadata": {
    "slideshow": {
     "slide_type": "skip"
    }
   },
   "outputs": [],
   "source": [
    "# Treatment train - RO (RPT1)\n",
    "# Power consumption vs recovery\n",
    "# PV surrogate model\n",
    "# Show PV+RO results :  We want higher recovery\n",
    "# RPT-ZLD\n",
    "# Show functions adding MD and MEC to flowsheet\n",
    "# MD has high thermal energy requirements (show plots # agg heat and electricity sweep)\n",
    "# Build CST surrogate\n",
    "# Present the results % solar energy sweep"
   ]
  },
  {
   "cell_type": "code",
   "execution_count": null,
   "id": "462cf9b0",
   "metadata": {
    "scrolled": false,
    "slideshow": {
     "slide_type": "skip"
    }
   },
   "outputs": [],
   "source": [
    "# Relevant Imports\n",
    "from IPython.display import Image, HTML, clear_output\n",
    "import matplotlib.pyplot as plt\n",
    "import matplotlib.image as mpimg\n",
    "\n",
    "from notebook.services.config import ConfigManager\n",
    "\n",
    "cm = ConfigManager()\n",
    "cm.update(\n",
    "    \"livereveal\",\n",
    "    {\n",
    "        \"width\": 1400,\n",
    "        \"height\": 768,\n",
    "        \"scroll\": True,\n",
    "    },\n",
    ")"
   ]
  },
  {
   "cell_type": "code",
   "execution_count": null,
   "id": "8e486622",
   "metadata": {
    "slideshow": {
     "slide_type": "skip"
    }
   },
   "outputs": [],
   "source": [
    "import pandas as pd\n",
    "from IPython.display import clear_output\n",
    "import matplotlib.pyplot as plt\n",
    "\n",
    "from watertap.core.util.model_diagnostics.infeasible import *\n",
    "from watertap.core.util.initialization import *\n",
    "\n",
    "from pyomo.environ import ConcreteModel, assert_optimal_termination\n",
    "from pyomo.util.calc_var_value import calculate_variable_from_constraint as cvc\n",
    "\n",
    "from idaes.core import FlowsheetBlock, UnitModelCostingBlock\n",
    "from idaes.core.util.model_statistics import *\n",
    "\n",
    "from watertap.core.solvers import get_solver\n",
    "\n",
    "from watertap_contrib.reflo.code_demos.REFLO_demo.flowsheets.sweep_functions.results_dict import *\n",
    "from pyomo.environ import (\n",
    "    value,\n",
    ")\n",
    "\n",
    "from idaes.core.util.model_statistics import degrees_of_freedom\n",
    "\n",
    "from IPython.display import clear_output\n",
    "from watertap_contrib.reflo.flowsheets.KBHDP import *\n",
    "\n",
    "plt.rcParams[\"axes.labelsize\"] = 12\n",
    "plt.rcParams[\"axes.titlesize\"] = 14\n",
    "\n",
    "cwd = %pwd\n",
    "\n",
    "solver = get_solver()"
   ]
  },
  {
   "cell_type": "code",
   "execution_count": null,
   "id": "9f4c3270",
   "metadata": {
    "slideshow": {
     "slide_type": "skip"
    }
   },
   "outputs": [],
   "source": [
    "def pv_plots(m):\n",
    "    rd = build_results_dict(m)\n",
    "\n",
    "    electricity_annual_model = list()\n",
    "    electricity_annual_error = list()\n",
    "    electricity_annual_error_rel = list()\n",
    "\n",
    "    land_req_model = list()\n",
    "    land_req_error = list()\n",
    "    land_req_error_rel = list()\n",
    "\n",
    "    for row in m.fs.pv.data.iterrows():\n",
    "        m.fs.pv.system_capacity.fix(row[1].system_capacity)\n",
    "\n",
    "        results = solver.solve(m, tee=False)\n",
    "        assert_optimal_termination(results)\n",
    "        electricity_annual_model.append(value(m.fs.pv.electricity_annual))\n",
    "        electricity_annual_error.append(\n",
    "            value(m.fs.pv.electricity_annual) - row[1].electricity_annual\n",
    "        )\n",
    "        electricity_annual_error_rel.append(\n",
    "            100\n",
    "            * (value(m.fs.pv.electricity_annual) - row[1].electricity_annual)\n",
    "            / row[1].electricity_annual\n",
    "        )\n",
    "        land_req_model.append(value(m.fs.pv.land_req))\n",
    "        land_req_error.append(value(m.fs.pv.land_req) - row[1].land_req)\n",
    "        land_req_error_rel.append(\n",
    "            100 * (value(m.fs.pv.land_req) - row[1].land_req) / row[1].land_req\n",
    "        )\n",
    "    #     rd = results_dict_append(m, rd)\n",
    "    fig, axs = plt.subplots(nrows=2, ncols=2, figsize=(9, 7))\n",
    "    axs[0][0].scatter(\n",
    "        m.fs.pv.data.electricity_annual,\n",
    "        electricity_annual_model,\n",
    "        marker=\"x\",\n",
    "    )\n",
    "    axs[0][0].plot(\n",
    "        [0, max(m.fs.pv.data.electricity_annual)],\n",
    "        [0, max(m.fs.pv.data.electricity_annual)],\n",
    "        color=\"black\",\n",
    "        linestyle=\"--\",\n",
    "    )\n",
    "    axs[0][0].set(\n",
    "        xlabel=\"Electrical Energy Generated (Data)\",\n",
    "        ylabel=\"Electrical Energy Generated (REFLO)\",\n",
    "    )\n",
    "\n",
    "    axs[0][1].scatter(\n",
    "        m.fs.pv.data.electricity_annual,\n",
    "        electricity_annual_error_rel,\n",
    "        marker=\"x\",\n",
    "        color=\"k\",\n",
    "    )\n",
    "    axs[0][1].plot(\n",
    "        m.fs.pv.data.electricity_annual,\n",
    "        [0 for _ in m.fs.pv.data.electricity_annual],\n",
    "        color=\"black\",\n",
    "        linestyle=\"--\",\n",
    "    )\n",
    "    axs[0][1].set(xlabel=\"Electrical Energy Generated (Data)\", ylabel=\"% Error\")\n",
    "\n",
    "    axs[1][0].scatter(\n",
    "        m.fs.pv.data.land_req,\n",
    "        land_req_model,\n",
    "        color=\"red\",\n",
    "        marker=\"x\",\n",
    "    )\n",
    "    axs[1][0].plot(\n",
    "        [0, max(m.fs.pv.data.land_req)],\n",
    "        [0, max(m.fs.pv.data.land_req)],\n",
    "        color=\"black\",\n",
    "        linestyle=\"--\",\n",
    "    )\n",
    "    axs[1][0].set(xlabel=\"Land Required (Data)\", ylabel=\"Land Required (WaterTAP)\")\n",
    "\n",
    "    axs[1][1].scatter(m.fs.pv.data.land_req, land_req_error_rel, marker=\"x\", color=\"k\")\n",
    "    axs[1][1].plot(\n",
    "        m.fs.pv.data.land_req,\n",
    "        [0 for _ in m.fs.pv.data.land_req],\n",
    "        color=\"black\",\n",
    "        linestyle=\"--\",\n",
    "    )\n",
    "    axs[1][1].set(xlabel=\"Land Required (Data)\", ylabel=\"% Error\")\n",
    "    fig.tight_layout()"
   ]
  },
  {
   "cell_type": "code",
   "execution_count": null,
   "id": "d35d0eb1",
   "metadata": {
    "slideshow": {
     "slide_type": "skip"
    }
   },
   "outputs": [],
   "source": [
    "def cst_plots(m):\n",
    "    heat_annual_model = list()\n",
    "    heat_annual_error = list()\n",
    "    heat_annual_error_rel = list()\n",
    "\n",
    "    electricity_annual_model = list()\n",
    "    electricity_annual_error = list()\n",
    "    electricity_annual_error_rel = list()\n",
    "\n",
    "    for row in m.fs.cst.data.iterrows():\n",
    "\n",
    "        m.fs.cst.system_capacity.fix(row[1].system_capacity)\n",
    "        m.fs.cst.hours_storage.fix(row[1].hours_storage)\n",
    "        m.fs.cst.temperature_loop.set_value(row[1].temperature_loop)\n",
    "        m.fs.cst.initialize()\n",
    "\n",
    "        try:\n",
    "            results = solver.solve(m, tee=False)\n",
    "        except:\n",
    "            print_infeasible_constraints(m)\n",
    "            assert False\n",
    "        assert_optimal_termination(results)\n",
    "        heat_annual_model.append(value(m.fs.cst.heat_annual))\n",
    "        electricity_annual_model.append(value(m.fs.cst.electricity_annual))\n",
    "        heat_annual_error.append(value(m.fs.cst.heat_annual) - row[1].heat_annual)\n",
    "        electricity_annual_error.append(\n",
    "            value(m.fs.cst.electricity_annual) - row[1].electricity_annual\n",
    "        )\n",
    "        heat_annual_error_rel.append(\n",
    "            100\n",
    "            * (value(m.fs.cst.heat_annual) - row[1].heat_annual)\n",
    "            / row[1].heat_annual\n",
    "        )\n",
    "        electricity_annual_error_rel.append(\n",
    "            100\n",
    "            * (value(m.fs.cst.electricity_annual) - row[1].electricity_annual)\n",
    "            / row[1].electricity_annual\n",
    "        )\n",
    "    #         rd = results_dict_append(m, rd)\n",
    "\n",
    "    fig, axs = plt.subplots(nrows=2, ncols=2, figsize=(9, 7))\n",
    "    axs[0][0].scatter(\n",
    "        m.fs.cst.data.heat_annual,\n",
    "        heat_annual_model,\n",
    "        label=\"Heat Annual Model\",\n",
    "        marker=\"x\",\n",
    "    )\n",
    "    axs[0][0].plot(\n",
    "        [0, max(m.fs.cst.data.heat_annual)],\n",
    "        [0, max(m.fs.cst.data.heat_annual)],\n",
    "        color=\"black\",\n",
    "        linestyle=\"--\",\n",
    "    )\n",
    "    axs[0][0].set(\n",
    "        xlabel=\"Thermal Energy Generated (Data)\",\n",
    "        ylabel=\"Thermal Energy Generated (WaterTAP)\",\n",
    "    )\n",
    "\n",
    "    axs[0][1].scatter(\n",
    "        m.fs.cst.data.heat_annual, heat_annual_error_rel, marker=\"x\", color=\"k\"\n",
    "    )\n",
    "    axs[0][1].plot(\n",
    "        m.fs.cst.data.heat_annual,\n",
    "        [0 for _ in m.fs.cst.data.heat_annual],\n",
    "        color=\"black\",\n",
    "        linestyle=\"--\",\n",
    "    )\n",
    "    axs[0][1].set(xlabel=\"Annual Heat Energy (Data)\", ylabel=\"% Error\")\n",
    "    axs[1][0].scatter(\n",
    "        m.fs.cst.data.electricity_annual,\n",
    "        electricity_annual_model,\n",
    "        color=\"red\",\n",
    "        marker=\"x\",\n",
    "    )\n",
    "    axs[1][0].plot(\n",
    "        [0, max(m.fs.cst.data.electricity_annual)],\n",
    "        [0, max(m.fs.cst.data.electricity_annual)],\n",
    "        color=\"black\",\n",
    "        linestyle=\"--\",\n",
    "    )\n",
    "    axs[1][0].set(\n",
    "        xlabel=\"Electric Power Consumed (Data)\",\n",
    "        ylabel=\"Electric Power Consumed (WaterTAP)\",\n",
    "    )\n",
    "\n",
    "    axs[1][1].scatter(\n",
    "        m.fs.cst.data.electricity_annual,\n",
    "        heat_annual_error_rel,\n",
    "        label=\"Electricity Annual Model\",\n",
    "        marker=\"x\",\n",
    "        color=\"k\",\n",
    "    )\n",
    "    axs[1][1].plot(\n",
    "        m.fs.cst.data.electricity_annual,\n",
    "        [0 for _ in m.fs.cst.data.electricity_annual],\n",
    "        label=\"Electricity Annual Model\",\n",
    "        color=\"black\",\n",
    "        linestyle=\"--\",\n",
    "    )\n",
    "    axs[1][1].set(xlabel=\"Electric Power Consumed (Data)\", ylabel=\"% Error\")\n",
    "    fig.tight_layout()"
   ]
  },
  {
   "cell_type": "markdown",
   "id": "920706d4",
   "metadata": {
    "slideshow": {
     "slide_type": "slide"
    }
   },
   "source": [
    "<h1>Demonstration of WaterTAP-REFLO Framework</h1>"
   ]
  },
  {
   "cell_type": "markdown",
   "id": "2da4827e",
   "metadata": {
    "slideshow": {
     "slide_type": "subslide"
    }
   },
   "source": [
    "<div \n",
    "    style=\n",
    "     \"max-height:800px; \n",
    "      overflow-y: auto;\">\n",
    "    \n",
    "Contents:\n",
    "<ul>     \n",
    "<li>Structure of a flowsheet in WaterTAP-REFLO</li>\n",
    "<li>Comparison of treatment trains</li>   \n",
    "<ul>    \n",
    "    <li>Reverse osmosis treatment train</li>\n",
    "    <li>Reverse osmosis treatment train with photovoltaic system</li>\n",
    "    <li>Reverse osmosis with thermal desalination to achieve zero-liquid discharge</li>  \n",
    "</ul>     \n",
    "<li>Creating solar surrogate models</li>\n",
    "    \n",
    "</div>"
   ]
  },
  {
   "cell_type": "markdown",
   "id": "68c5a7cd",
   "metadata": {
    "slideshow": {
     "slide_type": "slide"
    }
   },
   "source": [
    "Treatment flowsheet workflow in WaterTAP-REFLO"
   ]
  },
  {
   "cell_type": "markdown",
   "id": "08123f1e",
   "metadata": {
    "slideshow": {
     "slide_type": "subslide"
    }
   },
   "source": [
    "Step 1: Build the Treatment Flowsheet <br>\n",
    "The Treatment costing package can be used to optimize the water treatment design and LCOW\n",
    "<img src=\"figures/slides/Slide1.jpeg\" width=1200 height=1200>"
   ]
  },
  {
   "cell_type": "markdown",
   "id": "36605f9b",
   "metadata": {
    "slideshow": {
     "slide_type": "subslide"
    }
   },
   "source": [
    "Step 2: Add the Energy Components to the Flowsheet <br>\n",
    "The Energy costing package can be used to determine the annual energy generation\n",
    "<img src=\"figures/slides/Slide2.jpeg\" width=1200 height=1200>"
   ]
  },
  {
   "cell_type": "markdown",
   "id": "458c22e2",
   "metadata": {
    "slideshow": {
     "slide_type": "subslide"
    }
   },
   "source": [
    "Step 3: Add The REFLOSystem Costing package <br>\n",
    "This connects the energy demand of the Water Treatment System to the Energy System \n",
    "to optimize the for a LCOT with energy integration\n",
    "\n",
    "<center><img src=\"figures/slides/slide3.jpeg\" width=1000 height=1000>"
   ]
  },
  {
   "cell_type": "markdown",
   "id": "a3acb314",
   "metadata": {
    "slideshow": {
     "slide_type": "subslide"
    }
   },
   "source": [
    "The REFLOSystem Costing Package essential balances energy demand of the Water Treatment System with grid or renewable energy technologies\n",
    "<center><img src=\"figures/slides/slide4.jpeg\" width=1000 height=1000>"
   ]
  },
  {
   "cell_type": "markdown",
   "id": "9284fc03",
   "metadata": {
    "slideshow": {
     "slide_type": "slide"
    }
   },
   "source": [
    "Reverse Osmosis Treatment System"
   ]
  },
  {
   "cell_type": "markdown",
   "id": "94f2901d",
   "metadata": {
    "slideshow": {
     "slide_type": "subslide"
    }
   },
   "source": [
    "<center><img src=\"figures/slides/slide7.jpeg\" width=1000 height=1000><center>"
   ]
  },
  {
   "cell_type": "markdown",
   "id": "ca44dd7c",
   "metadata": {
    "slideshow": {
     "slide_type": "subslide"
    }
   },
   "source": [
    "Code Snippet of RO Flowsheet"
   ]
  },
  {
   "cell_type": "code",
   "execution_count": null,
   "id": "9f598ff4",
   "metadata": {
    "slideshow": {
     "slide_type": "fragment"
    }
   },
   "outputs": [],
   "source": [
    "from watertap_contrib.reflo.code_demos.REFLO_demo.flowsheets.demo_kbhdp_ro import *\n",
    "\n",
    "\n",
    "def build_demo_ro_system():\n",
    "    m = ConcreteModel()\n",
    "    m.db = REFLODatabase()\n",
    "    m.fs = FlowsheetBlock(dynamic=False)\n",
    "\n",
    "    # Define solutes of interest to track in the system\n",
    "    m.fs.MCAS_properties = MCASParameterBlock(\n",
    "        solute_list=[\n",
    "            \"Alkalinity_2-\",\n",
    "            \"Ca_2+\",\n",
    "            \"Cl_-\",\n",
    "            \"Mg_2+\",\n",
    "            \"K_+\",\n",
    "            \"SiO2\",\n",
    "            \"Na_+\",\n",
    "            \"SO4_2-\",\n",
    "        ],\n",
    "        material_flow_basis=MaterialFlowBasis.mass,\n",
    "    )\n",
    "\n",
    "    # Define other property packages\n",
    "    m.fs.RO_properties = NaClParameterBlock()\n",
    "    m.fs.UF_properties = WaterParameterBlock(solute_list=[\"tds\", \"tss\"])\n",
    "\n",
    "    # Build treatment units\n",
    "    build_treatment(m)\n",
    "\n",
    "    # Connect flow across treatment units\n",
    "    add_connections(m)\n",
    "\n",
    "    # Add water recovery and other constraints\n",
    "    add_constraints(m)\n",
    "\n",
    "    # Set operating conditions for treatment units\n",
    "    set_treatment_operating_conditions(m)\n",
    "\n",
    "    # Scale initialize treatment units\n",
    "    apply_scaling(m)\n",
    "    init_system(m)\n",
    "\n",
    "    # Add costing for treatment units\n",
    "    add_treatment_costing(m.fs.treatment)\n",
    "\n",
    "    # Optimize the RO system\n",
    "    optimize_system(\n",
    "        m,\n",
    "        ro_mem_area=20000,\n",
    "        fixed_pressure=None,\n",
    "        water_recovery=0.8,\n",
    "        grid_frac=None,\n",
    "        elec_price=None,\n",
    "    )\n",
    "\n",
    "    # Solve!\n",
    "    results = solve(m)\n",
    "    assert_optimal_termination(results)\n",
    "\n",
    "    return m"
   ]
  },
  {
   "cell_type": "markdown",
   "id": "ce1de726",
   "metadata": {
    "slideshow": {
     "slide_type": "subslide"
    }
   },
   "source": [
    "RO Recovery Sweep\n",
    "\n",
    "<img src=\"figures/results/kbhdp-ro-recovery-sweep.png\" width=45% style=\"display:inline-block;\"/> \n",
    "<img src=\"figures/results/kbhdp-ro-energy.png\" width=45% style=\"display:inline-block;\"/>"
   ]
  },
  {
   "cell_type": "markdown",
   "id": "2c85c5e2",
   "metadata": {
    "slideshow": {
     "slide_type": "slide"
    }
   },
   "source": [
    "Surrogate Models for Solar Energy"
   ]
  },
  {
   "cell_type": "markdown",
   "id": "9034829f",
   "metadata": {
    "slideshow": {
     "slide_type": "subslide"
    }
   },
   "source": [
    "PySAM surrogates are built to meet the annual energy consumption of treatment system\n",
    "\n",
    "<center><img src=\"figures/slides/slide5.jpeg\" width=50% style=\"display:inline-block;\"/> \n",
    "    \n",
    "1. Weather file\n",
    "2. Energy demand range of treatment system\n",
    "3. Determine the inputs to PySAM model. Eg. System capacity, hours of storage, operating temperature etc.\n",
    "4. Run PySAM for range of input\n",
    "5. Create surrogate using outputs such as annual heat/electricity from PySAM in WaterTAP-REFLO"
   ]
  },
  {
   "cell_type": "markdown",
   "id": "3a8bcd10",
   "metadata": {
    "slideshow": {
     "slide_type": "subslide"
    }
   },
   "source": [
    "PV Surrogate: Users can decide the input to the surrogate model\n",
    "\n",
    "<center><img src=\"figures/slides/slide13.jpeg\" width=\"80%\" style=\"display:inline-block;\"/><center>"
   ]
  },
  {
   "cell_type": "markdown",
   "id": "1bae8ba2",
   "metadata": {
    "slideshow": {
     "slide_type": "subslide"
    }
   },
   "source": [
    "Generate data"
   ]
  },
  {
   "cell_type": "code",
   "execution_count": null,
   "id": "4b60fee8",
   "metadata": {
    "slideshow": {
     "slide_type": "fragment"
    }
   },
   "outputs": [],
   "source": [
    "import numpy as np\n",
    "from watertap_contrib.reflo.solar_models.surrogate import generate_pv_data\n",
    "\n",
    "weather_file = \"el_paso_texas-KBHDP-weather.csv\" \n",
    "\n",
    "pv_data = generate_pv_data(\n",
    "    system_capacities=np.linspace(100, 1500, 100),\n",
    "    pysam_model_config=\"FlatPlatePVSingleOwner\",\n",
    "    save_data=True,\n",
    "    use_multiprocessing=True,\n",
    "    processes=8,\n",
    "    dataset_filename=\"pv_surrogate_data.pkl\",\n",
    "    weather_file=weather_file,\n",
    "    tech_config_file=None,\n",
    "    grid_config_file=None,\n",
    "    rate_config_file=None,\n",
    "    cash_config_file=None,\n",
    ")\n",
    "clear_output(wait=False)"
   ]
  },
  {
   "cell_type": "markdown",
   "id": "8b0ee837",
   "metadata": {
    "slideshow": {
     "slide_type": "subslide"
    }
   },
   "source": [
    "Build PV Surrogate"
   ]
  },
  {
   "cell_type": "code",
   "execution_count": null,
   "id": "56ef5758",
   "metadata": {
    "slideshow": {
     "slide_type": "fragment"
    }
   },
   "outputs": [],
   "source": [
    "from watertap_contrib.reflo.solar_models.surrogate.pv import PVSurrogate\n",
    "\n",
    "input_variables = {\n",
    "    \"labels\": [\"system_capacity\"],\n",
    "    \"bounds\": {\"system_capacity\": [100, 1000]},\n",
    "    \"units\": {\"system_capacity\": \"kW\"},\n",
    "}\n",
    "output_variables = {\n",
    "    \"labels\": [\"electricity_annual\", \"land_req\"],\n",
    "    \"units\": {\"electricity_annual\": \"kWh/year\", \"land_req\": \"acre\"},\n",
    "}\n",
    "m = ConcreteModel()\n",
    "m.fs = FlowsheetBlock(dynamic=False)\n",
    "\n",
    "m.fs.pv = PVSurrogate(\n",
    "    dataset_filename=\"pv_surrogate_data.pkl\",\n",
    "    input_variables=input_variables,\n",
    "    output_variables=output_variables,\n",
    "    scale_training_data=False,\n",
    "    surrogate_filename_save=\"pv_surrogate_model.json\",\n",
    "    # surrogate_model_file=\"pv_surrogate_model.json\",\n",
    ")\n"
   ]
  },
  {
   "cell_type": "code",
   "execution_count": null,
   "id": "c5252c61",
   "metadata": {
    "slideshow": {
     "slide_type": "subslide"
    }
   },
   "outputs": [],
   "source": [
    "pv_plots(m)"
   ]
  },
  {
   "cell_type": "markdown",
   "id": "a8fde6a3",
   "metadata": {
    "slideshow": {
     "slide_type": "slide"
    }
   },
   "source": [
    "Reverse Osmosis with Energy Integration"
   ]
  },
  {
   "cell_type": "markdown",
   "id": "470ac9d9",
   "metadata": {
    "slideshow": {
     "slide_type": "subslide"
    }
   },
   "source": [
    "Code Snippet with Integration of Solar Energy (PV)"
   ]
  },
  {
   "cell_type": "code",
   "execution_count": null,
   "id": "35e01776",
   "metadata": {
    "slideshow": {
     "slide_type": "fragment"
    }
   },
   "outputs": [],
   "source": [
    "from watertap_contrib.reflo.code_demos.REFLO_demo.flowsheets.demo_kbhdp_ro import *\n",
    "\n",
    "\n",
    "def build_demo_ro_pv_system():\n",
    "\n",
    "    m = build_demo_ro_system()\n",
    "\n",
    "    # Build energy unit models\n",
    "    build_energy(m)\n",
    "\n",
    "    # Set operating conditions for energy units\n",
    "    set_energy_operating_conditions(m)\n",
    "\n",
    "    # Scale energy units\n",
    "    add_pv_scaling(m.fs.energy.pv)\n",
    "\n",
    "    # Add costing for energy units\n",
    "    add_energy_costing(m.fs.energy)\n",
    "\n",
    "    # Add REFLOSystem costing\n",
    "    add_system_costing(m)\n",
    "\n",
    "    optimize_system(\n",
    "        m,\n",
    "        ro_mem_area=20000,\n",
    "        fixed_pressure=None,\n",
    "        water_recovery=0.8,\n",
    "        grid_frac=None,\n",
    "        elec_price=0.15,\n",
    "    )\n",
    "\n",
    "    m.fs.obj = Objective(expr=m.fs.costing.LCOT)\n",
    "\n",
    "    results = solve(m)\n",
    "    assert_optimal_termination(results)\n",
    "\n",
    "    return m\n",
    "\n",
    "\n",
    "m = build_demo_ro_pv_system()\n",
    "\n",
    "clear_output(wait=False)\n",
    "\n",
    "print(f\"LCOT: {value(m.fs.costing.LCOT):.2f} $/m3\")\n",
    "print(f\"LCOW: {value(m.fs.costing.LCOW):.2f} $/m3\")\n",
    "print(f\"PV Size: {value(m.fs.energy.pv.unit.system_capacity)/1000:.2f} MW\")"
   ]
  },
  {
   "cell_type": "markdown",
   "id": "6973a2e9",
   "metadata": {
    "slideshow": {
     "slide_type": "subslide"
    }
   },
   "source": [
    "Sweep across RO water recovery and Solar energy integration\n",
    "\n",
    "<img src=\"figures/results/kbhdp-ro-solar-recovery-sweep.png\" width=45% style=\"display:inline-block;\"/>\n",
    "<img src=\"figures/results/kbhdp-ro-solar-grid-sweep.png\" width=45% style=\"display:inline-block;\"/>"
   ]
  },
  {
   "cell_type": "markdown",
   "id": "24c9c5e1",
   "metadata": {
    "slideshow": {
     "slide_type": "subslide"
    }
   },
   "source": [
    "A sweep across DWI costs highlights its relative importance to other costs\n",
    "\n",
    "<center><img src=\"figures/results/kbhdp-ro-dwi-sweep-2.png\" width=\"50%\"/> "
   ]
  },
  {
   "cell_type": "markdown",
   "id": "516335ba",
   "metadata": {
    "slideshow": {
     "slide_type": "slide"
    }
   },
   "source": [
    "Reverse osmosis with thermal desalination to achieve zero-liquid discharge"
   ]
  },
  {
   "cell_type": "markdown",
   "id": "9bc72c18",
   "metadata": {
    "slideshow": {
     "slide_type": "subslide"
    }
   },
   "source": [
    "<center><img src=\"figures/slides/slide8.jpeg\" width=1000 height=1000><center>"
   ]
  },
  {
   "cell_type": "markdown",
   "id": "a270e07a",
   "metadata": {
    "slideshow": {
     "slide_type": "subslide"
    }
   },
   "source": [
    "Sweep across membrane distillation water recovery - High thermal energy demand\n",
    "\n",
    "<img src=\"figures/results/kbhdp-mld-elec.png\" width=\"32%\" style=\"display:inline-block;\"/>\n",
    "<img src=\"figures/results/kbhdp-mld-heat.png\" width=\"32%\" style=\"display:inline-block;\"/>"
   ]
  },
  {
   "cell_type": "code",
   "execution_count": null,
   "id": "ecee7450",
   "metadata": {
    "slideshow": {
     "slide_type": "skip"
    }
   },
   "outputs": [],
   "source": [
    "# CST surrogate\n",
    "# Users can decide the input to the surrogate model-300C\n",
    "# Net metering and 24h storage of thermal system\n",
    "# Accuracy of surrogate"
   ]
  },
  {
   "cell_type": "markdown",
   "id": "dc5e3e0e",
   "metadata": {
    "slideshow": {
     "slide_type": "slide"
    }
   },
   "source": [
    "Concentrated Solar Thermal/ Trough Surrogate\n",
    "\n",
    "<center><img src=\"figures/slides/slide12.jpeg\" width=\"80%\" style=\"display:inline-block;\"/><center>"
   ]
  },
  {
   "cell_type": "markdown",
   "id": "48ab4dca",
   "metadata": {},
   "source": [
    "# Generate trough data"
   ]
  },
  {
   "cell_type": "code",
   "execution_count": null,
   "id": "a964ca57",
   "metadata": {},
   "outputs": [],
   "source": [
    "import numpy as np\n",
    "from watertap_contrib.reflo.solar_models.surrogate import generate_trough_data\n",
    "\n",
    "weather_file = \"el_paso_texas-KBHDP-weather.csv\"  # Update with path to weather file\n",
    "\n",
    "trough_data = generate_trough_data(\n",
    "    system_capacities=np.linspace(100, 1500, 100),\n",
    "    pysam_model_config=\"FlatPlatePVSingleOwner\",\n",
    "    save_data=True,\n",
    "    use_multiprocessing=True,\n",
    "    processes=8,\n",
    "    dataset_filename=\"pv_surrogate_data.pkl\",\n",
    "    weather_file=weather_file,\n",
    "    tech_config_file=None,\n",
    "    grid_config_file=None,\n",
    "    rate_config_file=None,\n",
    "    cash_config_file=None,\n",
    ")\n",
    "clear_output(wait=False)"
   ]
  },
  {
   "cell_type": "code",
   "execution_count": null,
   "id": "4752a6e7",
   "metadata": {},
   "outputs": [],
   "source": [
    "# import pandas as pd\n",
    "# f = \"/Users/ksitterl/Documents/Python/watertap-reflo/watertap-reflo/src/watertap_contrib/reflo/solar_models/surrogate/trough/data/test_trough_data3.pkl\"\n",
    "# df = pd.read_pickle(f)\n",
    "# df = df[df.temperature_loop == 300].copy()\n",
    "# df = df[df.system_capacity >= 10].copy()\n",
    "# df = df[df.system_capacity <= 50].copy()\n",
    "# f = \"trough_surrogate_data.pkl\"\n",
    "# df.to_pickle(f)"
   ]
  },
  {
   "cell_type": "code",
   "execution_count": null,
   "id": "658af6d1",
   "metadata": {},
   "outputs": [],
   "source": [
    "import numpy as np\n",
    "from watertap_contrib.reflo.solar_models.surrogate import generate_trough_data\n",
    "\n",
    "weather_file = \"el_paso_texas-KBHDP-weather.csv\"\n",
    "\n",
    "# trough_data = generate_trough_data(\n",
    "#     system_capacities=np.linspace(1, 50, 100),\n",
    "#     hours_storages=[3, 12, 24],\n",
    "#     temperatures_loop=[300],\n",
    "#     weather_file=weather_file,\n",
    "#     save_data=True,\n",
    "#     use_multiprocessing=True,\n",
    "#     dataset_filename=\"trough_data.pkl\",\n",
    "# )"
   ]
  },
  {
   "cell_type": "code",
   "execution_count": null,
   "id": "50de9e76",
   "metadata": {},
   "outputs": [],
   "source": [
    "\n",
    "trough_data = pd.read_pickle(\"trough_surrogate_data.pkl\")\n",
    "trough_data"
   ]
  },
  {
   "cell_type": "code",
   "execution_count": null,
   "id": "f4992d94",
   "metadata": {},
   "outputs": [],
   "source": [
    "from watertap_contrib.reflo.solar_models.surrogate.trough.trough_surrogate import (\n",
    "    TroughSurrogate,\n",
    ")\n",
    "input_bounds = dict(\n",
    "    system_capacity=[10, 50],\n",
    "    hours_storage=[12, 24]\n",
    ")\n",
    "input_units = dict(\n",
    "    system_capacity=\"MW\", hours_storage=\"hour\"\n",
    ")\n",
    "input_variables = {\n",
    "    \"labels\": [\"system_capacity\", \"hours_storage\"],\n",
    "    \"units\": input_units,\n",
    "}\n",
    "\n",
    "output_units = dict(\n",
    "    heat_annual=\"kWh/year\",\n",
    "    electricity_annual=\"kWh/year\",\n",
    "    total_aperture_area=\"m**2\",\n",
    ")\n",
    "output_variables = {\n",
    "    \"labels\": [\"heat_annual\", \"electricity_annual\", \"total_aperture_area\"],\n",
    "    \"units\": output_units,\n",
    "}\n",
    "trough_dict = dict(\n",
    "    dataset_filename=\"trough_surrogate_data.pkl\",\n",
    "    input_variables=input_variables,\n",
    "    output_variables=output_variables,\n",
    "    scale_training_data=True,\n",
    ")\n",
    "\n",
    "m = ConcreteModel()\n",
    "m.fs = FlowsheetBlock(dynamic=False)\n",
    "m.fs.cst = TroughSurrogate(**trough_dict)\n",
    "\n"
   ]
  },
  {
   "cell_type": "markdown",
   "id": "6d8e602a",
   "metadata": {
    "slideshow": {
     "slide_type": "subslide"
    }
   },
   "source": [
    "Trough surrogate model"
   ]
  },
  {
   "cell_type": "code",
   "execution_count": null,
   "id": "b596be52",
   "metadata": {
    "slideshow": {
     "slide_type": "subslide"
    }
   },
   "outputs": [],
   "source": [
    "cst_plots(m)"
   ]
  },
  {
   "cell_type": "code",
   "execution_count": null,
   "id": "8767e350",
   "metadata": {
    "slideshow": {
     "slide_type": "fragment"
    }
   },
   "outputs": [],
   "source": [
    "from watertap_contrib.reflo.flowsheets.KBHDP.KBHDP_ZLD import *\n",
    "\n",
    "\n",
    "def build_demo_ro_zld_system(Qin=4, ro_recovery=0.8, md_water_recovery=0.7):\n",
    "\n",
    "    # Build the reverse osmosis flowsheet\n",
    "    m = build_zld_ro(ro_recovery=ro_recovery, Qin=Qin)\n",
    "\n",
    "    # Add the membrane distillation unit model\n",
    "    add_zld_md(m, md_water_recovery=md_water_recovery)\n",
    "\n",
    "    results = solve(m)\n",
    "    assert_optimal_termination(results)\n",
    "\n",
    "    # Add the multi-effect crystallizer unit model\n",
    "    add_zld_mec(m)\n",
    "\n",
    "    # Connect all product streams from the unit models\n",
    "    add_product_stream(m)\n",
    "\n",
    "    # Add energy unit models - PV and CST\n",
    "    build_energy(m)\n",
    "\n",
    "    results = solve(m.fs.treatment.mec)\n",
    "    assert_optimal_termination(results)\n",
    "    results = solve(m)\n",
    "    assert_optimal_termination(results)\n",
    "\n",
    "    # Add treatment costing\n",
    "    add_treatment_costing(m.fs.treatment, heat_price=0, electricity_price=0)\n",
    "    results = solve(m)\n",
    "    assert_optimal_termination(results)\n",
    "\n",
    "    # Add REFLOSystem costing\n",
    "    add_system_costing(m)\n",
    "    m.fs.energy.cst.unit.system_capacity.unfix()\n",
    "    m.fs.energy.pv.unit.system_capacity.unfix()\n",
    "\n",
    "    # Add objective function to optimize the LCOT\n",
    "    m.fs.obj = Objective(expr=m.fs.costing.LCOT)\n",
    "\n",
    "    iscale.calculate_scaling_factors(m)\n",
    "\n",
    "    results = solve(m)\n",
    "    assert_optimal_termination(results)\n",
    "\n",
    "    # Update grid fraction of electricity\n",
    "    m.fs.costing.frac_heat_from_grid.fix(0.9)\n",
    "    m.fs.costing.frac_elec_from_grid.fix(0.5)\n",
    "\n",
    "    results = solve(m)\n",
    "    assert_optimal_termination(results)\n",
    "\n",
    "    # Update grid fraction of heat\n",
    "    m.fs.costing.frac_heat_from_grid.fix(0.5)\n",
    "\n",
    "    # Solve!\n",
    "    results = solve(m)\n",
    "    assert_optimal_termination(results)\n",
    "\n",
    "    return m"
   ]
  },
  {
   "cell_type": "code",
   "execution_count": null,
   "id": "f60bc974",
   "metadata": {},
   "outputs": [],
   "source": []
  },
  {
   "cell_type": "markdown",
   "id": "2c63713b",
   "metadata": {
    "slideshow": {
     "slide_type": "subslide"
    }
   },
   "source": [
    "Sweep across solar integration fraction\n",
    "\n",
    "<img src=\"figures/results/kbhdp-zld-solar-grid-sweep.png\" width=\"35%\" style=\"display:inline-block;\">\n",
    "<img src=\"figures/results/kbhdp_zld_tornado_plots.png\" width=\"55%\" style=\"display:inline-block;\">"
   ]
  }
 ],
 "metadata": {
  "celltoolbar": "Slideshow",
  "kernelspec": {
   "display_name": "watertap-reflo-demo",
   "language": "python",
   "name": "python3"
  },
  "language_info": {
   "codemirror_mode": {
    "name": "ipython",
    "version": 3
   },
   "file_extension": ".py",
   "mimetype": "text/x-python",
   "name": "python",
   "nbconvert_exporter": "python",
   "pygments_lexer": "ipython3",
   "version": "3.10.18"
  }
 },
 "nbformat": 4,
 "nbformat_minor": 5
}
