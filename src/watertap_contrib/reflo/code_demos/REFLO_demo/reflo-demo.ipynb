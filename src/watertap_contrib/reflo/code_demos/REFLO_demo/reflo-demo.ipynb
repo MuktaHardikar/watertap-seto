{
 "cells": [
  {
   "cell_type": "code",
   "execution_count": null,
   "id": "586296b8",
   "metadata": {},
   "outputs": [],
   "source": [
    "# Treatment train - RO (RPT1) \n",
    "    # Power consumption vs recovery\n",
    "# PV surrogate model\n",
    "# Show PV+RO results :  We want higher recovery\n",
    "# RPT-ZLD\n",
    "    # Show functions adding MD and MEC to flowsheet\n",
    "    # MD has high thermal energy requirements (show plots # agg heat and electricity sweep)\n",
    "    # Build CST surrogate\n",
    "    # Present the results % solar energy sweep"
   ]
  },
  {
   "cell_type": "code",
   "execution_count": null,
   "id": "462cf9b0",
   "metadata": {
    "scrolled": false,
    "slideshow": {
     "slide_type": "skip"
    }
   },
   "outputs": [],
   "source": [
    "# Relevant Imports\n",
    "from IPython.display import Image,HTML\n",
    "import matplotlib.pyplot as plt\n",
    "import matplotlib.image as mpimg\n",
    "\n",
    "from notebook.services.config import ConfigManager\n",
    "cm = ConfigManager()\n",
    "cm.update('livereveal', { 'width':1400, 'height': 768, 'scroll': True, })"
   ]
  },
  {
   "cell_type": "code",
   "execution_count": null,
   "id": "20424b35",
   "metadata": {},
   "outputs": [],
   "source": [
    "import pandas as pd\n",
    "import matplotlib.pyplot as plt\n",
    "\n",
    "from watertap.core.util.model_diagnostics.infeasible import *\n",
    "from watertap.core.util.initialization import *\n",
    "\n",
    "from pyomo.environ import (\n",
    "    ConcreteModel,\n",
    "    assert_optimal_termination\n",
    ")\n",
    "from pyomo.util.calc_var_value import calculate_variable_from_constraint as cvc\n",
    "\n",
    "from idaes.core import FlowsheetBlock, UnitModelCostingBlock\n",
    "from idaes.core.util.model_statistics import *\n",
    "\n",
    "from watertap.core.solvers import get_solver\n",
    "\n",
    "from watertap_contrib.reflo.code_demos.REFLO_demo.flowsheets.sweep_functions.results_dict import *\n",
    "from pyomo.environ import (\n",
    "    value,\n",
    ")\n",
    "\n",
    "from idaes.core.util.model_statistics import degrees_of_freedom\n",
    "\n",
    "from IPython.display import clear_output\n",
    "from watertap_contrib.reflo.analysis.case_studies.KBHDP import *\n",
    "\n",
    "plt.rcParams[\"axes.labelsize\"] = 12\n",
    "plt.rcParams[\"axes.titlesize\"] = 14\n",
    "\n",
    "cwd = %pwd\n",
    "\n",
    "solver = get_solver()"
   ]
  },
  {
   "cell_type": "code",
   "execution_count": null,
   "id": "9f4c3270",
   "metadata": {
    "slideshow": {
     "slide_type": "skip"
    }
   },
   "outputs": [],
   "source": [
    "def pv_plots(m):\n",
    "    rd = build_results_dict(m)\n",
    "\n",
    "    electricity_annual_model = list()\n",
    "    electricity_annual_error = list()\n",
    "    electricity_annual_error_rel = list()\n",
    "\n",
    "    land_req_model = list()\n",
    "    land_req_error = list()\n",
    "    land_req_error_rel = list()\n",
    "\n",
    "    for row in m.fs.pv.data.iterrows():\n",
    "        m.fs.pv.design_size.fix(row[1].design_size)\n",
    "\n",
    "        results = solver.solve(m, tee=False)\n",
    "        assert_optimal_termination(results)\n",
    "        electricity_annual_model.append(value(m.fs.pv.annual_energy))\n",
    "        electricity_annual_error.append(value(m.fs.pv.annual_energy) - row[1].annual_energy)\n",
    "        electricity_annual_error_rel.append(\n",
    "            100\n",
    "            * (value(m.fs.pv.annual_energy) - row[1].annual_energy)\n",
    "            / row[1].annual_energy\n",
    "        )\n",
    "        land_req_model.append(value(m.fs.pv.land_req))\n",
    "        land_req_error.append(value(m.fs.pv.land_req) - row[1].land_req)\n",
    "        land_req_error_rel.append(\n",
    "            100 * (value(m.fs.pv.land_req) - row[1].land_req) / row[1].land_req\n",
    "        )\n",
    "    #     rd = results_dict_append(m, rd)\n",
    "    fig, axs = plt.subplots(nrows=2, ncols=2, figsize=(9, 7))\n",
    "    axs[0][0].scatter(\n",
    "        m.fs.pv.data.annual_energy,\n",
    "        electricity_annual_model,\n",
    "        marker=\"x\",\n",
    "    )\n",
    "    axs[0][0].plot(\n",
    "        [0, max(m.fs.pv.data.annual_energy)],\n",
    "        [0, max(m.fs.pv.data.annual_energy)],\n",
    "        color=\"black\",\n",
    "        linestyle=\"--\",\n",
    "    )\n",
    "    axs[0][0].set(\n",
    "        xlabel=\"Electrical Energy Generated (Data)\",\n",
    "        ylabel=\"Electrical Energy Generated (REFLO)\",\n",
    "    )\n",
    "\n",
    "    axs[0][1].scatter(\n",
    "        m.fs.pv.data.annual_energy, electricity_annual_error_rel, marker=\"x\", color=\"k\"\n",
    "    )\n",
    "    axs[0][1].plot(\n",
    "        m.fs.pv.data.annual_energy,\n",
    "        [0 for _ in m.fs.pv.data.annual_energy],\n",
    "        color=\"black\",\n",
    "        linestyle=\"--\",\n",
    "    )\n",
    "    axs[0][1].set(xlabel=\"Electrical Energy Generated (Data)\", ylabel=\"% Error\")\n",
    "\n",
    "    axs[1][0].scatter(\n",
    "        m.fs.pv.data.land_req,\n",
    "        land_req_model,\n",
    "        color=\"red\",\n",
    "        marker=\"x\",\n",
    "    )\n",
    "    axs[1][0].plot(\n",
    "        [0, max(m.fs.pv.data.land_req)],\n",
    "        [0, max(m.fs.pv.data.land_req)],\n",
    "        color=\"black\",\n",
    "        linestyle=\"--\",\n",
    "    )\n",
    "    axs[1][0].set(xlabel=\"Land Required (Data)\", ylabel=\"Land Required (WaterTAP)\")\n",
    "\n",
    "    axs[1][1].scatter(m.fs.pv.data.land_req, land_req_error_rel, marker=\"x\", color=\"k\")\n",
    "    axs[1][1].plot(\n",
    "        m.fs.pv.data.land_req,\n",
    "        [0 for _ in m.fs.pv.data.land_req],\n",
    "        color=\"black\",\n",
    "        linestyle=\"--\",\n",
    "    )\n",
    "    axs[1][1].set(xlabel=\"Land Required (Data)\", ylabel=\"% Error\")\n",
    "    fig.tight_layout()"
   ]
  },
  {
   "cell_type": "code",
   "execution_count": null,
   "id": "d35d0eb1",
   "metadata": {
    "slideshow": {
     "slide_type": "skip"
    }
   },
   "outputs": [],
   "source": [
    "def cst_plots(m):\n",
    "    heat_annual_model = list()\n",
    "    heat_annual_error = list()\n",
    "    heat_annual_error_rel = list()\n",
    "\n",
    "    electricity_annual_model = list()\n",
    "    electricity_annual_error = list()\n",
    "    electricity_annual_error_rel = list()\n",
    "\n",
    "    for row in m.fs.cst.data.iterrows():\n",
    "\n",
    "        m.fs.cst.heat_load.fix(row[1].heat_load)\n",
    "        m.fs.cst.hours_storage.fix(row[1].hours_storage)\n",
    "        m.fs.cst.initialize()\n",
    "\n",
    "        try:\n",
    "            results = solver.solve(m, tee=False)\n",
    "        except:\n",
    "            print_infeasible_constraints(m)\n",
    "            assert False\n",
    "        assert_optimal_termination(results)\n",
    "        heat_annual_model.append(value(m.fs.cst.heat_annual))\n",
    "        electricity_annual_model.append(value(m.fs.cst.electricity_annual))\n",
    "        heat_annual_error.append(value(m.fs.cst.heat_annual) - row[1].heat_annual)\n",
    "        electricity_annual_error.append(\n",
    "            value(m.fs.cst.electricity_annual) - row[1].electricity_annual\n",
    "        )\n",
    "        heat_annual_error_rel.append(\n",
    "            100 * (value(m.fs.cst.heat_annual) - row[1].heat_annual) / row[1].heat_annual\n",
    "        )\n",
    "        electricity_annual_error_rel.append(\n",
    "            100\n",
    "            * (value(m.fs.cst.electricity_annual) - row[1].electricity_annual)\n",
    "            / row[1].electricity_annual\n",
    "        )\n",
    "#         rd = results_dict_append(m, rd)\n",
    "\n",
    "    fig, axs = plt.subplots(nrows=2, ncols=2, figsize=(9, 7))\n",
    "    axs[0][0].scatter(\n",
    "        m.fs.cst.data.heat_annual,\n",
    "        heat_annual_model,\n",
    "        label=\"Heat Annual Model\",\n",
    "        marker=\"x\",\n",
    "    )\n",
    "    axs[0][0].plot(\n",
    "        [0, max(m.fs.cst.data.heat_annual)],\n",
    "        [0, max(m.fs.cst.data.heat_annual)],\n",
    "        color=\"black\",\n",
    "        linestyle=\"--\",\n",
    "    )\n",
    "    axs[0][0].set(\n",
    "        xlabel=\"Thermal Energy Generated (Data)\",\n",
    "        ylabel=\"Thermal Energy Generated (WaterTAP)\",\n",
    "    )\n",
    "\n",
    "    axs[0][1].scatter(\n",
    "        m.fs.cst.data.heat_annual, heat_annual_error_rel, marker=\"x\", color=\"k\"\n",
    "    )\n",
    "    axs[0][1].plot(\n",
    "        m.fs.cst.data.heat_annual,\n",
    "        [0 for _ in m.fs.cst.data.heat_annual],\n",
    "        color=\"black\",\n",
    "        linestyle=\"--\",\n",
    "    )\n",
    "    axs[0][1].set(xlabel=\"Annual Heat Energy (Data)\", ylabel=\"% Error\")\n",
    "    axs[1][0].scatter(\n",
    "        m.fs.cst.data.electricity_annual,\n",
    "        electricity_annual_model,\n",
    "        color=\"red\",\n",
    "        marker=\"x\",\n",
    "    )\n",
    "    axs[1][0].plot(\n",
    "        [0, max(m.fs.cst.data.electricity_annual)],\n",
    "        [0, max(m.fs.cst.data.electricity_annual)],\n",
    "        color=\"black\",\n",
    "        linestyle=\"--\",\n",
    "    )\n",
    "    axs[1][0].set(\n",
    "        xlabel=\"Electric Power Consumed (Data)\", ylabel=\"Electric Power Consumed (WaterTAP)\"\n",
    "    )\n",
    "\n",
    "    axs[1][1].scatter(\n",
    "        m.fs.cst.data.electricity_annual,\n",
    "        heat_annual_error_rel,\n",
    "        label=\"Electricity Annual Model\",\n",
    "        marker=\"x\",\n",
    "        color=\"k\",\n",
    "    )\n",
    "    axs[1][1].plot(\n",
    "        m.fs.cst.data.electricity_annual,\n",
    "        [0 for _ in m.fs.cst.data.electricity_annual],\n",
    "        label=\"Electricity Annual Model\",\n",
    "        color=\"black\",\n",
    "        linestyle=\"--\",\n",
    "    )\n",
    "    axs[1][1].set(xlabel=\"Electric Power Consumed (Data)\", ylabel=\"% Error\")\n",
    "    fig.tight_layout()"
   ]
  },
  {
   "cell_type": "markdown",
   "id": "ea172264",
   "metadata": {
    "slideshow": {
     "slide_type": "skip"
    }
   },
   "source": [
    "Intro\n",
    "- basic WaterTAP stuff\n",
    "- touch on the compoenents of WaterTAP?\n",
    " \n",
    "Figure of RPT1 flowsheet\n",
    " \n",
    "RPT1\n",
    " \n",
    "RPT1 - recovery sweep; get power demand\n",
    " \n",
    "RPT1 - build PV surrogate based on power demand and RE fraction desired\n",
    " \n",
    "Break for PV surrogate\n",
    " \n",
    "Show Summary of this system\n",
    "- recovery fraction, and final brine concentration\n",
    "- cost metrics (LCOW, SEC)\n",
    "- energy costs\n",
    "- stacked plot\n",
    " \n",
    "Figure of MLD flowsheet\n",
    " \n",
    "80% recovery of RO\n",
    " \n",
    "MLD - MD recovery sweep; get thermal power demand\n",
    " \n",
    "MLD - build CST surrogate based on power demand\n",
    " \n",
    "Break for CST surrogate\n",
    " \n",
    "Show Summary of this system\n",
    "- recovery fraction, and final brine concentration\n",
    "- cost metrics (LCOW, SEC)\n",
    "- energy costs\n",
    "- stacked plot\n",
    " \n",
    "Repeat for ZLD\n",
    " \n",
    "Break for CST surrogate\n",
    " \n",
    "Final Product would be summary of the three treatment trains and comparison"
   ]
  },
  {
   "cell_type": "markdown",
   "id": "920706d4",
   "metadata": {
    "slideshow": {
     "slide_type": "slide"
    }
   },
   "source": [
    "<h1>Demonstration of WaterTAP-REFLO Framework</h1>"
   ]
  },
  {
   "cell_type": "markdown",
   "id": "2da4827e",
   "metadata": {
    "slideshow": {
     "slide_type": "subslide"
    }
   },
   "source": [
    "<div \n",
    "    style=\n",
    "     \"max-height:800px; \n",
    "      overflow-y: auto;\">\n",
    "    \n",
    "Contents:\n",
    "<li>WaterTAP-REFLO framework</li>\n",
    "<li>Treatment flowsheet workflow in WaterTAP-REFLO</li>\n",
    "<ul>\n",
    "    <li>Build, optimization and costing with a single unit model\n",
    "    <li>Parameter sweeps and results\n",
    "</ul>\n",
    "    \n",
    "<li>Build example analysis flowsheet energy</li>\n",
    "<ul>\n",
    "    <li>Build a complete treatment flowsheet\n",
    "    <li>Build solar surrogate    \n",
    "    <li>Integrate solar energy models\n",
    "    <li>Parameter sweeps and results  \n",
    "</ul>\n",
    "<li>Comparative Analysis</li>\n",
    "</div>"
   ]
  },
  {
   "cell_type": "markdown",
   "id": "3ed5345d",
   "metadata": {
    "slideshow": {
     "slide_type": "slide"
    }
   },
   "source": [
    "WaterTAP-REFLO Framework"
   ]
  },
  {
   "cell_type": "markdown",
   "id": "57ff5dfb",
   "metadata": {
    "slideshow": {
     "slide_type": "fragment"
    }
   },
   "source": [
    "<center><img src=\"figures/slides/slide14.jpeg\" width=1000 height=1000>"
   ]
  },
  {
   "cell_type": "markdown",
   "id": "a3acb314",
   "metadata": {
    "slideshow": {
     "slide_type": "subslide"
    }
   },
   "source": [
    "The REFLOSystem Costing Package essential balances energy demand of the Water Treatment System with grid or renewable energy technologies\n",
    "<center><img src=\"figures/slides/slide4.jpeg\" width=1000 height=1000>"
   ]
  },
  {
   "cell_type": "markdown",
   "id": "08123f1e",
   "metadata": {
    "slideshow": {
     "slide_type": "subslide"
    }
   },
   "source": [
    "The levelized cost of treatment (LCOT) is determined by <br>\n",
    "optimizing the water treatment system size and using the Treatment Costing package\n",
    "<img src=\"figures/slides/slide1.jpeg\" width=1200 height=1200>"
   ]
  },
  {
   "cell_type": "markdown",
   "id": "36605f9b",
   "metadata": {
    "slideshow": {
     "slide_type": "subslide"
    }
   },
   "source": [
    "The Energy System is sized based on the electricity/heat demand\n",
    "and costed <br> using the Energy Costing package\n",
    "<img src=\"figures/slides/slide2.jpeg\" width=1200 height=1200>"
   ]
  },
  {
   "cell_type": "markdown",
   "id": "458c22e2",
   "metadata": {
    "slideshow": {
     "slide_type": "subslide"
    }
   },
   "source": [
    "The REFLOSystem Costing package connects the energy demand\n",
    "of the Water Treatment System to the Energy System \n",
    "to optimize the for a LCOW with energy integration\n",
    "<center><img src=\"figures/slides/slide3.jpeg\" width=1000 height=1000>"
   ]
  },
  {
   "cell_type": "markdown",
   "id": "68c5a7cd",
   "metadata": {
    "slideshow": {
     "slide_type": "slide"
    }
   },
   "source": [
    "Treatment flowsheet workflow in WaterTAP-REFLO"
   ]
  },
  {
   "cell_type": "markdown",
   "id": "f4a90415",
   "metadata": {
    "slideshow": {
     "slide_type": "subslide"
    }
   },
   "source": [
    "Water treatment train to be modeled\n",
    "<left><img src=\"figures/slides/slide6.jpeg\" width=1000 height=1000><left>"
   ]
  },
  {
   "cell_type": "markdown",
   "id": "32ef01c7",
   "metadata": {
    "slideshow": {
     "slide_type": "subslide"
    }
   },
   "source": [
    "1. Import relevant libraries"
   ]
  },
  {
   "cell_type": "markdown",
   "id": "a8fde6a3",
   "metadata": {
    "slideshow": {
     "slide_type": "slide"
    }
   },
   "source": [
    "Build an analysis flowsheet with energy integration"
   ]
  },
  {
   "cell_type": "markdown",
   "id": "94f2901d",
   "metadata": {
    "slideshow": {
     "slide_type": "subslide"
    }
   },
   "source": [
    "<center><img src=\"figures/slides/slide7.jpeg\" width=1000 height=1000><center>"
   ]
  },
  {
   "cell_type": "markdown",
   "id": "1bae8ba2",
   "metadata": {
    "slideshow": {
     "slide_type": "subslide"
    }
   },
   "source": [
    "Code Snippet"
   ]
  },
  {
   "cell_type": "code",
   "execution_count": null,
   "id": "566e4cbc",
   "metadata": {
    "slideshow": {
     "slide_type": "fragment"
    }
   },
   "outputs": [],
   "source": [
    "# Treatment train - RO (RPT1) \n",
    "    # Power consumption vs recovery\n",
    "\n",
    "from watertap_contrib.reflo.code_demos.REFLO_demo.flowsheets.demo_kbhdp_ro import *\n",
    "\n",
    "def demo1_grid_only(\n",
    "        ro_recovery=0.8,\n",
    "        heat_price=0.0,\n",
    "        electricity_price=0.04989,\n",
    "        dwi_lcow=0.58,\n",
    "    ):\n",
    "    '''This is modified for demonstration purposes'''\n",
    "    \n",
    "    #### Add a concrete flowsheet\n",
    "    m = build_demo1_system()\n",
    "\n",
    "    #### Add pretreatment and RO to the flowsheet. \n",
    "    #### This includes all the build, connections, initialization and solve\n",
    "    m = build_kbhdp_ro(m,ro_recovery)\n",
    "\n",
    "    #### Add product and deep well injection\n",
    "    add_product(m)\n",
    "    \n",
    "    #### Treatment costing block\n",
    "    add_treatment_costing(m,heat_price,electricity_price)\n",
    "    \n",
    "    #### Update DWI costing\n",
    "    m.fs.treatment.costing.deep_well_injection.dwi_lcow.set_value(dwi_lcow)\n",
    "    \n",
    "    #### Set objective function\n",
    "    m.fs.lcow_objective = Objective(expr=m.fs.treatment.costing.LCOW)\n",
    "\n",
    "    results = solve(m)\n",
    "    return m\n"
   ]
  },
  {
   "cell_type": "markdown",
   "id": "ce1de726",
   "metadata": {
    "slideshow": {
     "slide_type": "subslide"
    }
   },
   "source": [
    "RO Recovery Sweep\n",
    "\n",
    "<img src=\"figures/results/kbhdp-ro-recovery-sweep.png\" width=45% style=\"display:inline-block;\"/> \n",
    "<img src=\"figures/results/kbhdp-ro-energy.png\" width=45% style=\"display:inline-block;\"/>"
   ]
  },
  {
   "cell_type": "markdown",
   "id": "9034829f",
   "metadata": {
    "slideshow": {
     "slide_type": "subslide"
    }
   },
   "source": [
    "PySAM surrogates are built to meet the annual energy consumption of treatment system\n",
    "\n",
    "<center><img src=\"figures/slides/slide5.jpeg\" width=50% style=\"display:inline-block;\"/> \n",
    "    \n",
    "1. Weather file\n",
    "2. Energy demand range of treatment system\n",
    "3. Determine the inputs to PySAM model. Eg. System capacity, hours of storage, operating temperature etc.\n",
    "4. Run PySAM for range of input\n",
    "5. Create surrogate using outputs such as annual heat/electricity from PySAM in WaterTAP-REFLO"
   ]
  },
  {
   "cell_type": "markdown",
   "id": "3a8bcd10",
   "metadata": {
    "slideshow": {
     "slide_type": "subslide"
    }
   },
   "source": [
    "PV Surrogate: Users can decide the input to the surrogate model\n",
    "\n",
    "<center><img src=\"figures/slides/slide13.jpeg\" width=\"80%\" style=\"display:inline-block;\"/><center>"
   ]
  },
  {
   "cell_type": "code",
   "execution_count": null,
   "id": "4b60fee8",
   "metadata": {},
   "outputs": [],
   "source": [
    "# Generate data\n",
    "\n",
    "import numpy as np\n",
    "from watertap_contrib.reflo.solar_models.surrogate import generate_pv_data\n",
    "\n",
    "weather_file = \"/Users/ksitterl/Documents/Python/watertap-reflo/watertap-reflo/src/watertap_contrib/reflo/flowsheets/KBHDP/data/el_paso_texas-KBHDP-weather.csv\"  # Update with path to weather file\n",
    "\n",
    "pv_data = generate_pv_data(\n",
    "    system_capacities=np.linspace(100, 2000, 100),\n",
    "    pysam_model_config=\"FlatPlatePVSingleOwner\",\n",
    "    save_data=True,\n",
    "    use_multiprocessing=True,\n",
    "    processes=8,\n",
    "    dataset_filename=\"pv_surrogate_data.pkl\",\n",
    "    weather_file=weather_file,\n",
    "    tech_config_file=None,\n",
    "    grid_config_file=None,\n",
    "    rate_config_file=None,\n",
    "    cash_config_file=None,\n",
    ")\n",
    "clear_output(wait=False)"
   ]
  },
  {
   "cell_type": "code",
   "execution_count": null,
   "id": "56ef5758",
   "metadata": {
    "slideshow": {
     "slide_type": "subslide"
    }
   },
   "outputs": [],
   "source": [
    "# PV Surrogate\n",
    "\n",
    "from watertap_contrib.reflo.solar_models.surrogate.pv import PVSurrogate\n",
    "input_variables = {\n",
    "    \"labels\": [\"design_size\"],\n",
    "    \"bounds\": {\"design_size\": [1000, 10000]},\n",
    "    \"units\": {\"design_size\": \"kW\"},\n",
    "}\n",
    "output_variables = {\n",
    "    \"labels\": [\"annual_energy\", \"land_req\"],\n",
    "    \"units\": {\"annual_energy\": \"kWh\", \"land_req\": \"acre\"},\n",
    "}\n",
    "m = ConcreteModel()\n",
    "m.fs = FlowsheetBlock(dynamic=False)\n",
    "m.fs.costing = EnergyCosting()\n",
    "m.fs.pv = PVSurrogate(\n",
    "    dataset_filename=\"data/demo_pv.pkl\",\n",
    "    input_variables=input_variables,\n",
    "    output_variables=output_variables,\n",
    "    scale_training_data=False,\n",
    ")\n",
    "clear_output(wait=False)"
   ]
  },
  {
   "cell_type": "code",
   "execution_count": null,
   "id": "c5252c61",
   "metadata": {
    "slideshow": {
     "slide_type": "subslide"
    }
   },
   "outputs": [],
   "source": [
    "pv_plots(m)"
   ]
  },
  {
   "cell_type": "markdown",
   "id": "470ac9d9",
   "metadata": {
    "slideshow": {
     "slide_type": "subslide"
    }
   },
   "source": [
    "Code Snippet with Integration of Solar Energy (PV)"
   ]
  },
  {
   "cell_type": "code",
   "execution_count": null,
   "id": "615d8095",
   "metadata": {
    "slideshow": {
     "slide_type": "fragment"
    }
   },
   "outputs": [],
   "source": [
    "# Update code snippet to show adding PV to the RO flowsheet\n"
   ]
  },
  {
   "cell_type": "markdown",
   "id": "6973a2e9",
   "metadata": {
    "slideshow": {
     "slide_type": "subslide"
    }
   },
   "source": [
    "Sweep across RO water recovery and Solar energy integration\n",
    "\n",
    "<img src=\"figures/results/kbhdp-ro-solar-recovery-sweep.png\" width=45% style=\"display:inline-block;\"/>\n",
    "<img src=\"figures/results/kbhdp-ro-solar-grid-sweep.png\" width=45% style=\"display:inline-block;\"/>"
   ]
  },
  {
   "cell_type": "markdown",
   "id": "24c9c5e1",
   "metadata": {
    "slideshow": {
     "slide_type": "subslide"
    }
   },
   "source": [
    "A sweep across DWI costs highlights its relative importance to other costs\n",
    "\n",
    "<center><img src=\"figures/results/kbhdp-ro-dwi-sweep-2.png\" width=\"50%\"/> "
   ]
  },
  {
   "cell_type": "markdown",
   "id": "e7bd1e1a",
   "metadata": {
    "slideshow": {
     "slide_type": "subslide"
    }
   },
   "source": [
    "\n"
   ]
  },
  {
   "cell_type": "code",
   "execution_count": null,
   "id": "ecee7450",
   "metadata": {
    "slideshow": {
     "slide_type": "skip"
    }
   },
   "outputs": [],
   "source": [
    "# CST surrogate\n",
    "# Users can decide the input to the surrogate model-300C\n",
    "# Net metering and 24h storage of thermal system\n",
    "# Accuracy of surrogate"
   ]
  },
  {
   "cell_type": "markdown",
   "id": "dc5e3e0e",
   "metadata": {
    "slideshow": {
     "slide_type": "subslide"
    }
   },
   "source": [
    "CST Surrogate: Users can decide the input to the surrogate model\n",
    "\n",
    "<center><img src=\"figures/slides/slide12.jpeg\" width=\"80%\" style=\"display:inline-block;\"/><center>"
   ]
  },
  {
   "cell_type": "code",
   "execution_count": null,
   "id": "ed736026",
   "metadata": {
    "slideshow": {
     "slide_type": "subslide"
    }
   },
   "outputs": [],
   "source": [
    "# Trough surrogate model\n",
    "from watertap_contrib.reflo.solar_models.surrogate.trough.trough_surrogate import (\n",
    "    TroughSurrogate,\n",
    ")\n",
    "\n",
    "input_bounds = dict(heat_load=[5, 25], hours_storage=[12, 24])\n",
    "input_units = dict(heat_load=\"MW\", hours_storage=\"hour\")\n",
    "input_variables = {\n",
    "    \"labels\": [\"heat_load\", \"hours_storage\"],\n",
    "    \"bounds\": input_bounds,\n",
    "    \"units\": input_units,\n",
    "}\n",
    "\n",
    "output_units = dict(\n",
    "    heat_annual_scaled=\"kWh\",\n",
    "    electricity_annual_scaled=\"kWh\",\n",
    "    total_aperture_area_scaled=\"m**2\",\n",
    ")\n",
    "output_variables = {\n",
    "    \"labels\": [\n",
    "        \"heat_annual_scaled\",\n",
    "        \"electricity_annual_scaled\",\n",
    "        \"total_aperture_area_scaled\",\n",
    "    ],\n",
    "    \"units\": output_units,\n",
    "}\n",
    "m = ConcreteModel()\n",
    "m.fs = FlowsheetBlock(dynamic=False)\n",
    "m.fs.cst = TroughSurrogate(\n",
    "    dataset_filename=\"data/trough_demo_mld.pkl\",\n",
    "    input_variables=input_variables,\n",
    "    output_variables=output_variables,\n",
    "    scale_training_data=True,)\n",
    "#\n",
    "clear_output(wait=False)"
   ]
  },
  {
   "cell_type": "code",
   "execution_count": null,
   "id": "b596be52",
   "metadata": {
    "slideshow": {
     "slide_type": "subslide"
    }
   },
   "outputs": [],
   "source": [
    "cst_plots(m)"
   ]
  },
  {
   "cell_type": "markdown",
   "id": "9bc72c18",
   "metadata": {
    "slideshow": {
     "slide_type": "subslide"
    }
   },
   "source": [
    "Zero Liquid Discharge - Brine management step updated to crystallizer\n",
    "\n",
    "<center><img src=\"figures/slides/slide8.jpeg\" width=1000 height=1000><center>"
   ]
  },
  {
   "cell_type": "markdown",
   "id": "a270e07a",
   "metadata": {},
   "source": [
    "Sweep across MD water recovery\n",
    "\n",
    "<img src=\"figures/results/kbhdp-mld-elec.png\" width=\"32%\" style=\"display:inline-block;\"/>\n",
    "<img src=\"figures/results/kbhdp-mld-heat.png\" width=\"32%\" style=\"display:inline-block;\"/>"
   ]
  },
  {
   "cell_type": "markdown",
   "id": "2c63713b",
   "metadata": {
    "slideshow": {
     "slide_type": "subslide"
    }
   },
   "source": [
    "Sweep across solar integration fraction\n",
    "\n",
    "<img src=\"figures/results/kbhdp-zld-solar-grid-sweep.png\" width=\"35%\" style=\"display:inline-block;\">\n",
    "<img src=\"figures/results/kbhdp_zld_tornado_plots.png\" width=\"55%\" style=\"display:inline-block;\">"
   ]
  },
  {
   "cell_type": "markdown",
   "id": "4af0c6ea",
   "metadata": {
    "slideshow": {
     "slide_type": "slide"
    }
   },
   "source": [
    "Future Capabilities"
   ]
  },
  {
   "cell_type": "markdown",
   "id": "9f5ee987",
   "metadata": {
    "scrolled": false,
    "slideshow": {
     "slide_type": "subslide"
    }
   },
   "source": [
    "Multiperiod PV-RO\n",
    "\n",
    "<center><img src=\"figures/slides/slide10.jpeg\" width=\"80%\" style=\"display:inline-block;\">"
   ]
  },
  {
   "cell_type": "markdown",
   "id": "253ddc5d",
   "metadata": {
    "scrolled": false,
    "slideshow": {
     "slide_type": "subslide"
    }
   },
   "source": [
    "Multiperiod Thermal System\n",
    "\n",
    "<center><img src=\"figures/slides/slide11.jpeg\" width=\"90%\" style=\"display:inline-block;\">"
   ]
  },
  {
   "cell_type": "markdown",
   "id": "ca008a4e",
   "metadata": {
    "slideshow": {
     "slide_type": "skip"
    }
   },
   "source": [
    "1. Location specific remote treatment system optimization - Datacenters\n",
    "2. Permian - brackish brine management\n",
    "3. Flexible desalination - NAWI not very focused on renewable energy yet - Pricetaker model uses multiperiod framework and grid prices"
   ]
  }
 ],
 "metadata": {
  "celltoolbar": "Slideshow",
  "kernelspec": {
   "display_name": "watertap-reflo-rel-0.2",
   "language": "python",
   "name": "python3"
  },
  "language_info": {
   "codemirror_mode": {
    "name": "ipython",
    "version": 3
   },
   "file_extension": ".py",
   "mimetype": "text/x-python",
   "name": "python",
   "nbconvert_exporter": "python",
   "pygments_lexer": "ipython3",
   "version": "3.10.18"
  }
 },
 "nbformat": 4,
 "nbformat_minor": 5
}
