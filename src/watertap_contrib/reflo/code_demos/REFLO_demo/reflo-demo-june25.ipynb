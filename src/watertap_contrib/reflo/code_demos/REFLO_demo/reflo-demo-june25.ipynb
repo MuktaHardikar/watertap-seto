{
 "cells": [
  {
   "cell_type": "code",
   "execution_count": 8,
   "id": "462cf9b0",
   "metadata": {
    "scrolled": false,
    "slideshow": {
     "slide_type": "skip"
    }
   },
   "outputs": [
    {
     "data": {
      "text/plain": [
       "{'width': 2048, 'height': 768, 'scroll': True}"
      ]
     },
     "execution_count": 8,
     "metadata": {},
     "output_type": "execute_result"
    }
   ],
   "source": [
    "# Relevant Imports\n",
    "from IPython.display import Image,HTML\n",
    "import matplotlib.pyplot as plt\n",
    "import matplotlib.image as mpimg\n",
    "\n",
    "from notebook.services.config import ConfigManager\n",
    "cm = ConfigManager()\n",
    "cm.update('livereveal', { 'width': 2048, 'height': 768, 'scroll': True, })"
   ]
  },
  {
   "cell_type": "markdown",
   "id": "920706d4",
   "metadata": {
    "slideshow": {
     "slide_type": "slide"
    }
   },
   "source": [
    "<h1 style=\"text-align:center;\">Demonstration of WaterTAP-REFLO Framework</h1>"
   ]
  },
  {
   "cell_type": "markdown",
   "id": "2da4827e",
   "metadata": {
    "slideshow": {
     "slide_type": "subslide"
    }
   },
   "source": [
    "<div \n",
    "    style=\n",
    "     \"max-height:800px; \n",
    "      overflow-y: auto;\">\n",
    "    \n",
    "Contents:\n",
    "<li>Introduction to the WaterTAP-REFLO framework</li>\n",
    "<li>Build a WaterTAP-REFLO treatment flowsheet</li>\n",
    "<ul>\n",
    "    <li>Build, optimization and costing with a single unit model\n",
    "    <li>Parameter sweeps and results\n",
    "</ul>\n",
    "    \n",
    "<li>Build a solar surrogate energy model using PySAM</li>\n",
    "<ul>\n",
    "    <li>Surrogate model workflow\n",
    "    <li>Build solar surrogate\n",
    "</ul>\n",
    "    \n",
    "<li>Build example analysis flowsheet energy</li>\n",
    "<ul>\n",
    "    <li>Build a complete treatment flowsheet\n",
    "    <li>Build solar surrogate    \n",
    "    <li>Integrate solar energy models\n",
    "    <li>Intergrate costing\n",
    "    <li>Parameter sweeps and results  \n",
    "</ul>\n",
    "<li>Comparative Analysis</li>\n",
    "</div>"
   ]
  },
  {
   "cell_type": "markdown",
   "id": "3ed5345d",
   "metadata": {
    "slideshow": {
     "slide_type": "slide"
    }
   },
   "source": [
    "Framework"
   ]
  },
  {
   "cell_type": "markdown",
   "id": "08123f1e",
   "metadata": {
    "slideshow": {
     "slide_type": "subslide"
    }
   },
   "source": [
    "<center><img src=\"figures/demo_images/Slide1.png\" width=1000 height=1000><center>"
   ]
  },
  {
   "cell_type": "markdown",
   "id": "36605f9b",
   "metadata": {
    "slideshow": {
     "slide_type": "subslide"
    }
   },
   "source": [
    "<center><img src=\"figures/demo_images/Slide2.png\" width=1000 height=1000><center>"
   ]
  },
  {
   "cell_type": "markdown",
   "id": "458c22e2",
   "metadata": {
    "slideshow": {
     "slide_type": "subslide"
    }
   },
   "source": [
    "<center><img src=\"figures/demo_images/Slide3.png\" width=1000 height=1000><center>"
   ]
  },
  {
   "cell_type": "markdown",
   "id": "68c5a7cd",
   "metadata": {
    "slideshow": {
     "slide_type": "slide"
    }
   },
   "source": [
    "Building Water Treatment Flowsheet: Workflow"
   ]
  },
  {
   "cell_type": "markdown",
   "id": "e914447e",
   "metadata": {
    "slideshow": {
     "slide_type": "subslide"
    }
   },
   "source": [
    "<center><img src=\"figures/demo_images/Slide5.png\" width=1000 height=1000><center>"
   ]
  },
  {
   "cell_type": "markdown",
   "id": "f4a90415",
   "metadata": {
    "slideshow": {
     "slide_type": "subslide"
    }
   },
   "source": [
    "<center><img src=\"figures/demo_images/Slide6.png\" width=1000 height=1000><center>"
   ]
  },
  {
   "cell_type": "markdown",
   "id": "0f53fafa",
   "metadata": {
    "slideshow": {
     "slide_type": "slide"
    }
   },
   "source": [
    "Sample unit model build and optimization"
   ]
  },
  {
   "cell_type": "code",
   "execution_count": 6,
   "id": "b1145f0f",
   "metadata": {
    "scrolled": false,
    "slideshow": {
     "slide_type": "subslide"
    }
   },
   "outputs": [],
   "source": [
    "# Import relevant libraries\n",
    "from pyomo.environ import (\n",
    "    ConcreteModel,\n",
    "    value,\n",
    "    Var,\n",
    "    Constraint,\n",
    "    Objective,\n",
    "    NonNegativeReals,\n",
    "    TransformationFactory,\n",
    "    Block,\n",
    "    units as pyunits,\n",
    ")\n",
    "\n",
    "from pyomo.network import Arc\n",
    "from idaes.core import FlowsheetBlock, UnitModelCostingBlock\n",
    "\n",
    "from idaes.core.util.initialization import propagate_state as _prop_state\n",
    "from watertap.core.solvers import get_solver\n",
    "from watertap_contrib.reflo.core import REFLODatabase\n",
    "\n",
    "from watertap_contrib.reflo.costing import (\n",
    "    TreatmentCosting,\n",
    ")\n",
    "\n",
    "from watertap.unit_models.pressure_changer import Pump\n",
    "from watertap_contrib.reflo.analysis.case_studies.KBHDP.components.ro_system import *\n",
    "from watertap_contrib.reflo.analysis.case_studies.KBHDP.components.deep_well_injection import *\n",
    "\n",
    "from watertap.property_models.NaCl_prop_pack import NaClParameterBlock\n",
    "\n",
    "from idaes.models.unit_models import Product, Feed\n",
    "\n",
    "from idaes.core.util.model_statistics import *\n",
    "import idaes.core.util.scaling as iscale\n",
    "\n",
    "from watertap.core.util.model_diagnostics.infeasible import *\n",
    "from watertap.core.util.initialization import *\n",
    "\n",
    "from idaes.core.util.scaling import (\n",
    "    constraint_scaling_transform,\n",
    "    calculate_scaling_factors,\n",
    "    set_scaling_factor,\n",
    ")"
   ]
  },
  {
   "cell_type": "code",
   "execution_count": 2,
   "id": "10fbb535",
   "metadata": {
    "scrolled": false,
    "slideshow": {
     "slide_type": "subslide"
    }
   },
   "outputs": [],
   "source": [
    "# Build the model\n",
    "def build_system(RE=True):\n",
    "    m = ConcreteModel()\n",
    "    m.fs = FlowsheetBlock(dynamic=False)\n",
    "\n",
    "    # Get unit model input data from a database\n",
    "    m.db = REFLODatabase()\n",
    "\n",
    "    # Add uni\n",
    "    m.fs.RO_properties = NaClParameterBlock()\n",
    "\n",
    "    return m\n"
   ]
  },
  {
   "cell_type": "code",
   "execution_count": 3,
   "id": "a251e728",
   "metadata": {
    "scrolled": true,
    "slideshow": {
     "slide_type": "subslide"
    }
   },
   "outputs": [],
   "source": [
    "# Build the treatment system\n",
    "def build_treatment(m):\n",
    "    # Create a treatment block\n",
    "    m.fs.treatment = Block()\n",
    "    # Add feed, product and waste streams\n",
    "    m.fs.treatment.feed = Feed(property_package=m.fs.RO_properties)\n",
    "    m.fs.treatment.product = Product(property_package=m.fs.RO_properties)\n",
    "\n",
    "    # Add unit models for treatment and disposal\n",
    "    m.fs.treatment.pump = Pump(property_package=m.fs.RO_properties)\n",
    "    m.fs.treatment.RO = FlowsheetBlock(dynamic=False)\n",
    "    m.fs.treatment.DWI = FlowsheetBlock(dynamic=False)\n",
    "\n",
    "    # Build unit models\n",
    "    build_ro(m, m.fs.treatment.RO, prop_package=m.fs.RO_properties, number_of_stages=1)\n",
    "    build_DWI(m, m.fs.treatment.DWI, prop_package=m.fs.RO_properties)"
   ]
  },
  {
   "cell_type": "code",
   "execution_count": 4,
   "id": "4f938f4a",
   "metadata": {
    "scrolled": true,
    "slideshow": {
     "slide_type": "subslide"
    }
   },
   "outputs": [],
   "source": [
    "# Add connecions between unit models\n",
    "def add_connections(m):\n",
    "    # Connect feed to pump\n",
    "    m.fs.treatment.feed_to_pump = Arc(\n",
    "        source=m.fs.treatment.feed.outlet,\n",
    "        destination=m.fs.treatment.pump.inlet,\n",
    "    )\n",
    "\n",
    "    # Connect pump to RO\n",
    "    m.fs.treatment.pump_to_ro = Arc(\n",
    "        source=m.fs.treatment.pump.outlet,\n",
    "        destination=m.fs.treatment.RO.feed.inlet,\n",
    "    )\n",
    "\n",
    "    # Connect RO to product\n",
    "    m.fs.treatment.ro_to_product = Arc(\n",
    "        source=m.fs.treatment.RO.product.outlet,\n",
    "        destination=m.fs.treatment.product.inlet,\n",
    "    )\n",
    "\n",
    "    # Connect RO to DWI\n",
    "    m.fs.treatment.ro_to_dwi = Arc(\n",
    "        source=m.fs.treatment.RO.disposal.outlet,\n",
    "        destination=m.fs.treatment.DWI.unit.inlet,\n",
    "    )\n",
    "\n",
    "    TransformationFactory(\"network.expand_arcs\").apply_to(m)\n"
   ]
  },
  {
   "cell_type": "code",
   "execution_count": 5,
   "id": "3d7de19f",
   "metadata": {
    "scrolled": true,
    "slideshow": {
     "slide_type": "subslide"
    }
   },
   "outputs": [],
   "source": [
    "# Set operating conditions for the RO unit model\n",
    "def set_operating_conditions(m):\n",
    "    # Set feed flow rate\n",
    "    m.fs.treatment.feed.properties[0].flow_mass_phase_comp[\"Liq\", \"H2O\"].fix(171.12)  \n",
    "    m.fs.treatment.feed.properties[0].flow_mass_phase_comp[\"Liq\", \"NaCl\"].fix(0.638) \n",
    "    m.fs.treatment.feed.properties[0].temperature.fix(298.15)  # 25 C\n",
    "    m.fs.treatment.feed.properties[0].pressure.fix(101325)  # 101.325 kPa\n"
   ]
  },
  {
   "cell_type": "code",
   "execution_count": 6,
   "id": "0827f97d",
   "metadata": {
    "scrolled": true,
    "slideshow": {
     "slide_type": "subslide"
    }
   },
   "outputs": [],
   "source": [
    "def set_pump_operating_conditions(m, pump_pressure=30e5):\n",
    "    # Set pump operating conditions\n",
    "    m.fs.treatment.pump.efficiency_pump.fix(0.8)  # 80% efficiency\n",
    "    m.fs.treatment.pump.control_volume.properties_out[0].pressure.fix(pump_pressure)"
   ]
  },
  {
   "cell_type": "code",
   "execution_count": 7,
   "id": "d4e324b1",
   "metadata": {
    "scrolled": true,
    "slideshow": {
     "slide_type": "subslide"
    }
   },
   "outputs": [],
   "source": [
    "def set_ro_operating_conditions(m,ro_mem_area=10000):\n",
    "    # Set RO operating conditions\n",
    "    mem_A = 4.2e-12  # membrane water permeability coefficient [m/s-Pa]\n",
    "    mem_B = 3.5e-8  # membrane salt permeability coefficient [m/s]\n",
    "    height = 1e-3  # channel height in membrane stage [m]\n",
    "    spacer_porosity = 0.95  # spacer porosity in membrane stage [-]\n",
    "    length = 7  # effective membrane width [m]\n",
    "    width = 20000  # effective membrane width [m]\n",
    "    pressure_atm = 101325  # atmospheric pressure [Pa]\n",
    "\n",
    "    for idx, stage in m.fs.treatment.RO.stage.items():\n",
    "        stage.module.A_comp.fix(mem_A)\n",
    "        stage.module.B_comp.fix(mem_B)\n",
    "        stage.module.area.fix(ro_mem_area / idx)\n",
    "        stage.module.feed_side.velocity[0, 0].fix(0.35)\n",
    "        # stage.module.length.fix(length)\n",
    "        stage.module.width.setub(width)\n",
    "        stage.module.mixed_permeate[0].pressure.fix(pressure_atm)\n",
    "\n",
    "        stage.module.feed_side.channel_height.fix(height)\n",
    "        stage.module.feed_side.spacer_porosity.fix(spacer_porosity)\n",
    "\n",
    "        stage.module.feed_side.friction_factor_darcy.setub(50)\n",
    "\n",
    "        for e in stage.module.flux_mass_phase_comp:\n",
    "            if e[-1] == \"H2O\":\n",
    "                stage.module.flux_mass_phase_comp[e].setlb(1e-5)\n",
    "                stage.module.flux_mass_phase_comp[e].setub(0.99)\n",
    "\n",
    "    m.fs.treatment.RO.total_membrane_area = Var(\n",
    "        initialize=10000,\n",
    "        domain=NonNegativeReals,\n",
    "        units=pyunits.m**2,\n",
    "        doc=\"Total RO System Membrane Area\",\n",
    "    )\n",
    "\n",
    "    m.fs.treatment.RO.eq_total_membrane_area = Constraint(\n",
    "        expr=m.fs.treatment.RO.total_membrane_area\n",
    "        == sum([stage.module.area for idx, stage in m.fs.treatment.RO.stage.items()])\n",
    "    )"
   ]
  },
  {
   "cell_type": "code",
   "execution_count": 15,
   "id": "e6a70b8c",
   "metadata": {
    "scrolled": true,
    "slideshow": {
     "slide_type": "subslide"
    }
   },
   "outputs": [],
   "source": [
    "# Add scaling for the RO unit model\n",
    "def add_ro_scaling(m, blk):\n",
    "\n",
    "    m.fs.RO_properties.set_default_scaling(\n",
    "        \"flow_mass_phase_comp\", 1, index=(\"Liq\", \"H2O\")\n",
    "    )\n",
    "    m.fs.RO_properties.set_default_scaling(\n",
    "        \"flow_mass_phase_comp\", 1e2, index=(\"Liq\", \"NaCl\")\n",
    "    )\n",
    "\n",
    "    # Set scaling factors for module parameters in each stage in the RO unit model\n",
    "    for idx, stage in blk.stage.items():\n",
    "        module = stage.module\n",
    "        iscale.set_scaling_factor(module.area, 1e5)\n",
    "        iscale.set_scaling_factor(module.feed_side.area, 1)\n",
    "        iscale.set_scaling_factor(module.width, 1e4)\n",
    "        set_scaling_factor(module.length, 1e1)\n",
    "        # set_scaling_factor(module.feed_side.velocity, 10)\n",
    "        set_scaling_factor(module.feed_side.N_Sh_comp, 1e-4)\n",
    "\n",
    "    # \n",
    "        for e in module.feed_side.properties:\n",
    "            set_scaling_factor(\n",
    "                module.feed_side.properties[e].flow_mass_phase_comp[\"Liq\", \"NaCl\"], 1\n",
    "            )\n",
    "            set_scaling_factor(module.feed_side.properties[e].dens_mass_phase[\"Liq\"], 1)\n",
    "            # set_scaling_factor(module.feed_side.properties[e].dens_mass_phase[\"Liq\"], 1e3)\n",
    "            set_scaling_factor(module.feed_side.properties[e].mass_frac_phase_comp[\"Liq\", \"NaCl\"], 1e1)\n",
    "\n",
    "        for temp_stream in [\n",
    "            module.eq_permeate_isothermal,\n",
    "            module.feed_side.eq_equal_temp_interface,\n",
    "            module.feed_side.eq_feed_isothermal,\n",
    "            module.eq_permeate_outlet_isothermal,\n",
    "        ]:\n",
    "            for e in temp_stream:\n",
    "                constraint_scaling_transform(temp_stream[e], 1e-2)\n",
    "            for pressure_stream in [\n",
    "                module.eq_permeate_outlet_isobaric,\n",
    "                module.feed_side.eq_equal_pressure_interface,\n",
    "            ]:\n",
    "                for e in pressure_stream:\n",
    "                    constraint_scaling_transform(pressure_stream[e], 1e-5)\n",
    "            for e in module.eq_pressure_drop:\n",
    "                constraint_scaling_transform(module.eq_pressure_drop[e], 1e-7)\n",
    "\n",
    "        for e in module.feed_side.eq_N_Sh_comp:\n",
    "            if e[-1] == \"NaCl\":\n",
    "                constraint_scaling_transform(module.feed_side.eq_N_Sh_comp[e], 1e-3)\n",
    "\n",
    "        for e in module.feed_side.eq_friction_factor:\n",
    "            constraint_scaling_transform(module.feed_side.eq_friction_factor[e], 1e-2)\n",
    "        for e in module.feed_side.eq_dP_dx:\n",
    "            constraint_scaling_transform(module.feed_side.eq_dP_dx[e], 1e-2)\n",
    "\n",
    "        set_scaling_factor(module.mixed_permeate[0.0].dens_mass_phase[\"Liq\"], 1)\n",
    "        set_scaling_factor(module.mixed_permeate[0.0].flow_vol_phase[\"Liq\"], 100)\n",
    "        constraint_scaling_transform(\n",
    "            module.mixed_permeate[0.0].eq_flow_vol_phase[\"Liq\"], 100\n",
    "        )\n",
    "\n",
    "        for e in module.recovery_mass_phase_comp:\n",
    "            if e[-1] == \"H2O\":\n",
    "                set_scaling_factor(module.recovery_mass_phase_comp, 1e1)\n",
    "\n",
    "    calculate_scaling_factors(m)"
   ]
  },
  {
   "cell_type": "code",
   "execution_count": 9,
   "id": "54bc4c14",
   "metadata": {
    "scrolled": true,
    "slideshow": {
     "slide_type": "subslide"
    }
   },
   "outputs": [],
   "source": [
    "# Initialize the model\n",
    "def initialize_system(m):\n",
    "    # Initialize the feed stream\n",
    "    m.fs.treatment.feed.initialize()\n",
    "\n",
    "    # Propagate state from feed to pump\n",
    "    _prop_state(m.fs.treatment.feed_to_pump)\n",
    "\n",
    "    # Initialize the pump\n",
    "    m.fs.treatment.pump.initialize()\n",
    "\n",
    "    # Propagate state from pump to RO\n",
    "    _prop_state(m.fs.treatment.pump_to_ro)\n",
    "\n",
    "    # Initialize the RO unit model\n",
    "    init_ro_system(m, m.fs.treatment.RO)\n",
    "\n",
    "    # Propagate state from RO to product\n",
    "    _prop_state(m.fs.treatment.ro_to_product)\n",
    "\n",
    "    # Initialize the product stream\n",
    "    m.fs.treatment.product.initialize()\n",
    "\n",
    "    # Propagate state from RO to DWI\n",
    "    _prop_state(m.fs.treatment.ro_to_dwi)\n",
    "    # Initialize the DWI unit model\n",
    "    m.fs.treatment.DWI.unit.initialize()"
   ]
  },
  {
   "cell_type": "code",
   "execution_count": 10,
   "id": "a597b52a",
   "metadata": {
    "scrolled": true,
    "slideshow": {
     "slide_type": "subslide"
    }
   },
   "outputs": [],
   "source": [
    "# Add RO recovery constraint\n",
    "# This constraint ensures that the water recovery from the RO unit is equal to the product flow rate\n",
    "def add_ro_recovery_constraint(m, blk, ro_recovery):\n",
    "    m.fs.treatment.ro_water_recovery = Var(\n",
    "        initialize=ro_recovery,\n",
    "        bounds=(0, 0.99),\n",
    "        domain=NonNegativeReals,\n",
    "        units=pyunits.dimensionless,\n",
    "        doc=\"RO Water Recovery\",\n",
    "    )\n",
    "\n",
    "    blk.eq_water_recovery = Constraint(\n",
    "        expr=blk.feed.properties[0].flow_vol * m.fs.treatment.ro_water_recovery\n",
    "        == blk.product.properties[0].flow_vol\n",
    "    )"
   ]
  },
  {
   "cell_type": "markdown",
   "id": "9cb0c0ad",
   "metadata": {
    "slideshow": {
     "slide_type": "subslide"
    }
   },
   "source": [
    "Adding Costing to Water Treatment Flowsheet"
   ]
  },
  {
   "cell_type": "code",
   "execution_count": 11,
   "id": "bd86c7b1",
   "metadata": {
    "scrolled": true,
    "slideshow": {
     "slide_type": "subslide"
    }
   },
   "outputs": [],
   "source": [
    "def add_costing(m,electricity_price=0.058):\n",
    "    # Add costing blocks\n",
    "\n",
    "    # Add costing for treatment unit\n",
    "    m.fs.treatment.costing = TreatmentCosting()\n",
    "\n",
    "    # Add pump costing\n",
    "    m.fs.treatment.pump.costing = UnitModelCostingBlock(\n",
    "        flowsheet_costing_block=m.fs.treatment.costing,\n",
    "    )\n",
    "\n",
    "    # Add RO costing\n",
    "    for stage in m.fs.treatment.RO.stage.values():\n",
    "        stage.module.costing = UnitModelCostingBlock(\n",
    "            flowsheet_costing_block=m.fs.treatment.costing\n",
    "        )\n",
    "\n",
    "    m.fs.treatment.costing.electricity_cost.fix(electricity_price)\n",
    "\n",
    "    m.fs.treatment.costing.cost_process()\n",
    "    m.fs.treatment.costing.add_LCOW(m.fs.treatment.product.properties[0].flow_vol)\n",
    "\n",
    "    m.fs.treatment.costing.initialize()"
   ]
  },
  {
   "cell_type": "code",
   "execution_count": 12,
   "id": "a38c7da5",
   "metadata": {
    "scrolled": false,
    "slideshow": {
     "slide_type": "subslide"
    }
   },
   "outputs": [],
   "source": [
    "# Optimization of RO model\n",
    "\n",
    "def set_ro_op_bounds(m, membrane_area=20000, lb=100, ub=900):\n",
    "    m.fs.treatment.pump.control_volume.properties_out[0].pressure.unfix()\n",
    "    m.fs.treatment.pump.control_volume.properties_out[0].pressure.setlb(\n",
    "        lb * pyunits.psi\n",
    "    )\n",
    "    m.fs.treatment.pump.control_volume.properties_out[0].pressure.setub(\n",
    "        ub * pyunits.psi\n",
    "    )\n",
    "    m.fs.treatment.RO.total_membrane_area.fix(membrane_area)\n",
    "    for _, stage in m.fs.treatment.RO.stage.items():\n",
    "        stage.module.width.setub(5000)\n",
    "        stage.module.feed_side.velocity[0, 0].unfix()\n",
    "        stage.module.feed_side.velocity[0, 1].setlb(0.0)\n",
    "        stage.module.feed_side.K.setlb(1e-6)\n",
    "        stage.module.feed_side.friction_factor_darcy.setub(50)\n",
    "        stage.module.flux_mass_phase_comp.setub(1)\n",
    "        stage.module.feed_side.cp_modulus.setub(10)\n",
    "        stage.module.rejection_phase_comp.setlb(1e-4)\n",
    "        stage.module.feed_side.N_Re.setlb(1)\n",
    "        stage.module.recovery_mass_phase_comp.setlb(1e-7)\n",
    "        stage.module.area.unfix()"
   ]
  },
  {
   "cell_type": "markdown",
   "id": "bef895f6",
   "metadata": {
    "slideshow": {
     "slide_type": "subslide"
    }
   },
   "source": [
    "Optimization"
   ]
  },
  {
   "cell_type": "code",
   "execution_count": 9,
   "id": "f17a0cfd",
   "metadata": {
    "scrolled": true,
    "slideshow": {
     "slide_type": "subslide"
    }
   },
   "outputs": [],
   "source": [
    "# Lets solve!\n",
    "def build_demo_sample_ro(ro_recovery=0.5):\n",
    "    # Build the system\n",
    "    m = build_system()\n",
    "    # Build the treatment system\n",
    "    build_treatment(m)\n",
    "\n",
    "    # Add connections between unit models\n",
    "    add_connections(m)\n",
    "\n",
    "    # Set operating conditions\n",
    "    set_operating_conditions(m)\n",
    "\n",
    "    # Set pump operating conditions\n",
    "    set_pump_operating_conditions(m, pump_pressure=3e6)  # 300 kPa\n",
    "\n",
    "    # Set RO operating conditions\n",
    "    set_ro_operating_conditions(m, ro_mem_area=10000)  # 100\n",
    "\n",
    "    # Add RO scaling factors\n",
    "    add_ro_scaling(m, m.fs.treatment.RO)\n",
    "\n",
    "    # Add RO recovery constraint\n",
    "    add_ro_recovery_constraint(m, m.fs.treatment.RO, ro_recovery=ro_recovery)\n",
    "\n",
    "    # Initialize the system\n",
    "    initialize_system(m)\n",
    "\n",
    "    print(\"Degree of freedom:\", degrees_of_freedom(m))\n",
    "\n",
    "    solver = get_solver()\n",
    "    # Solve the model\n",
    "    results = solver.solve(m, tee=False)\n",
    "\n",
    "    # Add costing blocks\n",
    "    add_costing(m, electricity_price=0.058)  # $0.058/kWh\n",
    "\n",
    "    results = solver.solve(m, tee=True)\n",
    "\n",
    "    # Optimize the model\n",
    "    set_ro_op_bounds(m)\n",
    "\n",
    "    m.fs.membrane_area_objective = Objective(\n",
    "    expr=m.fs.treatment.RO.stage[1].module.area, sense=\"minimize\"\n",
    "    )\n",
    "\n",
    "    m.fs.treatment.ro_water_recovery.fix(ro_recovery)\n",
    "    results = solver.solve(m, tee=False)\n",
    "\n",
    "    print(f\"System Degrees of Freedom: {degrees_of_freedom(m)}\")\n",
    "\n",
    "    return m"
   ]
  },
  {
   "cell_type": "code",
   "execution_count": 17,
   "id": "ce450aed",
   "metadata": {
    "scrolled": false,
    "slideshow": {
     "slide_type": "subslide"
    }
   },
   "outputs": [
    {
     "ename": "TypeError",
     "evalue": "build_demo_sample_ro() got an unexpected keyword argument 'ro_recovery'",
     "output_type": "error",
     "traceback": [
      "\u001b[0;31m---------------------------------------------------------------------------\u001b[0m",
      "\u001b[0;31mTypeError\u001b[0m                                 Traceback (most recent call last)",
      "Cell \u001b[0;32mIn[17], line 1\u001b[0m\n\u001b[0;32m----> 1\u001b[0m \u001b[43mbuild_demo_sample_ro\u001b[49m\u001b[43m(\u001b[49m\u001b[43mro_recovery\u001b[49m\u001b[38;5;241;43m=\u001b[39;49m\u001b[38;5;241;43m0.5\u001b[39;49m\u001b[43m)\u001b[49m\n",
      "\u001b[0;31mTypeError\u001b[0m: build_demo_sample_ro() got an unexpected keyword argument 'ro_recovery'"
     ]
    }
   ],
   "source": [
    "build_demo_sample_ro(ro_recovery=0.5)"
   ]
  },
  {
   "cell_type": "code",
   "execution_count": null,
   "id": "d55e1f33",
   "metadata": {
    "scrolled": true
   },
   "outputs": [],
   "source": [
    "# Sweep on recovery to show range of electricity demand\n",
    "\n",
    "# Print SEC for pump"
   ]
  },
  {
   "cell_type": "markdown",
   "id": "e4f657f7",
   "metadata": {
    "slideshow": {
     "slide_type": "slide"
    }
   },
   "source": [
    "Building solar surrogate model using PySAM (Figure to show its a steady state here)"
   ]
  },
  {
   "cell_type": "code",
   "execution_count": 10,
   "id": "d8b74f90",
   "metadata": {
    "scrolled": false,
    "slideshow": {
     "slide_type": "fragment"
    }
   },
   "outputs": [],
   "source": [
    "# Logic of building a PySAM surrogate\n",
    "# Location specific model -weather file as input\n",
    "# Steady state system costing variables inputs"
   ]
  },
  {
   "cell_type": "code",
   "execution_count": 6,
   "id": "ddcd9e3d",
   "metadata": {
    "scrolled": false,
    "slideshow": {
     "slide_type": "subslide"
    }
   },
   "outputs": [],
   "source": [
    "# How to build a surrogate model\n",
    "\n",
    "# Users can decide the input to the surrogate model\n",
    "\n",
    "# Net metering and 24h storage of thermal system\n",
    "\n",
    "# Accuracy of surrogate"
   ]
  },
  {
   "cell_type": "code",
   "execution_count": null,
   "id": "e27fb7dd",
   "metadata": {
    "scrolled": false
   },
   "outputs": [],
   "source": [
    "# Build surrogate model"
   ]
  },
  {
   "cell_type": "markdown",
   "id": "cb5fe62b",
   "metadata": {
    "slideshow": {
     "slide_type": "subslide"
    }
   },
   "source": [
    "<center><img src=\"figures/demo_images/Slide4.png\" width=1000 height=1000><center>"
   ]
  },
  {
   "cell_type": "markdown",
   "id": "df39b635",
   "metadata": {
    "slideshow": {
     "slide_type": "slide"
    }
   },
   "source": [
    "Analysis\n",
    "<ul>\n",
    "    <li>Build a complete treatment flowsheet</li>\n",
    "    <li> Integrate solar energy models</li>\n",
    "    <li> Intergrate costing</li>\n",
    "    <li>Parameter sweeps and results</li>  "
   ]
  },
  {
   "cell_type": "markdown",
   "id": "218ca887",
   "metadata": {
    "slideshow": {
     "slide_type": "subslide"
    }
   },
   "source": [
    "<center><img src=\"figures/demo_images/Slide7.png\" width=1000 height=1000><center>"
   ]
  },
  {
   "cell_type": "code",
   "execution_count": null,
   "id": "f1faa1e6",
   "metadata": {
    "scrolled": true
   },
   "outputs": [],
   "source": [
    "from watertap_contrib.reflo.code_demos.REFLO_demo.flowsheets.demo_kbhdp_ro import *\n",
    "from watertap_contrib.reflo.code_demos.REFLO_demo.flowsheets.demo_kbhdp_mld import *\n",
    "from watertap_contrib.reflo.code_demos.REFLO_demo.flowsheets.demo_kbhdp_zld import *"
   ]
  },
  {
   "cell_type": "code",
   "execution_count": null,
   "id": "3d27b012",
   "metadata": {
    "scrolled": false,
    "slideshow": {
     "slide_type": "subslide"
    }
   },
   "outputs": [],
   "source": [
    "# RO flowsheet -> Going to write the main function here\n",
    "m = build_demo1_system()\n",
    "m = build_kbhdp_ro(m,ro_recovery=0.8)\n",
    "\n"
   ]
  },
  {
   "cell_type": "code",
   "execution_count": 6,
   "id": "65dff31b",
   "metadata": {
    "scrolled": true
   },
   "outputs": [],
   "source": [
    "# MLD flowsheet-> Going to write the main function here\n"
   ]
  },
  {
   "cell_type": "code",
   "execution_count": 5,
   "id": "8dbfb5f1",
   "metadata": {
    "scrolled": true
   },
   "outputs": [],
   "source": [
    "# ZLD flowsheet-> Going to write the main function here\n"
   ]
  },
  {
   "cell_type": "code",
   "execution_count": null,
   "id": "4df2c14d",
   "metadata": {
    "scrolled": false
   },
   "outputs": [],
   "source": [
    "# Analysis results:\n",
    "# Compare MLD and ZLD treatment trains : \n",
    "# Stacked bar plot: RO, RO+MLD, RO+ZLD, Fixed RO recovery\n",
    "# LCOW sweeps : DWI cost"
   ]
  },
  {
   "cell_type": "markdown",
   "id": "4af0c6ea",
   "metadata": {
    "slideshow": {
     "slide_type": "slide"
    }
   },
   "source": [
    "Future Capabilities"
   ]
  },
  {
   "cell_type": "code",
   "execution_count": null,
   "id": "d9ca3446",
   "metadata": {
    "scrolled": false,
    "slideshow": {
     "slide_type": "subslide"
    }
   },
   "outputs": [],
   "source": [
    "# PV-RO"
   ]
  },
  {
   "cell_type": "code",
   "execution_count": null,
   "id": "fc53b6ee",
   "metadata": {
    "scrolled": false,
    "slideshow": {
     "slide_type": "subslide"
    }
   },
   "outputs": [],
   "source": [
    "# Multiperiod MD"
   ]
  },
  {
   "cell_type": "markdown",
   "id": "db5bf61a",
   "metadata": {
    "slideshow": {
     "slide_type": "subslide"
    }
   },
   "source": [
    "#TODO\n",
    "1. K-RPT1 flowsheet\n",
    "2. K-MLD flowsheet\n",
    "3. K-ZLD flowsheet\n",
    "4. Decided analysis-\n",
    "5. Walk through surrogate model development - \n",
    "\n"
   ]
  }
 ],
 "metadata": {
  "celltoolbar": "Slideshow",
  "kernelspec": {
   "display_name": "Python 3 (ipykernel)",
   "language": "python",
   "name": "python3"
  },
  "language_info": {
   "codemirror_mode": {
    "name": "ipython",
    "version": 3
   },
   "file_extension": ".py",
   "mimetype": "text/x-python",
   "name": "python",
   "nbconvert_exporter": "python",
   "pygments_lexer": "ipython3",
   "version": "3.10.13"
  }
 },
 "nbformat": 4,
 "nbformat_minor": 5
}
