{
 "cells": [
  {
   "cell_type": "code",
   "execution_count": 7,
   "id": "462cf9b0",
   "metadata": {
    "scrolled": false,
    "slideshow": {
     "slide_type": "skip"
    }
   },
   "outputs": [
    {
     "data": {
      "text/plain": [
       "{'width': 1400, 'height': 768, 'scroll': True}"
      ]
     },
     "execution_count": 7,
     "metadata": {},
     "output_type": "execute_result"
    }
   ],
   "source": [
    "# Relevant Imports\n",
    "from IPython.display import Image,HTML\n",
    "import matplotlib.pyplot as plt\n",
    "import matplotlib.image as mpimg\n",
    "\n",
    "from notebook.services.config import ConfigManager\n",
    "cm = ConfigManager()\n",
    "cm.update('livereveal', { 'width':1400, 'height': 768, 'scroll': True, })"
   ]
  },
  {
   "cell_type": "markdown",
   "id": "ea172264",
   "metadata": {
    "slideshow": {
     "slide_type": "skip"
    }
   },
   "source": [
    "Intro\n",
    "- basic WaterTAP stuff\n",
    "- touch on the compoenents of WaterTAP?\n",
    " \n",
    "Figure of RPT1 flowsheet\n",
    " \n",
    "RPT1\n",
    " \n",
    "RPT1 - recovery sweep; get power demand\n",
    " \n",
    "RPT1 - build PV surrogate based on power demand and RE fraction desired\n",
    " \n",
    "Break for PV surrogate\n",
    " \n",
    "Show Summary of this system\n",
    "- recovery fraction, and final brine concentration\n",
    "- cost metrics (LCOW, SEC)\n",
    "- energy costs\n",
    "- stacked plot\n",
    " \n",
    "Figure of MLD flowsheet\n",
    " \n",
    "80% recovery of RO\n",
    " \n",
    "MLD - MD recovery sweep; get thermal power demand\n",
    " \n",
    "MLD - build CST surrogate based on power demand\n",
    " \n",
    "Break for CST surrogate\n",
    " \n",
    "Show Summary of this system\n",
    "- recovery fraction, and final brine concentration\n",
    "- cost metrics (LCOW, SEC)\n",
    "- energy costs\n",
    "- stacked plot\n",
    " \n",
    "Repeat for ZLD\n",
    " \n",
    "Break for CST surrogate\n",
    " \n",
    "Final Product would be summary of the three treatment trains and comparison"
   ]
  },
  {
   "cell_type": "markdown",
   "id": "920706d4",
   "metadata": {
    "slideshow": {
     "slide_type": "slide"
    }
   },
   "source": [
    "<h1>Demonstration of WaterTAP-REFLO Framework</h1>"
   ]
  },
  {
   "cell_type": "markdown",
   "id": "2da4827e",
   "metadata": {
    "slideshow": {
     "slide_type": "subslide"
    }
   },
   "source": [
    "<div \n",
    "    style=\n",
    "     \"max-height:800px; \n",
    "      overflow-y: auto;\">\n",
    "    \n",
    "Contents:\n",
    "<li>WaterTAP-REFLO framework</li>\n",
    "<li>Treatment flowsheet workflow in WaterTAP-REFLO</li>\n",
    "<ul>\n",
    "    <li>Build, optimization and costing with a single unit model\n",
    "    <li>Parameter sweeps and results\n",
    "</ul>\n",
    "    \n",
    "<li>Build example analysis flowsheet energy</li>\n",
    "<ul>\n",
    "    <li>Build a complete treatment flowsheet\n",
    "    <li>Build solar surrogate    \n",
    "    <li>Integrate solar energy models\n",
    "    <li>Intergrate costing\n",
    "    <li>Parameter sweeps and results  \n",
    "</ul>\n",
    "<li>Comparative Analysis</li>\n",
    "</div>"
   ]
  },
  {
   "cell_type": "markdown",
   "id": "3ed5345d",
   "metadata": {
    "slideshow": {
     "slide_type": "slide"
    }
   },
   "source": [
    "WaterTAP-REFLO Framework"
   ]
  },
  {
   "cell_type": "markdown",
   "id": "08123f1e",
   "metadata": {
    "slideshow": {
     "slide_type": "subslide"
    }
   },
   "source": [
    "The levelized cost of treatment (LCOT) is determined by <br>\n",
    "optimizing the water treatment system size and using the Treatment Costing package\n",
    "<img src=\"figures/slides/slide1.jpeg\" width=1200 height=1200>"
   ]
  },
  {
   "cell_type": "markdown",
   "id": "36605f9b",
   "metadata": {
    "slideshow": {
     "slide_type": "subslide"
    }
   },
   "source": [
    "The Energy System is sized based on the electricity/heat demand\n",
    "and costed <br> using the Energy Costing package\n",
    "<img src=\"figures/slides/slide2.jpeg\" width=1200 height=1200>"
   ]
  },
  {
   "cell_type": "markdown",
   "id": "458c22e2",
   "metadata": {
    "slideshow": {
     "slide_type": "subslide"
    }
   },
   "source": [
    "The REFLOSystem Costing package connects the energy demand\n",
    "of the Water Treatment <br>  System to the Energy System \n",
    "to optimize the for a LCOW with energy integration\n",
    "<img src=\"figures/slides/slide3.jpeg\" width=1000 height=1000>"
   ]
  },
  {
   "cell_type": "markdown",
   "id": "a3acb314",
   "metadata": {
    "slideshow": {
     "slide_type": "subslide"
    }
   },
   "source": [
    "The REFLOSystem Costing Package essential balances energy demand of the Water Treatment <br>System with grid or renewable energy technologies\n",
    "<img src=\"figures/slides/slide4.jpeg\" width=1000 height=1000>"
   ]
  },
  {
   "cell_type": "markdown",
   "id": "68c5a7cd",
   "metadata": {
    "slideshow": {
     "slide_type": "slide"
    }
   },
   "source": [
    "Treatment flowsheet workflow in WaterTAP-REFLO"
   ]
  },
  {
   "cell_type": "markdown",
   "id": "f4a90415",
   "metadata": {
    "slideshow": {
     "slide_type": "subslide"
    }
   },
   "source": [
    "Water treatment train to be modeled\n",
    "<left><img src=\"figures/slides/slide6.jpeg\" width=1000 height=1000><left>"
   ]
  },
  {
   "cell_type": "markdown",
   "id": "32ef01c7",
   "metadata": {
    "slideshow": {
     "slide_type": "subslide"
    }
   },
   "source": [
    "1. Import relevant libraries"
   ]
  },
  {
   "cell_type": "code",
   "execution_count": 2,
   "id": "b1145f0f",
   "metadata": {
    "scrolled": false,
    "slideshow": {
     "slide_type": "fragment"
    }
   },
   "outputs": [],
   "source": [
    "from pyomo.environ import (\n",
    "    ConcreteModel,\n",
    "    value,\n",
    "    Var,\n",
    "    Constraint,\n",
    "    Objective,\n",
    "    NonNegativeReals,\n",
    "    TransformationFactory,\n",
    "    Block,\n",
    "    units as pyunits,\n",
    ")\n",
    "\n",
    "#### Import functionality from pyomo, IDAES and WaterTAP\n",
    "from pyomo.network import Arc\n",
    "from idaes.core import FlowsheetBlock, UnitModelCostingBlock\n",
    "from idaes.core.util.initialization import propagate_state as _prop_state\n",
    "from watertap.core.util.initialization import *\n",
    "from watertap.core.solvers import get_solver\n",
    "\n",
    "#### Import feed and product blocks from IDAES\n",
    "from idaes.models.unit_models import Product, Feed\n",
    "\n",
    "#### Import water property package\n",
    "from watertap.property_models.NaCl_prop_pack import NaClParameterBlock\n",
    "\n",
    "#### Import treatment unit models from WaterTAP and WaterTAP-REFLO\n",
    "from watertap.unit_models.pressure_changer import Pump\n",
    "from watertap_contrib.reflo.analysis.case_studies.KBHDP.components.ro_system import *\n",
    "from watertap_contrib.reflo.analysis.case_studies.KBHDP.components.deep_well_injection import *\n",
    "\n",
    "#### Import input database costing package\n",
    "from watertap_contrib.reflo.core import REFLODatabase\n",
    "from watertap_contrib.reflo.costing import (\n",
    "    TreatmentCosting,\n",
    ")\n",
    "\n",
    "#### Import debugging and scaling tools\n",
    "from idaes.core.util.model_statistics import *\n",
    "import idaes.core.util.scaling as iscale\n",
    "from watertap.core.util.model_diagnostics.infeasible import *\n",
    "from idaes.core.util.scaling import (\n",
    "    constraint_scaling_transform,\n",
    "    calculate_scaling_factors,\n",
    "    set_scaling_factor,\n",
    ")"
   ]
  },
  {
   "cell_type": "markdown",
   "id": "7cca7d28",
   "metadata": {
    "slideshow": {
     "slide_type": "subslide"
    }
   },
   "source": [
    "2. Build the flowsheet and add water property packages"
   ]
  },
  {
   "cell_type": "code",
   "execution_count": 3,
   "id": "10fbb535",
   "metadata": {
    "scrolled": false,
    "slideshow": {
     "slide_type": "fragment"
    }
   },
   "outputs": [],
   "source": [
    "def build_system(RE=True):\n",
    "    m = ConcreteModel()\n",
    "    m.fs = FlowsheetBlock(dynamic=False)\n",
    "\n",
    "    #### Get unit model input data from a database\n",
    "    m.db = REFLODatabase()\n",
    "\n",
    "    ### Add water property package\n",
    "    m.fs.RO_properties = NaClParameterBlock()\n",
    "\n",
    "    return m\n"
   ]
  },
  {
   "cell_type": "markdown",
   "id": "2a1648c4",
   "metadata": {
    "slideshow": {
     "slide_type": "subslide"
    }
   },
   "source": [
    "3. Add the feed, product stream, treatment unit process and build the unit processes"
   ]
  },
  {
   "cell_type": "code",
   "execution_count": 1,
   "id": "a251e728",
   "metadata": {
    "scrolled": true,
    "slideshow": {
     "slide_type": "fragment"
    }
   },
   "outputs": [],
   "source": [
    "def build_treatment(m):\n",
    "    #### Create a treatment block\n",
    "    m.fs.treatment = Block()\n",
    "    # Add feed, product and waste streams\n",
    "    m.fs.treatment.feed = Feed(property_package=m.fs.RO_properties)\n",
    "    m.fs.treatment.product = Product(property_package=m.fs.RO_properties)\n",
    "\n",
    "    #### Add unit models for treatment and disposal\n",
    "    m.fs.treatment.pump = Pump(property_package=m.fs.RO_properties)\n",
    "    m.fs.treatment.RO = FlowsheetBlock(dynamic=False)\n",
    "    m.fs.treatment.DWI = FlowsheetBlock(dynamic=False)\n",
    "\n",
    "    ### Build unit models-> A build function is used to build a unit process and \n",
    "    #adds StateJunction or connectors  \n",
    "    build_ro(m, m.fs.treatment.RO, prop_package=m.fs.RO_properties, number_of_stages=1)\n",
    "    build_DWI(m, m.fs.treatment.DWI, prop_package=m.fs.RO_properties)"
   ]
  },
  {
   "cell_type": "markdown",
   "id": "72a517df",
   "metadata": {
    "slideshow": {
     "slide_type": "subslide"
    }
   },
   "source": [
    "4. Define how the treatment unit processes are connected"
   ]
  },
  {
   "cell_type": "code",
   "execution_count": 5,
   "id": "4f938f4a",
   "metadata": {
    "scrolled": true,
    "slideshow": {
     "slide_type": "fragment"
    }
   },
   "outputs": [],
   "source": [
    "def add_connections(m):\n",
    "    #### Connect feed to pump\n",
    "    m.fs.treatment.feed_to_pump = Arc(\n",
    "        source=m.fs.treatment.feed.outlet,\n",
    "        destination=m.fs.treatment.pump.inlet,\n",
    "    )\n",
    "\n",
    "    #### Connect pump to RO\n",
    "    m.fs.treatment.pump_to_ro = Arc(\n",
    "        source=m.fs.treatment.pump.outlet,\n",
    "        destination=m.fs.treatment.RO.feed.inlet,\n",
    "    )\n",
    "\n",
    "    #### Connect RO to product\n",
    "    m.fs.treatment.ro_to_product = Arc(\n",
    "        source=m.fs.treatment.RO.product.outlet,\n",
    "        destination=m.fs.treatment.product.inlet,\n",
    "    )\n",
    "\n",
    "    #### Connect RO to DWI\n",
    "    m.fs.treatment.ro_to_dwi = Arc(\n",
    "        source=m.fs.treatment.RO.disposal.outlet,\n",
    "        destination=m.fs.treatment.DWI.unit.inlet,\n",
    "    )\n",
    "\n",
    "    TransformationFactory(\"network.expand_arcs\").apply_to(m)\n"
   ]
  },
  {
   "cell_type": "markdown",
   "id": "d8cae650",
   "metadata": {
    "slideshow": {
     "slide_type": "subslide"
    }
   },
   "source": [
    "5. Set feed stream conditions."
   ]
  },
  {
   "cell_type": "code",
   "execution_count": 6,
   "id": "3d7de19f",
   "metadata": {
    "scrolled": true,
    "slideshow": {
     "slide_type": "fragment"
    }
   },
   "outputs": [],
   "source": [
    "def set_operating_conditions(m):\n",
    "    m.fs.treatment.feed.properties[0].flow_mass_phase_comp[\"Liq\", \"H2O\"].fix(171.12)  \n",
    "    m.fs.treatment.feed.properties[0].flow_mass_phase_comp[\"Liq\", \"NaCl\"].fix(0.638) \n",
    "    m.fs.treatment.feed.properties[0].temperature.fix(298.15)  # 25 C\n",
    "    m.fs.treatment.feed.properties[0].pressure.fix(101325)  # 101.325 kPa\n"
   ]
  },
  {
   "cell_type": "markdown",
   "id": "576e2e78",
   "metadata": {
    "slideshow": {
     "slide_type": "subslide"
    }
   },
   "source": [
    "6. Set unit process operating conditions"
   ]
  },
  {
   "cell_type": "code",
   "execution_count": 7,
   "id": "0827f97d",
   "metadata": {
    "scrolled": true,
    "slideshow": {
     "slide_type": "fragment"
    }
   },
   "outputs": [],
   "source": [
    "def set_pump_operating_conditions(m, pump_pressure=30e5):\n",
    "    m.fs.treatment.pump.efficiency_pump.fix(0.8)  # 80% efficiency\n",
    "    m.fs.treatment.pump.control_volume.properties_out[0].pressure.fix(pump_pressure)"
   ]
  },
  {
   "cell_type": "code",
   "execution_count": 8,
   "id": "d4e324b1",
   "metadata": {
    "scrolled": true,
    "slideshow": {
     "slide_type": "fragment"
    }
   },
   "outputs": [],
   "source": [
    "def set_ro_operating_conditions(m,ro_mem_area=10000):\n",
    "    #### RO membrane/module parameters\n",
    "    mem_A = 4.2e-12  # membrane water permeability coefficient [m/s-Pa]\n",
    "    mem_B = 3.5e-8  # membrane salt permeability coefficient [m/s]\n",
    "    height = 1e-3  # channel height in membrane stage [m]\n",
    "    spacer_porosity = 0.95  # spacer porosity in membrane stage [-]\n",
    "    length = 7  # effective membrane width [m]\n",
    "    width = 20000  # effective membrane width [m]\n",
    "    pressure_atm = 101325  # atmospheric pressure [Pa]\n",
    "    \n",
    "    #### Fix RO design parameters for each stage\n",
    "    for idx, stage in m.fs.treatment.RO.stage.items():\n",
    "        stage.module.A_comp.fix(mem_A)\n",
    "        stage.module.B_comp.fix(mem_B)\n",
    "        stage.module.area.fix(ro_mem_area / idx)\n",
    "        stage.module.feed_side.velocity[0, 0].fix(0.35)\n",
    "        # stage.module.length.fix(length)\n",
    "        stage.module.width.setub(width)\n",
    "        stage.module.mixed_permeate[0].pressure.fix(pressure_atm)\n",
    "\n",
    "        stage.module.feed_side.channel_height.fix(height)\n",
    "        stage.module.feed_side.spacer_porosity.fix(spacer_porosity)\n",
    "\n",
    "        stage.module.feed_side.friction_factor_darcy.setub(50)\n",
    "\n",
    "        for e in stage.module.flux_mass_phase_comp:\n",
    "            if e[-1] == \"H2O\":\n",
    "                stage.module.flux_mass_phase_comp[e].setlb(1e-5)\n",
    "                stage.module.flux_mass_phase_comp[e].setub(0.99)\n",
    "    \n",
    "    #### Create a variable that ties together each module area\n",
    "    m.fs.treatment.RO.total_membrane_area = Var(\n",
    "        initialize=10000,\n",
    "        domain=NonNegativeReals,\n",
    "        units=pyunits.m**2,\n",
    "        doc=\"Total RO System Membrane Area\",\n",
    "    )\n",
    "\n",
    "    m.fs.treatment.RO.eq_total_membrane_area = Constraint(\n",
    "        expr=m.fs.treatment.RO.total_membrane_area\n",
    "        == sum([stage.module.area for idx, stage in m.fs.treatment.RO.stage.items()])\n",
    "    )"
   ]
  },
  {
   "cell_type": "markdown",
   "id": "ec6e982f",
   "metadata": {
    "slideshow": {
     "slide_type": "subslide"
    }
   },
   "source": [
    "7. Scaling of parameters assists the solver to approach the optimal solution more easily"
   ]
  },
  {
   "cell_type": "code",
   "execution_count": 9,
   "id": "e6a70b8c",
   "metadata": {
    "scrolled": true,
    "slideshow": {
     "slide_type": "fragment"
    }
   },
   "outputs": [],
   "source": [
    "def add_ro_scaling(m, blk):\n",
    "    ### Scale the property package\n",
    "    m.fs.RO_properties.set_default_scaling(\n",
    "        \"flow_mass_phase_comp\", 1, index=(\"Liq\", \"H2O\")\n",
    "    )\n",
    "    m.fs.RO_properties.set_default_scaling(\n",
    "        \"flow_mass_phase_comp\", 1e2, index=(\"Liq\", \"NaCl\")\n",
    "    )\n",
    "\n",
    "    #### Set scaling factors for module parameters in each stage in the RO unit model\n",
    "    for idx, stage in blk.stage.items():\n",
    "        module = stage.module\n",
    "        iscale.set_scaling_factor(module.area, 1e5)\n",
    "        iscale.set_scaling_factor(module.feed_side.area, 1)\n",
    "        iscale.set_scaling_factor(module.width, 1e4)\n",
    "        set_scaling_factor(module.length, 1e1)\n",
    "        set_scaling_factor(module.feed_side.N_Sh_comp, 1e-4)\n",
    "\n",
    "        for e in module.feed_side.properties:\n",
    "            set_scaling_factor(\n",
    "                module.feed_side.properties[e].flow_mass_phase_comp[\"Liq\", \"NaCl\"], 1\n",
    "            )\n",
    "            set_scaling_factor(module.feed_side.properties[e].dens_mass_phase[\"Liq\"], 1)\n",
    "            # set_scaling_factor(module.feed_side.properties[e].dens_mass_phase[\"Liq\"], 1e3)\n",
    "            set_scaling_factor(module.feed_side.properties[e].mass_frac_phase_comp[\"Liq\", \"NaCl\"], 1e1)\n",
    "\n",
    "        for temp_stream in [\n",
    "            module.eq_permeate_isothermal,\n",
    "            module.feed_side.eq_equal_temp_interface,\n",
    "            module.feed_side.eq_feed_isothermal,\n",
    "            module.eq_permeate_outlet_isothermal,\n",
    "        ]:\n",
    "            for e in temp_stream:\n",
    "                constraint_scaling_transform(temp_stream[e], 1e-2)\n",
    "            for pressure_stream in [\n",
    "                module.eq_permeate_outlet_isobaric,\n",
    "                module.feed_side.eq_equal_pressure_interface,\n",
    "            ]:\n",
    "                for e in pressure_stream:\n",
    "                    constraint_scaling_transform(pressure_stream[e], 1e-5)\n",
    "            for e in module.eq_pressure_drop:\n",
    "                constraint_scaling_transform(module.eq_pressure_drop[e], 1e-7)\n",
    "\n",
    "        for e in module.feed_side.eq_N_Sh_comp:\n",
    "            if e[-1] == \"NaCl\":\n",
    "                constraint_scaling_transform(module.feed_side.eq_N_Sh_comp[e], 1e-3)\n",
    "\n",
    "        for e in module.feed_side.eq_friction_factor:\n",
    "            constraint_scaling_transform(module.feed_side.eq_friction_factor[e], 1e-2)\n",
    "        for e in module.feed_side.eq_dP_dx:\n",
    "            constraint_scaling_transform(module.feed_side.eq_dP_dx[e], 1e-2)\n",
    "\n",
    "        set_scaling_factor(module.mixed_permeate[0.0].dens_mass_phase[\"Liq\"], 1)\n",
    "        set_scaling_factor(module.mixed_permeate[0.0].flow_vol_phase[\"Liq\"], 100)\n",
    "        constraint_scaling_transform(\n",
    "            module.mixed_permeate[0.0].eq_flow_vol_phase[\"Liq\"], 100\n",
    "        )\n",
    "\n",
    "        for e in module.recovery_mass_phase_comp:\n",
    "            if e[-1] == \"H2O\":\n",
    "                set_scaling_factor(module.recovery_mass_phase_comp, 1e1)\n",
    "    \n",
    "    #### Uses the default scaling factors assigned to variables\n",
    "    calculate_scaling_factors(m)"
   ]
  },
  {
   "cell_type": "markdown",
   "id": "3f935d57",
   "metadata": {
    "slideshow": {
     "slide_type": "subslide"
    }
   },
   "source": [
    "8. Initialize model and propagate states to the next treatment unit"
   ]
  },
  {
   "cell_type": "code",
   "execution_count": 10,
   "id": "54bc4c14",
   "metadata": {
    "scrolled": true,
    "slideshow": {
     "slide_type": "fragment"
    }
   },
   "outputs": [],
   "source": [
    "def initialize_system(m):\n",
    "    #### Initialize the feed stream\n",
    "    m.fs.treatment.feed.initialize()\n",
    "\n",
    "    #### Propagate state from feed to pump\n",
    "    _prop_state(m.fs.treatment.feed_to_pump)\n",
    "\n",
    "    #### Initialize the pump\n",
    "    m.fs.treatment.pump.initialize()\n",
    "\n",
    "    #### Propagate state from pump to RO\n",
    "    _prop_state(m.fs.treatment.pump_to_ro)\n",
    "\n",
    "    #### Initialize the RO unit model\n",
    "    init_ro_system(m, m.fs.treatment.RO)\n",
    "\n",
    "    #### Propagate state from RO to product\n",
    "    _prop_state(m.fs.treatment.ro_to_product)\n",
    "\n",
    "    #### Initialize the product stream\n",
    "    m.fs.treatment.product.initialize()\n",
    "\n",
    "    #### Propagate state from RO to DWI\n",
    "    _prop_state(m.fs.treatment.ro_to_dwi)\n",
    "    \n",
    "    #### Initialize the DWI unit model\n",
    "    m.fs.treatment.DWI.unit.initialize()"
   ]
  },
  {
   "cell_type": "markdown",
   "id": "02e76ccd",
   "metadata": {
    "slideshow": {
     "slide_type": "subslide"
    }
   },
   "source": [
    "9. Add relevant operational constraints"
   ]
  },
  {
   "cell_type": "code",
   "execution_count": 11,
   "id": "a597b52a",
   "metadata": {
    "scrolled": true,
    "slideshow": {
     "slide_type": "fragment"
    }
   },
   "outputs": [],
   "source": [
    "# Add RO recovery constraint\n",
    "# This constraint ensures that the water recovery from the RO unit is equal to the product flow rate\n",
    "def add_ro_recovery_constraint(m, blk, ro_recovery):\n",
    "    m.fs.treatment.ro_water_recovery = Var(\n",
    "        initialize=ro_recovery,\n",
    "        bounds=(0, 0.99),\n",
    "        domain=NonNegativeReals,\n",
    "        units=pyunits.dimensionless,\n",
    "        doc=\"RO Water Recovery\",\n",
    "    )\n",
    "\n",
    "    blk.eq_water_recovery = Constraint(\n",
    "        expr=blk.feed.properties[0].flow_vol * m.fs.treatment.ro_water_recovery\n",
    "        == blk.product.properties[0].flow_vol\n",
    "    )"
   ]
  },
  {
   "cell_type": "markdown",
   "id": "9cb0c0ad",
   "metadata": {
    "slideshow": {
     "slide_type": "subslide"
    }
   },
   "source": [
    "10. Adding Costing to Water Treatment Flowsheet. Here we can updates costs<br>such as the price of electricity and add a function to calculate the LCOW and the SEC"
   ]
  },
  {
   "cell_type": "code",
   "execution_count": 12,
   "id": "bd86c7b1",
   "metadata": {
    "scrolled": true,
    "slideshow": {
     "slide_type": "fragment"
    }
   },
   "outputs": [],
   "source": [
    "def add_costing(m,electricity_price=0.058):\n",
    "\n",
    "    #### Add costing for treatment unit\n",
    "    m.fs.treatment.costing = TreatmentCosting()\n",
    "\n",
    "    #### Add pump costing\n",
    "    m.fs.treatment.pump.costing = UnitModelCostingBlock(\n",
    "        flowsheet_costing_block=m.fs.treatment.costing,\n",
    "    )\n",
    "\n",
    "    #### Add RO costing\n",
    "    for stage in m.fs.treatment.RO.stage.values():\n",
    "        stage.module.costing = UnitModelCostingBlock(\n",
    "            flowsheet_costing_block=m.fs.treatment.costing\n",
    "        )\n",
    "    \n",
    "    #### Add DWI costing\n",
    "    add_DWI_costing(m.fs.treatment, m.fs.treatment.DWI, costing_blk=m.fs.treatment.costing)\n",
    "\n",
    "    #### Update the electricity price for the analysis\n",
    "    m.fs.treatment.costing.electricity_cost.fix(electricity_price)\n",
    "    \n",
    "    #### This function builds a constraint to aggregate electricity demand from all unit processes\n",
    "    m.fs.treatment.costing.cost_process()\n",
    "    \n",
    "    #### LCOW function\n",
    "    m.fs.treatment.costing.add_LCOW(m.fs.treatment.product.properties[0].flow_vol)\n",
    "    \n",
    "    ### SEC function\n",
    "    product_m3h = pyunits.convert(\n",
    "            m.fs.treatment.product.properties[0].flow_vol,\n",
    "            to_units=pyunits.m**3 / pyunits.h,\n",
    "        )\n",
    "    m.fs.treatment.costing._add_flow_component_breakdowns(\n",
    "        \"electricity\", \"SEC_elec\", product_m3h, period=pyunits.hr\n",
    "    )\n",
    "    \n",
    "    #### Initialize the cost block\n",
    "    m.fs.treatment.costing.initialize()"
   ]
  },
  {
   "cell_type": "markdown",
   "id": "577306db",
   "metadata": {
    "slideshow": {
     "slide_type": ""
    }
   },
   "source": [
    "Build a single run function"
   ]
  },
  {
   "cell_type": "code",
   "execution_count": null,
   "id": "ce6c694d",
   "metadata": {
    "slideshow": {
     "slide_type": "fragment"
    }
   },
   "outputs": [],
   "source": [
    "def build_demo_sample_ro(ro_recovery=0.5):\n",
    "    #### Build the system\n",
    "    m = build_system()\n",
    "    \n",
    "    #### Build the treatment system\n",
    "    build_treatment(m)\n",
    "    \n",
    "    #### Add connections between unit models\n",
    "    add_connections(m)\n",
    "    \n",
    "    #### Set operating conditions\n",
    "    set_operating_conditions(m)\n",
    "\n",
    "    #### Set pump operating conditions\n",
    "    set_pump_operating_conditions(m, pump_pressure=3e6)  # 300 kPa\n",
    "\n",
    "    #### Set RO operating conditions\n",
    "    set_ro_operating_conditions(m, ro_mem_area=10000)  # 100\n",
    "\n",
    "    #### Add RO scaling factors\n",
    "    add_ro_scaling(m, m.fs.treatment.RO)\n",
    "\n",
    "    #### Add RO recovery constraint\n",
    "    add_ro_recovery_constraint(m, m.fs.treatment.RO, ro_recovery=ro_recovery)\n",
    "\n",
    "    #### Initialize the system\n",
    "    initialize_system(m)\n",
    "\n",
    "    print(\"Degree of freedom:\", degrees_of_freedom(m))\n",
    "\n",
    "    #### Add costing blocks\n",
    "    add_costing(m, electricity_price=0.058)  # $0.058/kWh\n",
    "    \n",
    "    solver = get_solver()\n",
    "    #### Solve the model\n",
    "    results = solver.solve(m, tee=False)\n",
    "\n",
    "    return m\n"
   ]
  },
  {
   "cell_type": "markdown",
   "id": "aaa5595b",
   "metadata": {
    "slideshow": {
     "slide_type": "subslide"
    }
   },
   "source": [
    "Let's Solve!"
   ]
  },
  {
   "cell_type": "code",
   "execution_count": 8,
   "id": "c409d160",
   "metadata": {
    "slideshow": {
     "slide_type": "fragment"
    }
   },
   "outputs": [
    {
     "name": "stdout",
     "output_type": "stream",
     "text": [
      "LCOW ($/m3): 0.4251653159188776\n",
      "Total membrane area (m2): 10000.0\n",
      "RO Water Recovery: 0.5240608576225431\n",
      "SEC electrical (kWh/m3):\n",
      "SEC_elec_component : Size=1\n",
      "    Key               : Value\n",
      "    fs.treatment.pump : 1.9205486527152533\n"
     ]
    }
   ],
   "source": [
    "from watertap_contrib.reflo.code_demos.REFLO_demo.flowsheets.demo_sample_ro import *\n",
    "from IPython.display import clear_output\n",
    "\n",
    "m = build_demo_sample_ro() \n",
    "\n",
    "clear_output(wait=False)\n",
    "\n",
    "print(\"LCOW ($/m3):\", m.fs.treatment.costing.LCOW())\n",
    "print(\"Total membrane area (m2):\", value(m.fs.treatment.RO.total_membrane_area))\n",
    "print(\"RO Water Recovery:\", value(m.fs.treatment.ro_water_recovery))\n",
    "print(\"SEC electrical (kWh/m3):\" )\n",
    "m.fs.treatment.costing.SEC_elec_component.display()\n"
   ]
  },
  {
   "cell_type": "markdown",
   "id": "bef895f6",
   "metadata": {
    "slideshow": {
     "slide_type": "subslide"
    }
   },
   "source": [
    "Optimization:\\\n",
    "For optimization we need to unfix parameters and set bounds for the solve"
   ]
  },
  {
   "cell_type": "code",
   "execution_count": 15,
   "id": "a38c7da5",
   "metadata": {
    "scrolled": false,
    "slideshow": {
     "slide_type": "fragment"
    }
   },
   "outputs": [],
   "source": [
    "def set_ro_op_bounds(m, lb=100, ub=900):\n",
    "    \n",
    "    m.fs.treatment.pump.control_volume.properties_out[0].pressure.setlb(\n",
    "        lb * pyunits.psi\n",
    "    )\n",
    "    m.fs.treatment.pump.control_volume.properties_out[0].pressure.setub(\n",
    "        ub * pyunits.psi\n",
    "    )\n",
    "\n",
    "    for _, stage in m.fs.treatment.RO.stage.items():\n",
    "        stage.module.width.setub(5000)\n",
    "        stage.module.feed_side.velocity[0, 0].unfix()\n",
    "        stage.module.feed_side.velocity[0, 1].setlb(0.0)\n",
    "        stage.module.feed_side.K.setlb(1e-6)\n",
    "        stage.module.feed_side.friction_factor_darcy.setub(50)\n",
    "        stage.module.flux_mass_phase_comp.setub(1)\n",
    "        stage.module.feed_side.cp_modulus.setub(10)\n",
    "        stage.module.rejection_phase_comp.setlb(1e-4)\n",
    "        stage.module.feed_side.N_Re.setlb(1)\n",
    "        stage.module.recovery_mass_phase_comp.setlb(1e-7)"
   ]
  },
  {
   "cell_type": "markdown",
   "id": "ae013e3d",
   "metadata": {
    "slideshow": {
     "slide_type": "subslide"
    }
   },
   "source": [
    "Run Optimization!"
   ]
  },
  {
   "cell_type": "code",
   "execution_count": 9,
   "id": "ce450aed",
   "metadata": {
    "scrolled": true,
    "slideshow": {
     "slide_type": "fragment"
    }
   },
   "outputs": [
    {
     "name": "stdout",
     "output_type": "stream",
     "text": [
      "LCOW ($/m3): 0.2970191197732617\n",
      "Total membrane area (m2): 20000\n",
      "RO Water Recovery: 0.7\n",
      "SEC electrical (kWh/m3):\n",
      "SEC_elec_component : Size=1\n",
      "    Key               : Value\n",
      "    fs.treatment.pump : 1.077930656396033\n"
     ]
    }
   ],
   "source": [
    "#### Build previous flowsheet\n",
    "build_demo_sample_ro(ro_recovery=0.5)\n",
    "print(\"LCOW ($/m3):\", m.fs.treatment.costing.LCOW())\n",
    "\n",
    "#### Fix membrane area and recovery\n",
    "membrane_area=20000\n",
    "m.fs.treatment.RO.total_membrane_area.fix(membrane_area)\n",
    "m.fs.treatment.ro_water_recovery.fix(0.7)\n",
    "\n",
    "#### Unfix parameters\n",
    "m.fs.treatment.pump.control_volume.properties_out[0].pressure.unfix()\n",
    "for _, stage in m.fs.treatment.RO.stage.items():\n",
    "    stage.module.area.unfix()\n",
    "\n",
    "#### Set bounds for the solve\n",
    "set_ro_op_bounds(m)\n",
    "\n",
    "#### Add objective function for optimization\n",
    "m.fs.membrane_area_objective = Objective(expr=m.fs.treatment.costing.LCOW, sense=\"minimize\")\n",
    "\n",
    "#### Optimize!\n",
    "solver = get_solver()\n",
    "results = solver.solve(m, tee=False)\n",
    "\n",
    "clear_output(wait=False)\n",
    "\n",
    "print(\"LCOW ($/m3):\", m.fs.treatment.costing.LCOW())\n",
    "print(\"Total membrane area (m2):\", value(m.fs.treatment.RO.total_membrane_area))\n",
    "print(\"RO Water Recovery:\", value(m.fs.treatment.ro_water_recovery))\n",
    "print(\"SEC electrical (kWh/m3):\" )\n",
    "m.fs.treatment.costing.SEC_elec_component.display()"
   ]
  },
  {
   "cell_type": "markdown",
   "id": "23a9de15",
   "metadata": {
    "slideshow": {
     "slide_type": "subslide"
    }
   },
   "source": [
    "Run Sweep Across RO Recovery"
   ]
  },
  {
   "cell_type": "code",
   "execution_count": 17,
   "id": "fa2bf1ed",
   "metadata": {
    "slideshow": {
     "slide_type": "fragment"
    }
   },
   "outputs": [],
   "source": [
    "def build_demo_sample_ro_sweep(ro_recovery=0.85):\n",
    "    m = build_demo_sample_ro(ro_recovery)\n",
    "\n",
    "    m.fs.treatment.ro_water_recovery.fix(ro_recovery)\n",
    "    m.fs.treatment.pump.control_volume.properties_out[0].pressure.unfix()\n",
    "\n",
    "    m.fs.membrane_area_objective = Objective(\n",
    "    expr=m.fs.treatment.costing.LCOW, sense=\"minimize\"\n",
    "    )\n",
    "\n",
    "    solver = get_solver()\n",
    "    results = solver.solve(m, tee=False)\n",
    "\n",
    "    return m"
   ]
  },
  {
   "cell_type": "code",
   "execution_count": 10,
   "id": "d55e1f33",
   "metadata": {
    "scrolled": true,
    "slideshow": {
     "slide_type": "subslide"
    }
   },
   "outputs": [
    {
     "data": {
      "image/png": "[encoded data removed]",
      "text/plain": [
       "<Figure size 1000x500 with 2 Axes>"
      ]
     },
     "metadata": {},
     "output_type": "display_data"
    }
   ],
   "source": [
    "from watertap_contrib.reflo.code_demos.REFLO_demo.flowsheets.demo_sample_ro import *\n",
    "run_recovery_sweep(sweep_type=\"ro_water_recovery\")\n",
    "clear_output(wait=False)\n",
    "plot_recovery_sweep(sweep_type=\"ro_water_recovery\")"
   ]
  },
  {
   "cell_type": "markdown",
   "id": "a8fde6a3",
   "metadata": {
    "slideshow": {
     "slide_type": "slide"
    }
   },
   "source": [
    "Build an analysis flowsheet with energy integration"
   ]
  },
  {
   "cell_type": "markdown",
   "id": "94f2901d",
   "metadata": {
    "slideshow": {
     "slide_type": "subslide"
    }
   },
   "source": [
    "<left><img src=\"figures/slides/slide7.jpeg\" width=1000 height=1000><left>"
   ]
  },
  {
   "cell_type": "markdown",
   "id": "1bae8ba2",
   "metadata": {
    "slideshow": {
     "slide_type": "subslide"
    }
   },
   "source": [
    "Code Snippet"
   ]
  },
  {
   "cell_type": "code",
   "execution_count": null,
   "id": "566e4cbc",
   "metadata": {
    "slideshow": {
     "slide_type": "fragment"
    }
   },
   "outputs": [],
   "source": [
    "from watertap_contrib.reflo.code_demos.REFLO_demo.flowsheets.demo_kbhdp_ro import *\n",
    "\n",
    "def demo1_grid_only(\n",
    "        ro_recovery=0.8,\n",
    "        heat_price=0.0,\n",
    "        electricity_price=0.04989,\n",
    "        dwi_lcow=0.58,\n",
    "    ):\n",
    "    '''' This is modified for demonstration purposes'''\n",
    "    \n",
    "    #### Add a concrete flowsheet\n",
    "    m = build_demo1_system()\n",
    "\n",
    "    #### Add pretreatment and RO to the flowsheet. \n",
    "    #### This includes all the build, connections, initialization and solve\n",
    "    m = build_kbhdp_ro(m,ro_recovery)\n",
    "\n",
    "    #### Add product and deep well injection\n",
    "    add_product(m)\n",
    "    add_treatment_costing(m,heat_price,electricity_price)\n",
    "    \n",
    "    #### Update DWI costing\n",
    "    m.fs.treatment.costing.deep_well_injection.dwi_lcow.set_value(dwi_lcow)\n",
    "    \n",
    "    #### Set objective function\n",
    "    m.fs.lcow_objective = Objective(expr=m.fs.treatment.costing.LCOW)\n",
    "\n",
    "    results = solve(m)\n",
    "    return m\n"
   ]
  },
  {
   "cell_type": "markdown",
   "id": "ce1de726",
   "metadata": {
    "slideshow": {
     "slide_type": "subslide"
    }
   },
   "source": [
    "RO Recovery Sweep\n",
    "\n",
    "<img src=\"figures/results/kbhdp-ro-recovery-sweep.png\" width=45% style=\"display:inline-block;\"/> \n",
    "<img src=\"figures/results/kbhdp-ro-elec.png\" width=45% style=\"display:inline-block;\"/>"
   ]
  },
  {
   "cell_type": "code",
   "execution_count": null,
   "id": "d8b74f90",
   "metadata": {
    "scrolled": false,
    "slideshow": {
     "slide_type": "subslide"
    }
   },
   "outputs": [],
   "source": [
    "# Logic of building a PySAM surrogate-Energy demand is known\n",
    "# Location specific model -weather file as input\n",
    "# Steady state system costing variables inputs"
   ]
  },
  {
   "cell_type": "markdown",
   "id": "9034829f",
   "metadata": {
    "slideshow": {
     "slide_type": "subslide"
    }
   },
   "source": [
    "PySAM Surrogates are built to meet the annual energy consumption of treatment system\n",
    "\n",
    "<center><img src=\"figures/slides/slide5.jpeg\" width=60% style=\"display:inline-block;\"/> "
   ]
  },
  {
   "cell_type": "code",
   "execution_count": 1,
   "id": "e4c3cbca",
   "metadata": {},
   "outputs": [],
   "source": [
    "import pandas as pd\n",
    "import matplotlib.pyplot as plt\n",
    "\n",
    "from watertap.core.util.model_diagnostics.infeasible import *\n",
    "from watertap.core.util.initialization import *\n",
    "\n",
    "from pyomo.environ import (\n",
    "    ConcreteModel,\n",
    "    assert_optimal_termination\n",
    ")\n",
    "from pyomo.util.calc_var_value import calculate_variable_from_constraint as cvc\n",
    "\n",
    "from idaes.core import FlowsheetBlock, UnitModelCostingBlock\n",
    "from idaes.core.util.model_statistics import *\n",
    "\n",
    "from watertap.core.solvers import get_solver\n",
    "\n",
    "from watertap_contrib.reflo.costing import EnergyCosting\n",
    "from watertap_contrib.reflo.analysis.case_studies.KBHDP.utils import *\n",
    "from watertap_contrib.reflo.analysis.case_studies.KBHDP.data import *\n",
    "from watertap_contrib.reflo.solar_models.surrogate.flat_plate.flat_plate_surrogate import (\n",
    "    FlatPlateSurrogate,\n",
    ")\n",
    "from pyomo.environ import (\n",
    "    value,\n",
    ")\n",
    "\n",
    "from idaes.core.util.model_statistics import degrees_of_freedom\n",
    "\n",
    "from IPython.display import clear_output\n",
    "from watertap_contrib.reflo.analysis.case_studies.KBHDP import *\n",
    "\n",
    "plt.rcParams[\"axes.labelsize\"] = 12\n",
    "plt.rcParams[\"axes.titlesize\"] = 14\n",
    "\n",
    "cwd = %pwd\n",
    "\n",
    "solver = get_solver()"
   ]
  },
  {
   "cell_type": "code",
   "execution_count": 2,
   "id": "56ef5758",
   "metadata": {},
   "outputs": [],
   "source": [
    "from watertap_contrib.reflo.solar_models.surrogate.pv import PVSurrogate\n",
    "input_variables = {\n",
    "    \"labels\": [\"design_size\"],\n",
    "    \"bounds\": {\"design_size\": [1000, 10000]},\n",
    "    \"units\": {\"design_size\": \"kW\"},\n",
    "}\n",
    "output_variables = {\n",
    "    \"labels\": [\"annual_energy\", \"land_req\"],\n",
    "    \"units\": {\"annual_energy\": \"kWh\", \"land_req\": \"acre\"},\n",
    "}\n",
    "m = ConcreteModel()\n",
    "m.fs = FlowsheetBlock(dynamic=False)\n",
    "m.fs.costing = EnergyCosting()\n",
    "m.fs.pv = PVSurrogate(\n",
    "    dataset_filename=\"data/demo_pv.pkl\",\n",
    "    input_variables=input_variables,\n",
    "    output_variables=output_variables,\n",
    "    scale_training_data=False,\n",
    ")\n",
    "clear_output(wait=False)"
   ]
  },
  {
   "cell_type": "code",
   "execution_count": null,
   "id": "c2f817dc",
   "metadata": {},
   "outputs": [],
   "source": [
    "rd = build_results_dict(m)\n",
    "\n",
    "electricity_annual_model = list()\n",
    "electricity_annual_error = list()\n",
    "electricity_annual_error_rel = list()\n",
    "\n",
    "land_req_model = list()\n",
    "land_req_error = list()\n",
    "land_req_error_rel = list()\n",
    "\n",
    "for row in m.fs.pv.data.iterrows():\n",
    "    m.fs.pv.design_size.fix(row[1].design_size)\n",
    "\n",
    "    results = solver.solve(m, tee=False)\n",
    "    assert_optimal_termination(results)\n",
    "    electricity_annual_model.append(value(m.fs.pv.annual_energy))\n",
    "    electricity_annual_error.append(value(m.fs.pv.annual_energy) - row[1].annual_energy)\n",
    "    electricity_annual_error_rel.append(\n",
    "        100\n",
    "        * (value(m.fs.pv.annual_energy) - row[1].annual_energy)\n",
    "        / row[1].annual_energy\n",
    "    )\n",
    "    land_req_model.append(value(m.fs.pv.land_req))\n",
    "    land_req_error.append(value(m.fs.pv.land_req) - row[1].land_req)\n",
    "    land_req_error_rel.append(\n",
    "        100 * (value(m.fs.pv.land_req) - row[1].land_req) / row[1].land_req\n",
    "    )\n",
    "    rd = results_dict_append(m, rd)"
   ]
  },
  {
   "cell_type": "code",
   "execution_count": null,
   "id": "fb460ff6",
   "metadata": {},
   "outputs": [],
   "source": [
    "fig, axs = plt.subplots(nrows=2, ncols=2, figsize=(9, 7))\n",
    "axs[0][0].scatter(\n",
    "    m.fs.pv.data.annual_energy,\n",
    "    electricity_annual_model,\n",
    "    marker=\"x\",\n",
    ")\n",
    "axs[0][0].plot(\n",
    "    [0, max(m.fs.pv.data.annual_energy)],\n",
    "    [0, max(m.fs.pv.data.annual_energy)],\n",
    "    color=\"black\",\n",
    "    linestyle=\"--\",\n",
    ")\n",
    "axs[0][0].set(\n",
    "    xlabel=\"Electrical Energy Generated (Data)\",\n",
    "    ylabel=\"Electrical Energy Generated (REFLO)\",\n",
    ")\n",
    "\n",
    "axs[0][1].scatter(\n",
    "    m.fs.pv.data.annual_energy, electricity_annual_error_rel, marker=\"x\", color=\"k\"\n",
    ")\n",
    "axs[0][1].plot(\n",
    "    m.fs.pv.data.annual_energy,\n",
    "    [0 for _ in m.fs.pv.data.annual_energy],\n",
    "    color=\"black\",\n",
    "    linestyle=\"--\",\n",
    ")\n",
    "axs[0][1].set(xlabel=\"Electrical Energy Generated (Data)\", ylabel=\"% Error\")\n",
    "\n",
    "axs[1][0].scatter(\n",
    "    m.fs.pv.data.land_req,\n",
    "    land_req_model,\n",
    "    color=\"red\",\n",
    "    marker=\"x\",\n",
    ")\n",
    "axs[1][0].plot(\n",
    "    [0, max(m.fs.pv.data.land_req)],\n",
    "    [0, max(m.fs.pv.data.land_req)],\n",
    "    color=\"black\",\n",
    "    linestyle=\"--\",\n",
    ")\n",
    "axs[1][0].set(xlabel=\"Land Required (Data)\", ylabel=\"Land Required (WaterTAP)\")\n",
    "\n",
    "axs[1][1].scatter(m.fs.pv.data.land_req, land_req_error_rel, marker=\"x\", color=\"k\")\n",
    "axs[1][1].plot(\n",
    "    m.fs.pv.data.land_req,\n",
    "    [0 for _ in m.fs.pv.data.land_req],\n",
    "    color=\"black\",\n",
    "    linestyle=\"--\",\n",
    ")\n",
    "axs[1][1].set(xlabel=\"Land Required (Data)\", ylabel=\"% Error\")\n",
    "fig.tight_layout()"
   ]
  },
  {
   "cell_type": "markdown",
   "id": "470ac9d9",
   "metadata": {
    "slideshow": {
     "slide_type": "subslide"
    }
   },
   "source": [
    "Code Snippet with Integration of Solar Energy (PV)"
   ]
  },
  {
   "cell_type": "code",
   "execution_count": null,
   "id": "615d8095",
   "metadata": {
    "slideshow": {
     "slide_type": "fragment"
    }
   },
   "outputs": [],
   "source": [
    "def demo1_solar(\n",
    "        ro_recovery=0.8,\n",
    "        heat_price=0.0,\n",
    "        electricity_price=0.04989,\n",
    "        dwi_lcow=0.58,\n",
    "        cost_per_watt_installed=1.6,\n",
    "        frac_elec_from_grid = 0.5\n",
    "    ):\n",
    "\n",
    "    '''' This is modified for demonstration purposes'''\n",
    "\n",
    "    ########## Treatment Block ##########\n",
    "    m = build_demo1_system()\n",
    "    m = build_kbhdp_ro(m,ro_recovery)\n",
    "    add_product(m)\n",
    "    add_treatment_costing(m,heat_price,electricity_price)\n",
    "    \n",
    "    #### Update DWI costing\n",
    "    m.fs.treatment.costing.deep_well_injection.dwi_lcow.set_value(dwi_lcow)\n",
    "    results = solve(m)\n",
    "\n",
    "    ########## Energy Block ############\n",
    "\n",
    "    #### Calculate required heat load and CST sizing\n",
    "    m.fs.energy = Block()\n",
    "    m.fs.energy.costing = EnergyCosting()\n",
    "    \n",
    "    #### Add PV unit model - Adds the PV surrogate unit model to flowsheet\n",
    "    add_pv(m)\n",
    "    \n",
    "    #### Unfix PV design size and fix grid fraction\n",
    "    add_electricity_energy_costing(m)\n",
    "    m.fs.energy.pv.design_size.unfix()\n",
    "\n",
    "    m.fs.energy.costing.cost_process()\n",
    "    m.fs.energy.costing.initialize()\n",
    "\n",
    "    print(\"\\n--------- Energy Costing Initialization Complete ---------\\n\")\n",
    "\n",
    "    add_system_energy_costing(\n",
    "        m, heat_price=heat_price, electricity_price=electricity_price)\n",
    "    \n",
    "    #### Fix fraction of electricity from the grid\n",
    "    m.fs.costing.frac_elec_from_grid.fix(frac_elec_from_grid)\n",
    "\n",
    "    results = solve(m)\n",
    "     \n",
    "    #### Update cost parameters to the PV surrogate\n",
    "    m.fs.energy.costing.pv_surrogate.cost_per_watt_installed.fix(\n",
    "        cost_per_watt_installed\n",
    "    )\n",
    "\n",
    "    m.fs.lcow_objective = Objective(expr=m.fs.costing.LCOT)\n",
    "\n",
    "    results = solve(m)"
   ]
  },
  {
   "cell_type": "markdown",
   "id": "6973a2e9",
   "metadata": {
    "slideshow": {
     "slide_type": "subslide"
    }
   },
   "source": [
    "Sweep across RO water recovery and Solar energy integration\n",
    "\n",
    "<img src=\"figures/results/kbhdp-ro-solar-recovery-sweep.png\" width=45% style=\"display:inline-block;\"/>\n",
    "<img src=\"figures/results/kbhdp-ro-solar-grid-sweep.png\" width=45% style=\"display:inline-block;\"/>"
   ]
  },
  {
   "cell_type": "markdown",
   "id": "24c9c5e1",
   "metadata": {
    "slideshow": {
     "slide_type": "subslide"
    }
   },
   "source": [
    "A sweep across DWI costs highlights its relative importance to other cost factors\n",
    "<img src=\"figures/results/kbhdp-ro-dwi-sweep-2.png\" width=\"50%\"/> "
   ]
  },
  {
   "cell_type": "markdown",
   "id": "b83047c4",
   "metadata": {
    "slideshow": {
     "slide_type": "subslide"
    }
   },
   "source": [
    "Minimum Liquid Discharge - Membrane distillation is included in the desalination step\n",
    "\n",
    "<left><img src=\"figures/slides/slide9.jpeg\" width=1000 height=1000><left>"
   ]
  },
  {
   "cell_type": "markdown",
   "id": "fd690e09",
   "metadata": {
    "slideshow": {
     "slide_type": "subslide"
    }
   },
   "source": [
    "Code Snippet of MLD flowsheet"
   ]
  },
  {
   "cell_type": "code",
   "execution_count": 3,
   "id": "93b592e2",
   "metadata": {
    "slideshow": {
     "slide_type": "fragment"
    }
   },
   "outputs": [],
   "source": [
    "from watertap_contrib.reflo.code_demos.REFLO_demo.flowsheets.demo_kbhdp_mld import *\n",
    "def demo2_mld_grid_only(\n",
    "        ro_recovery=0.8,\n",
    "        md_water_recovery=0.77,\n",
    "        heat_price=0.00894,\n",
    "        electricity_price=0.04989,\n",
    "        dwi_lcow=0.58,\n",
    "    ):\n",
    "\n",
    "    '''' This is modified for demonstration purposes'''\n",
    "    \n",
    "    ########## Treatment Block ##########\n",
    "    m = kbhdp_mld_ro(ro_recovery)\n",
    "\n",
    "    md_flow = pyunits.convert(\n",
    "        m.fs.treatment.RO.disposal.properties[0].flow_vol_phase[\"Liq\"],\n",
    "        to_units=pyunits.m**3 / pyunits.s,\n",
    "    )\n",
    "    md_conc = pyunits.convert(\n",
    "        m.fs.treatment.RO.disposal.properties[0].conc_mass_phase_comp[\"Liq\", \"NaCl\"],\n",
    "        to_units=pyunits.g / pyunits.L,\n",
    "    )\n",
    "\n",
    "     #### Add MD\n",
    "    m = add_mld_md(\n",
    "        m, Q_md=md_flow(), Cin=md_conc(), md_water_recovery=md_water_recovery\n",
    "    )\n",
    "    print(f\"\\nDOF after MD = {degrees_of_freedom(m)}\")\n",
    "    print(\"\\n\")\n",
    "\n",
    "    #### Add product and deep well injection\n",
    "    add_mld_product(m)\n",
    "    results = solve(m)\n",
    "\n",
    "    add_mld_treatment_costing(m, heat_price, electricity_price)\n",
    "\n",
    "    #### Update DWI costing\n",
    "    m.fs.treatment.costing.deep_well_injection.dwi_lcow.set_value(dwi_lcow)\n",
    "\n",
    "    calculate_scaling_factors(m)\n",
    "    results = solve(m)\n",
    "\n",
    "    kbhdp_mld_md_reporting_variables(m)\n",
    "    results = solve(m)\n",
    "\n",
    "    return m"
   ]
  },
  {
   "cell_type": "markdown",
   "id": "e7bd1e1a",
   "metadata": {
    "slideshow": {
     "slide_type": "subslide"
    }
   },
   "source": [
    "Sweep across MD water recovery\n",
    "\n",
    "<img src=\"figures/results/kbhdp-mld-md-recovery-sweep.png\" width=\"32%\" style=\"display:inline-block;\"/> \n",
    "<img src=\"figures/results/kbhdp-mld-elec.png\" width=\"32%\" style=\"display:inline-block;\"/>\n",
    "<img src=\"figures/results/kbhdp-mld-heat.png\" width=\"32%\" style=\"display:inline-block;\"/>"
   ]
  },
  {
   "cell_type": "code",
   "execution_count": null,
   "id": "ecee7450",
   "metadata": {
    "slideshow": {
     "slide_type": "subslide"
    }
   },
   "outputs": [],
   "source": [
    "# CST surrogate\n",
    "# Users can decide the input to the surrogate model-300C\n",
    "# Net metering and 24h storage of thermal system\n",
    "# Accuracy of surrogate"
   ]
  },
  {
   "cell_type": "markdown",
   "id": "d274cc07",
   "metadata": {
    "slideshow": {
     "slide_type": "subslide"
    }
   },
   "source": [
    "Code Snippet of MLD flowsheet with Integration of Solar Energy (PV + CST)"
   ]
  },
  {
   "cell_type": "code",
   "execution_count": 6,
   "id": "894c330f",
   "metadata": {
    "slideshow": {
     "slide_type": "fragment"
    }
   },
   "outputs": [],
   "source": [
    "from watertap_contrib.reflo.code_demos.REFLO_demo.flowsheets.demo_kbhdp_mld import *\n",
    "\n",
    "def demo2_mld_solar(\n",
    "        ro_recovery=0.8,\n",
    "        md_water_recovery=0.7,\n",
    "        frac_heat_from_grid=0.5,\n",
    "        frac_elec_from_grid=0.5,\n",
    "        heat_price=0.00894,\n",
    "        electricity_price=0.04989,\n",
    "        cost_per_total_aperture_area=297,\n",
    "        cost_per_storage_capital=62,\n",
    "        cost_per_watt_installed=1.6,\n",
    "        dwi_lcow=0.58,\n",
    "    ):\n",
    "\n",
    "    '''' This is modified for demonstration purposes'''\n",
    "    ########## Treatment Block ##########\n",
    "    m = kbhdp_mld_ro(ro_recovery)\n",
    "\n",
    "    md_flow = pyunits.convert(\n",
    "        m.fs.treatment.RO.disposal.properties[0].flow_vol_phase[\"Liq\"],\n",
    "        to_units=pyunits.m**3 / pyunits.s,\n",
    "    )\n",
    "    md_conc = pyunits.convert(\n",
    "        m.fs.treatment.RO.disposal.properties[0].conc_mass_phase_comp[\"Liq\", \"NaCl\"],\n",
    "        to_units=pyunits.g / pyunits.L,\n",
    "    )\n",
    "\n",
    "    #### Add MD\n",
    "    m = add_mld_md(\n",
    "        m, Q_md=md_flow(), Cin=md_conc(), md_water_recovery=md_water_recovery\n",
    "    )\n",
    "    print(f\"\\nDOF after MD = {degrees_of_freedom(m)}\")\n",
    "    print(\"\\n\")\n",
    "\n",
    "    #### Add product and deep well injection\n",
    "    add_mld_product(m)\n",
    "    results = solve(m)\n",
    "\n",
    "    add_mld_treatment_costing(m, heat_price=0, electricity_price=0)\n",
    "    \n",
    "    #### Update DWI costing\n",
    "    m.fs.treatment.costing.deep_well_injection.dwi_lcow.set_value(dwi_lcow)\n",
    "    calculate_scaling_factors(m)\n",
    "\n",
    "    results = solve(m)   \n",
    "\n",
    "    ########## Energy Block ##########\n",
    "    m.fs.energy = Block()\n",
    "    m.fs.energy.costing = EnergyCosting()\n",
    "\n",
    "    #### Add CST\n",
    "    add_mld_cst(m)\n",
    "    add_mld_heat_energy_costing(m)\n",
    "    m.fs.energy.cst.unit.heat_load.unfix()\n",
    "\n",
    "    calculate_scaling_factors(m)\n",
    "\n",
    "    results = solve(m)\n",
    "\n",
    "    #### Add PV\n",
    "    add_mld_pv(m)\n",
    "    add_mld_electricity_energy_costing(m)\n",
    "\n",
    "    m.fs.energy.cst.unit.heat_load.unfix()\n",
    "    m.fs.energy.pv.design_size.unfix()\n",
    "\n",
    "    m.fs.energy.costing.cost_process()\n",
    "    m.fs.energy.costing.initialize()\n",
    "\n",
    "    print(\"\\n--------- Energy Costing Initialization Complete ---------\\n\")\n",
    "\n",
    "    add_mld_system_energy_costing(\n",
    "        m, heat_price=heat_price, electricity_price=electricity_price\n",
    "    )\n",
    "\n",
    "    results = solve(m)\n",
    "\n",
    "    #### CST heat load calculated\n",
    "    m.fs.energy.cst.unit.heat_load.unfix()\n",
    "    m.fs.costing.frac_heat_from_grid.fix(frac_heat_from_grid)\n",
    "\n",
    "\n",
    "    m.fs.energy.pv.design_size.unfix()\n",
    "    m.fs.costing.frac_elec_from_grid.fix(frac_elec_from_grid)\n",
    "\n",
    "    calculate_scaling_factors(m)\n",
    "\n",
    "    results = solve(m)\n",
    "\n",
    "    #### Update cost parameters to the CST and PV surrogate\n",
    "    m.fs.energy.costing.trough_surrogate.cost_per_total_aperture_area.fix(\n",
    "        cost_per_total_aperture_area\n",
    "    )\n",
    "    m.fs.energy.costing.trough_surrogate.cost_per_storage_capital.fix(\n",
    "        cost_per_storage_capital\n",
    "    )\n",
    "    m.fs.energy.costing.pv_surrogate.cost_per_watt_installed.fix(\n",
    "        cost_per_watt_installed\n",
    "    )\n",
    "\n",
    "\n",
    "    ####\n",
    "    m.fs.lcow_objective = Objective(expr=m.fs.costing.LCOT)\n",
    "\n",
    "    calculate_scaling_factors(m)\n",
    "\n",
    "    results = solve(m)\n",
    "\n",
    "    kbhdp_mld_md_reporting_variables(m)\n",
    "\n",
    "    return m\n"
   ]
  },
  {
   "cell_type": "markdown",
   "id": "28539b08",
   "metadata": {
    "slideshow": {
     "slide_type": "subslide"
    }
   },
   "source": [
    "Sweep across MD water recovery with and without solar integration\n",
    "\n",
    "<img src=\"figures/results/kbhdp-mld-md-recovery-sweep.png\" width=\"45%\" style=\"display:inline-block;\">\n",
    "<img src=\"figures/results/kbhdp-mld-solar-md-recovery-sweep.png\" width=\"45%\"style=\"display:inline-block;\">"
   ]
  },
  {
   "cell_type": "markdown",
   "id": "af6b9360",
   "metadata": {
    "slideshow": {
     "slide_type": "subslide"
    }
   },
   "source": [
    "Sweep across solar integration fraction\n",
    "\n",
    "<img src=\"figures/results/kbhdp-mld-solar-grid-sweep.png\" width=\"50%\">"
   ]
  },
  {
   "cell_type": "markdown",
   "id": "9bc72c18",
   "metadata": {
    "slideshow": {
     "slide_type": "subslide"
    }
   },
   "source": [
    "Zero Liquid Discharge - Brine management step updated to crystallizer\n",
    "\n",
    "<left><img src=\"figures/slides/slide8.jpeg\" width=1000 height=1000><left>"
   ]
  },
  {
   "cell_type": "markdown",
   "id": "2c63713b",
   "metadata": {
    "slideshow": {
     "slide_type": "subslide"
    }
   },
   "source": [
    "Sweep across solar integration fraction\n",
    "\n",
    "<img src=\"figures/results/kbhdp-zld-solar-grid-sweep.png\" width=\"35%\" style=\"display:inline-block;\">\n",
    "<img src=\"figures/results/kbhdp_zld_tornado_plots.png\" width=\"55%\" style=\"display:inline-block;\">"
   ]
  },
  {
   "cell_type": "markdown",
   "id": "4af0c6ea",
   "metadata": {
    "slideshow": {
     "slide_type": "slide"
    }
   },
   "source": [
    "Future Capabilities"
   ]
  },
  {
   "cell_type": "markdown",
   "id": "9f5ee987",
   "metadata": {
    "scrolled": false,
    "slideshow": {
     "slide_type": "subslide"
    }
   },
   "source": [
    "Multiperiod PV-RO\n",
    "\n",
    "<center><img src=\"figures/slides/slide10.jpeg\" width=\"70%\" style=\"display:inline-block;\">"
   ]
  },
  {
   "cell_type": "markdown",
   "id": "253ddc5d",
   "metadata": {
    "scrolled": false,
    "slideshow": {
     "slide_type": "subslide"
    }
   },
   "source": [
    "Multiperiod MD\n",
    "\n",
    "<center><img src=\"figures/slides/slide11.jpeg\" width=\"90%\" style=\"display:inline-block;\">"
   ]
  },
  {
   "cell_type": "code",
   "execution_count": null,
   "id": "f5fa076b",
   "metadata": {},
   "outputs": [],
   "source": []
  }
 ],
 "metadata": {
  "celltoolbar": "Slideshow",
  "kernelspec": {
   "display_name": "Python 3 (ipykernel)",
   "language": "python",
   "name": "python3"
  },
  "language_info": {
   "codemirror_mode": {
    "name": "ipython",
    "version": 3
   },
   "file_extension": ".py",
   "mimetype": "text/x-python",
   "name": "python",
   "nbconvert_exporter": "python",
   "pygments_lexer": "ipython3",
   "version": "3.10.13"
  }
 },
 "nbformat": 4,
 "nbformat_minor": 5
}
