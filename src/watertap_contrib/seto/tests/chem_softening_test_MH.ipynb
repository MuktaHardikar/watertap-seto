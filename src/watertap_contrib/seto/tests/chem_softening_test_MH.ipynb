{
 "cells": [
  {
   "cell_type": "code",
   "execution_count": 1,
   "metadata": {},
   "outputs": [],
   "source": [
    "from pyomo.environ import (\n",
    "    ConcreteModel,\n",
    "    Objective,\n",
    "    Expression,\n",
    "    value,\n",
    "    Var,\n",
    "    Param,\n",
    "    Constraint,\n",
    "    Set,\n",
    "    Var,\n",
    "    Block,\n",
    "    SolverFactory,\n",
    "    TransformationFactory,\n",
    "    assert_optimal_termination,\n",
    "    check_optimal_termination,\n",
    "    log,\n",
    "    log10,\n",
    "    units as pyunits,\n",
    ")\n",
    "\n",
    "from pyomo.network import Port\n",
    "from idaes.core import FlowsheetBlock\n",
    "from idaes.core.solvers.get_solver import get_solver\n",
    "\n",
    "from idaes.core.util.model_statistics import *\n",
    "from idaes.core.util.scaling import *\n",
    "\n",
    "from idaes.core import UnitModelCostingBlock\n",
    "\n",
    "from watertap.core.zero_order_costing import ZeroOrderCosting, _get_tech_parameters\n",
    "from watertap.core.util.infeasible import *\n",
    "from watertap.costing import WaterTAPCosting\n",
    "\n",
    "import json\n",
    "from os.path import join, dirname\n",
    "from math import floor, ceil\n",
    "\n",
    "import pytest\n",
    "\n",
    "from io import StringIO\n",
    "import numpy as np\n",
    "import pandas as pd\n",
    "import matplotlib.pyplot as plt\n",
    "\n",
    "\n",
    "from IPython.display import clear_output\n",
    "from copy import deepcopy\n",
    "from watertap.property_models.seawater_prop_pack import SeawaterParameterBlock\n",
    "from watertap.property_models.water_prop_pack import WaterParameterBlock\n",
    "from watertap_contrib.seto.costing import SETOZeroOrderCosting, SETOWaterTAPCosting\n",
    "\n",
    "# from watertap_contrib.seto.solar_models.zero_order import PhotovoltaicZO\n",
    "# from watertap_contrib.seto.energy import solar_energy\n",
    "# from watertap_contrib.seto.core import SETODatabase, PySAMWaterTAP\n",
    "from watertap_contrib.seto.unit_models import ChemicalSoftening0D\n",
    "from watertap_contrib.seto.property_models.chemical_softening_prop_pack import (\n",
    "    ChemSofteningParameterBlock,\n",
    "    ChemSofteningStateBlock\n",
    ")\n",
    "\n",
    "# from watertap_contrib.seto.costing.solar import photovoltaic\n",
    "\n",
    "solver = get_solver()\n",
    "\n",
    "def get_ion_config(ions):\n",
    "    #neutral_solutes = [\"TSS\", \"TDS\", \"TOC\", \"NH3\", \"SiO2\"]\n",
    "    if not isinstance(ions, list):\n",
    "        ions = [ions]\n",
    "    #ions = ions + neutral_solutes\n",
    "\n",
    "    mw_data = {\n",
    "        \"Na_+\": 23e-3,\n",
    "        \"Ca_2+\": 40e-3,\n",
    "        \"Cl_-\": 35e-3,\n",
    "        \"Mg_2+\": 24e-3,\n",
    "        \"SO4_2-\": 96e-3,\n",
    "        \"NH3\": 17.03e-3,\n",
    "        \"SiO2\": 60.08e-3,\n",
    "        \"HCO3_-\": 61.02e-3,\n",
    "        \"Alkalinity_2-\": 31.01736e-3,\n",
    "        \"CO3_2-\": 60.01e-3,\n",
    "        \"CO2\": 44e-3,\n",
    "    }\n",
    "    charge_data = {\n",
    "        \"Na_+\": 1,\n",
    "        \"Ca_2+\": 2,\n",
    "        \"Cl_-\": -1,\n",
    "        \"Mg_2+\": 2,\n",
    "        \"SO4_2-\": -2,\n",
    "        \"HCO3_-\": -1,\n",
    "        \"CO3_2-\": -2,\n",
    "        \"Alkalinity_2-\": -2,\n",
    "    }\n",
    "    ion_config = {\n",
    "        \"solute_list\": [],\n",
    "        \"mw_data\": {\"H2O\": 18e-3},\n",
    "        \"charge\": {},\n",
    "    }\n",
    "\n",
    "    for ion in ions:\n",
    "        ion_config[\"solute_list\"].append(ion)\n",
    "\n",
    "        if ion in charge_data.keys():\n",
    "            ion_config[\"charge\"][ion] = charge_data[ion]\n",
    "        if ion in mw_data.keys():\n",
    "            ion_config[\"mw_data\"][ion] = mw_data[ion]\n",
    "    return ion_config\n"
   ]
  },
  {
   "cell_type": "code",
   "execution_count": 2,
   "metadata": {},
   "outputs": [
    {
     "data": {
      "text/plain": [
       "{'solute_list': ['Ca_2+', 'Mg_2+', 'SiO2'],\n",
       " 'mw_data': {'H2O': 0.018, 'Ca_2+': 0.04, 'Mg_2+': 0.024, 'SiO2': 0.06008},\n",
       " 'charge': {'Ca_2+': 2, 'Mg_2+': 2}}"
      ]
     },
     "execution_count": 2,
     "metadata": {},
     "output_type": "execute_result"
    }
   ],
   "source": [
    "component_list = [\"Ca_2+\",\"Mg_2+\",\"SiO2\"]\n",
    "input_config_dict = get_ion_config(component_list)\n",
    "input_config_dict"
   ]
  },
  {
   "cell_type": "code",
   "execution_count": 3,
   "metadata": {},
   "outputs": [],
   "source": [
    "ca_in = 0.075 * pyunits.kg / pyunits.m**3  # g/L = kg/m3\n",
    "mg_in = 0.0061 * pyunits.kg / pyunits.m**3  # g/L = kg/m3\n",
    "sio2_in = 0.054 * pyunits.kg / pyunits.m**3  # g/L = kg/m3\n",
    "\n",
    "q_in = 50000 * pyunits.m**3 / pyunits.day  # m3/d\n",
    "rho = 1000 * pyunits.kg / pyunits.m**3\n",
    "\n",
    "pH_in = 12\n",
    "temp_in = 293.15  # K\n",
    "\n",
    "ca_mass_flow = pyunits.convert((ca_in * q_in), to_units=pyunits.kg / pyunits.s)()\n",
    "mg_mass_flow = pyunits.convert((mg_in * q_in), to_units=pyunits.kg / pyunits.s)()\n",
    "sio2_mass_flow = pyunits.convert((sio2_in * q_in), to_units=pyunits.kg / pyunits.s)()\n",
    "h2o_mass_flow = pyunits.convert((rho * q_in), to_units=pyunits.kg / pyunits.s)()\n",
    "\n"
   ]
  },
  {
   "cell_type": "code",
   "execution_count": 10,
   "metadata": {},
   "outputs": [
    {
     "name": "stdout",
     "output_type": "stream",
     "text": [
      "DOF = 10\n"
     ]
    }
   ],
   "source": [
    "m = ConcreteModel()\n",
    "m.fs = FlowsheetBlock(dynamic=False)\n",
    "m.fs.properties = ChemSofteningParameterBlock(**input_config_dict)\n",
    "m.fs.soft = soft = ChemicalSoftening0D(\n",
    "    property_package=m.fs.properties, silica_removal= False ,softening_procedure_type= 'single_stage_lime'\n",
    ")\n",
    "\n",
    "prop_in = m.fs.soft.properties_in[0]\n",
    "prop_out = m.fs.soft.properties_out[0]\n",
    "prop_waste = m.fs.soft.properties_waste[0]\n",
    "\n",
    "print(f\"DOF = {degrees_of_freedom(m)}\")\n"
   ]
  },
  {
   "cell_type": "code",
   "execution_count": 5,
   "metadata": {},
   "outputs": [],
   "source": [
    "#print(activated_equalities_set(m))"
   ]
  },
  {
   "cell_type": "code",
   "execution_count": 5,
   "metadata": {},
   "outputs": [
    {
     "name": "stdout",
     "output_type": "stream",
     "text": [
      "ComponentSet(['fs.soft.properties_in[0.0].flow_vol_phase[Liq] (id=2369183469904)', 'fs.soft.properties_out[0.0].flow_vol_phase[Liq] (id=2369183470352)', 'fs.soft.properties_waste[0.0].flow_vol_phase[Liq] (id=2369183470800)', 'fs.soft.frac_vol_recovery (id=2369183468112)', 'fs.soft.properties_in[0.0].flow_mass_phase_comp[Liq,H2O] (id=2369183135920)', 'fs.soft.properties_out[0.0].flow_mass_phase_comp[Liq,H2O] (id=2369183137264)', 'fs.soft.properties_waste[0.0].flow_mass_phase_comp[Liq,H2O] (id=2369183466432)', 'fs.soft.properties_in[0.0].flow_mass_phase_comp[Liq,Ca_2+] (id=2369183135808)', 'fs.soft.properties_out[0.0].flow_mass_phase_comp[Liq,Ca_2+] (id=2369183136592)', 'fs.soft.properties_waste[0.0].flow_mass_phase_comp[Liq,Ca_2+] (id=2369183465760)', 'fs.soft.properties_in[0.0].flow_mass_phase_comp[Liq,Mg_2+] (id=2369183136032)', 'fs.soft.properties_out[0.0].flow_mass_phase_comp[Liq,Mg_2+] (id=2369183137376)', 'fs.soft.properties_waste[0.0].flow_mass_phase_comp[Liq,Mg_2+] (id=2369183466544)', 'fs.soft.properties_in[0.0].flow_mass_phase_comp[Liq,SiO2] (id=2369183136144)', 'fs.soft.properties_out[0.0].flow_mass_phase_comp[Liq,SiO2] (id=2369183137488)', 'fs.soft.properties_waste[0.0].flow_mass_phase_comp[Liq,SiO2] (id=2369183466656)', 'fs.soft.ca_eff_target (id=2369183467888)', 'fs.soft.properties_out[0.0].conc_mass_caco3_comp[Ca_2+] (id=2369183471472)', 'fs.soft.properties_out[0.0].conc_mass_caco3_comp[Mg_2+] (id=2369183471584)', 'fs.soft.properties_in[0.0].conc_mass_caco3_comp[Mg_2+] (id=2369183472816)', 'fs.soft.properties_in[0.0].alkalinity (id=2369183136480)', 'fs.soft.properties_in[0.0].conc_mass_caco3_comp[Ca_2+] (id=2369183472704)', 'fs.soft.properties_out[0.0].alkalinity (id=2369183465648)', 'fs.soft.volume_mixer (id=2369183468896)', 'fs.soft.retention_time_mixer (id=2369183468336)', 'fs.soft.volume_floc (id=2369183469008)', 'fs.soft.retention_time_floc (id=2369183468448)', 'fs.soft.volume_sed (id=2369183469120)', 'fs.soft.retention_time_sed (id=2369183468560)', 'fs.soft.volume_recarb (id=2369183469232)', 'fs.soft.retention_time_recarb (id=2369183468672)', 'fs.soft.properties_in[0.0].dens_mass_phase[Liq] (id=2369183470128)', 'fs.soft.properties_in[0.0].conc_mass_phase_comp[Liq,Ca_2+] (id=2369183473040)', 'fs.soft.properties_in[0.0].conc_mass_phase_comp[Liq,Mg_2+] (id=2369183473152)', 'fs.soft.properties_in[0.0].conc_mass_phase_comp[Liq,H2O] (id=2369183472928)', 'fs.soft.properties_in[0.0].mass_frac_phase_comp[Liq,H2O] (id=2369183473376)', 'fs.soft.properties_in[0.0].mass_frac_phase_comp[Liq,Ca_2+] (id=2369183473488)', 'fs.soft.properties_in[0.0].mass_frac_phase_comp[Liq,Mg_2+] (id=2369183473600)', 'fs.soft.properties_in[0.0].conc_mass_phase_comp[Liq,SiO2] (id=2369183473264)', 'fs.soft.properties_in[0.0].mass_frac_phase_comp[Liq,SiO2] (id=2369183473712)', 'fs.soft.properties_out[0.0].dens_mass_phase[Liq] (id=2369183470576)', 'fs.soft.properties_out[0.0].conc_mass_phase_comp[Liq,Ca_2+] (id=2369183471808)', 'fs.soft.properties_out[0.0].conc_mass_phase_comp[Liq,Mg_2+] (id=2369183471920)', 'fs.soft.properties_out[0.0].conc_mass_phase_comp[Liq,H2O] (id=2369183471696)', 'fs.soft.properties_out[0.0].mass_frac_phase_comp[Liq,H2O] (id=2369183472144)', 'fs.soft.properties_out[0.0].mass_frac_phase_comp[Liq,Ca_2+] (id=2369183472256)', 'fs.soft.properties_out[0.0].mass_frac_phase_comp[Liq,Mg_2+] (id=2369183472368)', 'fs.soft.properties_out[0.0].conc_mass_phase_comp[Liq,SiO2] (id=2369183472032)', 'fs.soft.properties_out[0.0].mass_frac_phase_comp[Liq,SiO2] (id=2369183472480)', 'fs.soft.properties_waste[0.0].dens_mass_phase[Liq] (id=2369183471024)'])\n"
     ]
    }
   ],
   "source": [
    "#print((variables_in_activated_equalities_set(m)))"
   ]
  },
  {
   "cell_type": "code",
   "execution_count": 11,
   "metadata": {},
   "outputs": [
    {
     "name": "stdout",
     "output_type": "stream",
     "text": [
      "2023-02-14 16:27:48 [INFO] idaes.init.fs.soft: Initialization Step 1a Complete.\n",
      "2023-02-14 16:27:48 [INFO] idaes.init.fs.soft: Initialization Step 1b Complete.\n",
      "2023-02-14 16:27:48 [INFO] idaes.init.fs.soft: Initialization Step 1c Complete.\n",
      "2023-02-14 16:27:48 [INFO] idaes.init.fs.soft: Initialization Step 2 optimal - Optimal Solution Found.\n",
      "2023-02-14 16:27:48 [INFO] idaes.init.fs.soft: Initialization Complete: optimal - Optimal Solution Found\n",
      "DOF = 0\n"
     ]
    }
   ],
   "source": [
    "prop_in.flow_mass_phase_comp[\"Liq\", \"Ca_2+\"].fix(ca_mass_flow)\n",
    "set_scaling_factor(prop_in.flow_mass_phase_comp[\"Liq\", \"Ca_2+\"], 100)\n",
    "prop_in.flow_mass_phase_comp[\"Liq\", \"Mg_2+\"].fix(mg_mass_flow)\n",
    "set_scaling_factor(prop_in.flow_mass_phase_comp[\"Liq\", \"Mg_2+\"], 100)\n",
    "prop_in.flow_mass_phase_comp[\"Liq\", \"SiO2\"].fix(sio2_mass_flow)\n",
    "set_scaling_factor(prop_in.flow_mass_phase_comp[\"Liq\", \"SiO2\"], 100)\n",
    "prop_in.flow_mass_phase_comp[\"Liq\", \"H2O\"].fix(h2o_mass_flow)\n",
    "set_scaling_factor(prop_in.flow_mass_phase_comp[\"Liq\", \"H2O\"], 1e-2)\n",
    "\n",
    "prop_in.alkalinity.fix(0.195)\n",
    "prop_in.pH.fix(pH_in)\n",
    "prop_in.pressure.fix(101325)\n",
    "prop_in.temperature.fix(temp_in)\n",
    "\n",
    "\n",
    "\n",
    "soft.retention_time_mixer.fix()\n",
    "soft.retention_time_floc.fix()\n",
    "soft.retention_time_sed.fix()\n",
    "soft.retention_time_recarb.fix()\n",
    "m.fs.soft.initialize()\n",
    "\n",
    "print(f\"DOF = {degrees_of_freedom(prop_in)}\")\n",
    "\n",
    "\n"
   ]
  },
  {
   "cell_type": "code",
   "execution_count": 7,
   "metadata": {},
   "outputs": [],
   "source": [
    "#print((unfixed_variables_in_activated_equalities_set(m)))"
   ]
  },
  {
   "cell_type": "code",
   "execution_count": 9,
   "metadata": {},
   "outputs": [
    {
     "name": "stdout",
     "output_type": "stream",
     "text": [
      "2023-02-14 16:16:22 [INFO] idaes.init.fs.soft: Initialization Step 1a Complete.\n",
      "DOF = -2\n"
     ]
    }
   ],
   "source": [
    "\n",
    "print(f\"DOF = {degrees_of_freedom(m)}\")"
   ]
  },
  {
   "cell_type": "code",
   "execution_count": 8,
   "metadata": {},
   "outputs": [],
   "source": [
    "prop_in.temperature.fix(temp_in)\n",
    "\n",
    "# prop_in.alkalinity.fix(0.195)\n",
    "# m.fs.soft.excess_lime.fix(170)\n"
   ]
  },
  {
   "cell_type": "code",
   "execution_count": null,
   "metadata": {},
   "outputs": [],
   "source": []
  },
  {
   "cell_type": "code",
   "execution_count": 12,
   "metadata": {},
   "outputs": [
    {
     "name": "stdout",
     "output_type": "stream",
     "text": [
      "DOF = 1\n",
      "OPTIMAL\n"
     ]
    }
   ],
   "source": [
    "results = solver.solve(m)\n",
    "\n",
    "print(f\"DOF = {degrees_of_freedom(m)}\")\n",
    "print(results.solver.termination_condition.swapcase())\n",
    "print_infeasible_constraints(m)\n"
   ]
  },
  {
   "cell_type": "code",
   "execution_count": 10,
   "metadata": {},
   "outputs": [
    {
     "name": "stdout",
     "output_type": "stream",
     "text": [
      "Block fs.soft.properties_waste[0.0]\n",
      "\n",
      "  Variables:\n",
      "    flow_mass_phase_comp : Mole flow rate\n",
      "        Size=4, Index=fs.soft.properties_waste[0.0].flow_mass_phase_comp_index, Units=kg/s\n",
      "        Key              : Lower : Value : Upper : Fixed : Stale : Domain\n",
      "        ('Liq', 'Ca_2+') :     0 :   0.1 :  None : False :  True : NonNegativeReals\n",
      "          ('Liq', 'H2O') :     0 :   0.1 :  None : False :  True : NonNegativeReals\n",
      "        ('Liq', 'Mg_2+') :     0 :   0.1 :  None : False :  True : NonNegativeReals\n",
      "         ('Liq', 'SiO2') :     0 :   0.1 :  None : False :  True : NonNegativeReals\n",
      "    temperature : State temperature\n",
      "        Size=1, Index=None, Units=K\n",
      "        Key  : Lower  : Value  : Upper  : Fixed : Stale : Domain\n",
      "        None : 273.15 : 298.15 : 373.15 : False :  True : NonNegativeReals\n",
      "    pressure : State pressure\n",
      "        Size=1, Index=None, Units=Pa\n",
      "        Key  : Lower    : Value  : Upper : Fixed : Stale : Domain\n",
      "        None : 100000.0 : 101325 :  None : False :  True : NonNegativeReals\n",
      "    pH : State pH\n",
      "        Size=1, Index=None\n",
      "        Key  : Lower : Value : Upper : Fixed : Stale : Domain\n",
      "        None :     0 :     7 :    14 : False :  True : NonNegativeReals\n",
      "    alkalinity : State alkalinity\n",
      "        Size=1, Index=None, Units=kg/m**3\n",
      "        Key  : Lower : Value : Upper : Fixed : Stale : Domain\n",
      "        None :     0 :   100 :  None : False :  True : NonNegativeReals\n",
      "    carbonate_hardness_comp : Carbonate hardness in CaCO3 equivalents\n",
      "        Size=2, Index=fs.properties.hardness_set, Units=kg/m**3\n",
      "        Key   : Lower : Value : Upper : Fixed : Stale : Domain\n",
      "        Ca_2+ :     0 :   100 :  None : False :  True :  Reals\n",
      "        Mg_2+ :     0 :   100 :  None : False :  True :  Reals\n",
      "    non_carbonate_hardness_comp : Carbonate hardness in CaCO3 equivalents\n",
      "        Size=2, Index=fs.properties.hardness_set, Units=kg/m**3\n",
      "        Key   : Lower : Value : Upper : Fixed : Stale : Domain\n",
      "        Ca_2+ :     0 :   100 :  None : False :  True :  Reals\n",
      "        Mg_2+ :     0 :   100 :  None : False :  True :  Reals\n",
      "    flow_vol_phase : Volumetric flow rate\n",
      "        Size=1, Index=fs.properties.phase_list, Units=m**3/s\n",
      "        Key : Lower : Value : Upper : Fixed : Stale : Domain\n",
      "        Liq :     0 : 0.001 :  None : False :  True :  Reals\n",
      "    dens_mass_phase : Mass density\n",
      "        Size=1, Index=fs.soft.properties_waste[0.0].dens_mass_phase_index, Units=kg/m**3\n",
      "        Key : Lower : Value  : Upper  : Fixed : Stale : Domain\n",
      "        Liq : 500.0 : 1000.0 : 2000.0 : False :  True :  Reals\n",
      "\n",
      "  Objectives:\n",
      "    None\n",
      "\n",
      "  Constraints:\n",
      "    eq_flow_vol_phase : Size=1\n",
      "        Key : Lower : Body                  : Upper\n",
      "        Liq :   0.0 : 0.0006000000000000001 :   0.0\n",
      "    eq_dens_mass_phase : Size=1\n",
      "        Key : Lower  : Body   : Upper\n",
      "        Liq : 1000.0 : 1000.0 : 1000.0\n"
     ]
    }
   ],
   "source": [
    "prop_waste.display()"
   ]
  },
  {
   "cell_type": "code",
   "execution_count": null,
   "metadata": {},
   "outputs": [],
   "source": []
  }
 ],
 "metadata": {
  "kernelspec": {
   "display_name": "watertap-seto",
   "language": "python",
   "name": "python3"
  },
  "language_info": {
   "codemirror_mode": {
    "name": "ipython",
    "version": 3
   },
   "file_extension": ".py",
   "mimetype": "text/x-python",
   "name": "python",
   "nbconvert_exporter": "python",
   "pygments_lexer": "ipython3",
   "version": "3.10.9"
  },
  "orig_nbformat": 4,
  "vscode": {
   "interpreter": {
    "hash": "40fab0ed9c337b4fe69b575a70de2a80b87eca00f0404d6eeedca76291efab98"
   }
  }
 },
 "nbformat": 4,
 "nbformat_minor": 2
}
