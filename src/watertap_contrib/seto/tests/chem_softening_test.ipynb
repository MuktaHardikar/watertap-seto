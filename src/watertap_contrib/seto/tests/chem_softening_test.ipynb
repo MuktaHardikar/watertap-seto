{
 "cells": [
  {
   "cell_type": "code",
   "execution_count": 98,
   "metadata": {},
   "outputs": [],
   "source": [
    "from pyomo.environ import (\n",
    "    ConcreteModel,\n",
    "    Objective,\n",
    "    Expression,\n",
    "    value,\n",
    "    Var,\n",
    "    Param,\n",
    "    Constraint,\n",
    "    Set,\n",
    "    Var,\n",
    "    Block,\n",
    "    SolverFactory,\n",
    "    TransformationFactory,\n",
    "    assert_optimal_termination,\n",
    "    check_optimal_termination,\n",
    "    log,\n",
    "    log10,\n",
    "    units as pyunits,\n",
    ")\n",
    "\n",
    "from pyomo.network import Port\n",
    "from idaes.core import FlowsheetBlock\n",
    "from idaes.core.solvers.get_solver import get_solver\n",
    "\n",
    "from idaes.core.util.model_statistics import *\n",
    "from idaes.core.util.scaling import *\n",
    "\n",
    "from idaes.core import UnitModelCostingBlock\n",
    "\n",
    "from watertap.core.zero_order_costing import ZeroOrderCosting, _get_tech_parameters\n",
    "from watertap.core.util.infeasible import *\n",
    "from watertap.costing import WaterTAPCosting\n",
    "\n",
    "import json\n",
    "from os.path import join, dirname\n",
    "from math import floor, ceil\n",
    "\n",
    "import pytest\n",
    "\n",
    "from io import StringIO\n",
    "import numpy as np\n",
    "import pandas as pd\n",
    "import matplotlib.pyplot as plt\n",
    "\n",
    "\n",
    "from IPython.display import clear_output\n",
    "from copy import deepcopy\n",
    "from watertap.property_models.seawater_prop_pack import SeawaterParameterBlock\n",
    "from watertap.property_models.water_prop_pack import WaterParameterBlock\n",
    "from watertap_contrib.seto.costing import SETOZeroOrderCosting, SETOWaterTAPCosting\n",
    "\n",
    "# from watertap_contrib.seto.solar_models.zero_order import PhotovoltaicZO\n",
    "# from watertap_contrib.seto.energy import solar_energy\n",
    "# from watertap_contrib.seto.core import SETODatabase, PySAMWaterTAP\n",
    "from watertap_contrib.seto.unit_models import ChemicalSoftening0D\n",
    "from watertap_contrib.seto.property_models.chemical_softening_prop_pack import (\n",
    "    ChemSofteningParameterBlock,\n",
    ")\n",
    "\n",
    "# from watertap_contrib.seto.costing.solar import photovoltaic\n",
    "\n",
    "solver = get_solver()"
   ]
  },
  {
   "cell_type": "code",
   "execution_count": 99,
   "metadata": {},
   "outputs": [
    {
     "data": {
      "text/plain": [
       "{'solute_list': ['Ca_2+', 'Mg_2+', 'HCO3_-'],\n",
       " 'mw_data': {'H2O': 0.018, 'Ca_2+': 0.04, 'Mg_2+': 0.024, 'HCO3_-': 0.06102},\n",
       " 'charge': {'Ca_2+': 2, 'Mg_2+': 2, 'HCO3_-': -1}}"
      ]
     },
     "execution_count": 99,
     "metadata": {},
     "output_type": "execute_result"
    }
   ],
   "source": [
    "def get_ion_config(ions):\n",
    "    #neutral_solutes = [\"TSS\", \"TDS\", \"TOC\", \"NH3\", \"SiO2\"]\n",
    "    if not isinstance(ions, list):\n",
    "        ions = [ions]\n",
    "    #ions = ions + neutral_solutes\n",
    "\n",
    "    mw_data = {\n",
    "        \"Na_+\": 23e-3,\n",
    "        \"Ca_2+\": 40e-3,\n",
    "        \"Cl_-\": 35e-3,\n",
    "        \"Mg_2+\": 24e-3,\n",
    "        \"SO4_2-\": 96e-3,\n",
    "        \"NH3\": 17.03e-3,\n",
    "        \"SiO2\": 60.08e-3,\n",
    "        \"HCO3_-\": 61.02e-3,\n",
    "        \"Alkalinity_2-\": 31.01736e-3,\n",
    "        \"CO3_2-\": 60.01e-3,\n",
    "        \"CO2\": 44e-3,\n",
    "    }\n",
    "    charge_data = {\n",
    "        \"Na_+\": 1,\n",
    "        \"Ca_2+\": 2,\n",
    "        \"Cl_-\": -1,\n",
    "        \"Mg_2+\": 2,\n",
    "        \"SO4_2-\": -2,\n",
    "        \"HCO3_-\": -1,\n",
    "        \"CO3_2-\": -2,\n",
    "        \"Alkalinity_2-\": -2,\n",
    "        \"SiO2\": 0,\n",
    "    }\n",
    "    ion_config = {\n",
    "        \"solute_list\": [],\n",
    "        \"mw_data\": {\"H2O\": 18e-3},\n",
    "        \"charge\": {},\n",
    "    }\n",
    "\n",
    "    for ion in ions:\n",
    "        ion_config[\"solute_list\"].append(ion)\n",
    "\n",
    "        if ion in charge_data.keys():\n",
    "            ion_config[\"charge\"][ion] = charge_data[ion]\n",
    "        #else: \n",
    "        #    ion_config[\"charge\"][ion] = 0   \n",
    "        if ion in mw_data.keys():\n",
    "            ion_config[\"mw_data\"][ion] = mw_data[ion]\n",
    "        #else:   \n",
    "        #    ion_config[\"mw_data\"][ion] = 0\n",
    "    return ion_config\n",
    "\n",
    "\n",
    "charged_comp = [\"Ca_2+\", \"Mg_2+\", \"HCO3_-\"]\n",
    "get_ion_config(charged_comp)"
   ]
  },
  {
   "cell_type": "code",
   "execution_count": 100,
   "metadata": {},
   "outputs": [
    {
     "data": {
      "text/plain": [
       "{'solute_list': ['Ca_2+', 'Mg_2+', 'SiO2'],\n",
       " 'mw_data': {'H2O': 0.018, 'Ca_2+': 0.04, 'Mg_2+': 0.024, 'SiO2': 0.06008},\n",
       " 'charge': {'Ca_2+': 2, 'Mg_2+': 2, 'SiO2': 1}}"
      ]
     },
     "execution_count": 100,
     "metadata": {},
     "output_type": "execute_result"
    }
   ],
   "source": [
    "component_list = [\"Ca_2+\", \"Mg_2+\", \"SiO2\"]\n",
    "input_config_dict = get_ion_config(component_list)\n",
    "input_config_dict"
   ]
  },
  {
   "cell_type": "code",
   "execution_count": 101,
   "metadata": {},
   "outputs": [],
   "source": [
    "m = ConcreteModel()\n",
    "m.fs = FlowsheetBlock(dynamic=False)\n",
    "m.fs.properties = ChemSofteningParameterBlock(**input_config_dict)\n"
   ]
  },
  {
   "cell_type": "code",
   "execution_count": 49,
   "metadata": {},
   "outputs": [
    {
     "name": "stdout",
     "output_type": "stream",
     "text": [
      "ERROR: Rule failed for Param 'fs.properties.mw_comp' with index SiO2:\n",
      "    KeyError: \"Index 'SiO2' is not valid for indexed component\n",
      "    'fs.properties.mw_comp'\"\n",
      "ERROR: Constructing component 'fs.properties.mw_comp' from data=None failed:\n",
      "    KeyError: \"Index 'SiO2' is not valid for indexed component\n",
      "    'fs.properties.mw_comp'\"\n",
      "2023-02-08 16:57:13 [ERROR] idaes.core.base.process_block: Failure in build: fs.properties\n",
      "Traceback (most recent call last):\n",
      "  File \"c:\\Users\\mhardika\\miniconda3\\envs\\watertap-seto\\lib\\site-packages\\idaes\\core\\base\\process_block.py\", line 39, in _rule_default\n",
      "    b.build()\n",
      "  File \"c:\\users\\mhardika\\documents\\watertap_seto\\watertap-seto\\src\\watertap_contrib\\seto\\property_models\\chemical_softening_prop_pack.py\", line 325, in build\n",
      "    # self.mw_CaCO3 = Param(initialize=100e-3, units=pyunits.kg/pyunits.mol)\n",
      "  File \"c:\\Users\\mhardika\\miniconda3\\envs\\watertap-seto\\lib\\site-packages\\pyomo\\core\\base\\block.py\", line 649, in __setattr__\n",
      "    self.add_component(name, val)\n",
      "  File \"c:\\Users\\mhardika\\miniconda3\\envs\\watertap-seto\\lib\\site-packages\\pyomo\\core\\base\\block.py\", line 1219, in add_component\n",
      "    val.construct(data)\n",
      "  File \"c:\\Users\\mhardika\\miniconda3\\envs\\watertap-seto\\lib\\site-packages\\pyomo\\core\\base\\param.py\", line 755, in construct\n",
      "    self._construct_from_rule_using_setitem()\n",
      "  File \"c:\\Users\\mhardika\\miniconda3\\envs\\watertap-seto\\lib\\site-packages\\pyomo\\core\\base\\indexed_component.py\", line 704, in _construct_from_rule_using_setitem\n",
      "    self[index] = rule(block, index)\n",
      "  File \"c:\\Users\\mhardika\\miniconda3\\envs\\watertap-seto\\lib\\site-packages\\pyomo\\core\\base\\indexed_component.py\", line 607, in __setitem__\n",
      "    index = self._validate_index(index)\n",
      "  File \"c:\\Users\\mhardika\\miniconda3\\envs\\watertap-seto\\lib\\site-packages\\pyomo\\core\\base\\indexed_component.py\", line 788, in _validate_index\n",
      "    raise KeyError(\n",
      "KeyError: \"Index 'SiO2' is not valid for indexed component 'fs.properties.mw_comp'\"\n",
      "ERROR: Constructing component 'fs.properties' from data=None failed: KeyError:\n",
      "    \"Index 'SiO2' is not valid for indexed component 'fs.properties.mw_comp'\"\n"
     ]
    },
    {
     "ename": "KeyError",
     "evalue": "\"Index 'SiO2' is not valid for indexed component 'fs.properties.mw_comp'\"",
     "output_type": "error",
     "traceback": [
      "\u001b[1;31m---------------------------------------------------------------------------\u001b[0m",
      "\u001b[1;31mKeyError\u001b[0m                                  Traceback (most recent call last)",
      "\u001b[1;32m~\\AppData\\Local\\Temp\\2\\ipykernel_25288\\2029308596.py\u001b[0m in \u001b[0;36m<cell line: 6>\u001b[1;34m()\u001b[0m\n\u001b[0;32m      4\u001b[0m \u001b[0mm\u001b[0m \u001b[1;33m=\u001b[0m \u001b[0mConcreteModel\u001b[0m\u001b[1;33m(\u001b[0m\u001b[1;33m)\u001b[0m\u001b[1;33m\u001b[0m\u001b[1;33m\u001b[0m\u001b[0m\n\u001b[0;32m      5\u001b[0m \u001b[0mm\u001b[0m\u001b[1;33m.\u001b[0m\u001b[0mfs\u001b[0m \u001b[1;33m=\u001b[0m \u001b[0mFlowsheetBlock\u001b[0m\u001b[1;33m(\u001b[0m\u001b[0mdynamic\u001b[0m\u001b[1;33m=\u001b[0m\u001b[1;32mFalse\u001b[0m\u001b[1;33m)\u001b[0m\u001b[1;33m\u001b[0m\u001b[1;33m\u001b[0m\u001b[0m\n\u001b[1;32m----> 6\u001b[1;33m \u001b[0mm\u001b[0m\u001b[1;33m.\u001b[0m\u001b[0mfs\u001b[0m\u001b[1;33m.\u001b[0m\u001b[0mproperties\u001b[0m \u001b[1;33m=\u001b[0m \u001b[0mChemSofteningParameterBlock\u001b[0m\u001b[1;33m(\u001b[0m\u001b[1;33m**\u001b[0m\u001b[0mion_config_dict\u001b[0m\u001b[1;33m)\u001b[0m\u001b[1;33m\u001b[0m\u001b[1;33m\u001b[0m\u001b[0m\n\u001b[0m\u001b[0;32m      7\u001b[0m m.fs.soft = soft = ChemicalSoftening0D(\n\u001b[0;32m      8\u001b[0m     \u001b[0mproperty_package\u001b[0m\u001b[1;33m=\u001b[0m\u001b[0mm\u001b[0m\u001b[1;33m.\u001b[0m\u001b[0mfs\u001b[0m\u001b[1;33m.\u001b[0m\u001b[0mproperties\u001b[0m\u001b[1;33m,\u001b[0m \u001b[0msilica_removal\u001b[0m\u001b[1;33m=\u001b[0m\u001b[1;32mTrue\u001b[0m\u001b[1;33m\u001b[0m\u001b[1;33m\u001b[0m\u001b[0m\n",
      "\u001b[1;32mc:\\Users\\mhardika\\miniconda3\\envs\\watertap-seto\\lib\\site-packages\\pyomo\\core\\base\\block.py\u001b[0m in \u001b[0;36m__setattr__\u001b[1;34m(self, name, val)\u001b[0m\n\u001b[0;32m    647\u001b[0m                 \u001b[1;31m# Pyomo components are added with the add_component method.\u001b[0m\u001b[1;33m\u001b[0m\u001b[1;33m\u001b[0m\u001b[0m\n\u001b[0;32m    648\u001b[0m                 \u001b[1;31m#\u001b[0m\u001b[1;33m\u001b[0m\u001b[1;33m\u001b[0m\u001b[0m\n\u001b[1;32m--> 649\u001b[1;33m                 \u001b[0mself\u001b[0m\u001b[1;33m.\u001b[0m\u001b[0madd_component\u001b[0m\u001b[1;33m(\u001b[0m\u001b[0mname\u001b[0m\u001b[1;33m,\u001b[0m \u001b[0mval\u001b[0m\u001b[1;33m)\u001b[0m\u001b[1;33m\u001b[0m\u001b[1;33m\u001b[0m\u001b[0m\n\u001b[0m\u001b[0;32m    650\u001b[0m             \u001b[1;32melse\u001b[0m\u001b[1;33m:\u001b[0m\u001b[1;33m\u001b[0m\u001b[1;33m\u001b[0m\u001b[0m\n\u001b[0;32m    651\u001b[0m                 \u001b[1;31m#\u001b[0m\u001b[1;33m\u001b[0m\u001b[1;33m\u001b[0m\u001b[0m\n",
      "\u001b[1;32mc:\\Users\\mhardika\\miniconda3\\envs\\watertap-seto\\lib\\site-packages\\pyomo\\core\\base\\block.py\u001b[0m in \u001b[0;36madd_component\u001b[1;34m(self, name, val)\u001b[0m\n\u001b[0;32m   1217\u001b[0m                              _blockName, str(data))\n\u001b[0;32m   1218\u001b[0m             \u001b[1;32mtry\u001b[0m\u001b[1;33m:\u001b[0m\u001b[1;33m\u001b[0m\u001b[1;33m\u001b[0m\u001b[0m\n\u001b[1;32m-> 1219\u001b[1;33m                 \u001b[0mval\u001b[0m\u001b[1;33m.\u001b[0m\u001b[0mconstruct\u001b[0m\u001b[1;33m(\u001b[0m\u001b[0mdata\u001b[0m\u001b[1;33m)\u001b[0m\u001b[1;33m\u001b[0m\u001b[1;33m\u001b[0m\u001b[0m\n\u001b[0m\u001b[0;32m   1220\u001b[0m             \u001b[1;32mexcept\u001b[0m\u001b[1;33m:\u001b[0m\u001b[1;33m\u001b[0m\u001b[1;33m\u001b[0m\u001b[0m\n\u001b[0;32m   1221\u001b[0m                 \u001b[0merr\u001b[0m \u001b[1;33m=\u001b[0m \u001b[0msys\u001b[0m\u001b[1;33m.\u001b[0m\u001b[0mexc_info\u001b[0m\u001b[1;33m(\u001b[0m\u001b[1;33m)\u001b[0m\u001b[1;33m[\u001b[0m\u001b[1;36m1\u001b[0m\u001b[1;33m]\u001b[0m\u001b[1;33m\u001b[0m\u001b[1;33m\u001b[0m\u001b[0m\n",
      "\u001b[1;32mc:\\Users\\mhardika\\miniconda3\\envs\\watertap-seto\\lib\\site-packages\\pyomo\\core\\base\\block.py\u001b[0m in \u001b[0;36mconstruct\u001b[1;34m(self, data)\u001b[0m\n\u001b[0;32m   2207\u001b[0m                             \u001b[0mobj\u001b[0m\u001b[1;33m.\u001b[0m\u001b[0mconstruct\u001b[0m\u001b[1;33m(\u001b[0m\u001b[0mdata\u001b[0m\u001b[1;33m.\u001b[0m\u001b[0mget\u001b[0m\u001b[1;33m(\u001b[0m\u001b[0mname\u001b[0m\u001b[1;33m,\u001b[0m \u001b[1;32mNone\u001b[0m\u001b[1;33m)\u001b[0m\u001b[1;33m)\u001b[0m\u001b[1;33m\u001b[0m\u001b[1;33m\u001b[0m\u001b[0m\n\u001b[0;32m   2208\u001b[0m                 \u001b[1;31m# Trigger the (normal) initialization of the block\u001b[0m\u001b[1;33m\u001b[0m\u001b[1;33m\u001b[0m\u001b[0m\n\u001b[1;32m-> 2209\u001b[1;33m                 \u001b[0mself\u001b[0m\u001b[1;33m.\u001b[0m\u001b[0m_getitem_when_not_present\u001b[0m\u001b[1;33m(\u001b[0m\u001b[0m_idx\u001b[0m\u001b[1;33m)\u001b[0m\u001b[1;33m\u001b[0m\u001b[1;33m\u001b[0m\u001b[0m\n\u001b[0m\u001b[0;32m   2210\u001b[0m         \u001b[1;32mfinally\u001b[0m\u001b[1;33m:\u001b[0m\u001b[1;33m\u001b[0m\u001b[1;33m\u001b[0m\u001b[0m\n\u001b[0;32m   2211\u001b[0m             \u001b[1;31m# We must allow that id(self) may no longer be in\u001b[0m\u001b[1;33m\u001b[0m\u001b[1;33m\u001b[0m\u001b[0m\n",
      "\u001b[1;32mc:\\Users\\mhardika\\miniconda3\\envs\\watertap-seto\\lib\\site-packages\\pyomo\\core\\base\\block.py\u001b[0m in \u001b[0;36m_getitem_when_not_present\u001b[1;34m(self, idx)\u001b[0m\n\u001b[0;32m   2132\u001b[0m \u001b[1;33m\u001b[0m\u001b[0m\n\u001b[0;32m   2133\u001b[0m         \u001b[1;32mtry\u001b[0m\u001b[1;33m:\u001b[0m\u001b[1;33m\u001b[0m\u001b[1;33m\u001b[0m\u001b[0m\n\u001b[1;32m-> 2134\u001b[1;33m             \u001b[0mobj\u001b[0m \u001b[1;33m=\u001b[0m \u001b[0mself\u001b[0m\u001b[1;33m.\u001b[0m\u001b[0m_rule\u001b[0m\u001b[1;33m(\u001b[0m\u001b[0m_block\u001b[0m\u001b[1;33m,\u001b[0m \u001b[0midx\u001b[0m\u001b[1;33m)\u001b[0m\u001b[1;33m\u001b[0m\u001b[1;33m\u001b[0m\u001b[0m\n\u001b[0m\u001b[0;32m   2135\u001b[0m             \u001b[1;31m# If the user returns a block, transfer over everything\u001b[0m\u001b[1;33m\u001b[0m\u001b[1;33m\u001b[0m\u001b[0m\n\u001b[0;32m   2136\u001b[0m             \u001b[1;31m# they defined into the empty one we created.  We do\u001b[0m\u001b[1;33m\u001b[0m\u001b[1;33m\u001b[0m\u001b[0m\n",
      "\u001b[1;32mc:\\Users\\mhardika\\miniconda3\\envs\\watertap-seto\\lib\\site-packages\\pyomo\\core\\base\\initializer.py\u001b[0m in \u001b[0;36m__call__\u001b[1;34m(self, parent, idx)\u001b[0m\n\u001b[0;32m    302\u001b[0m             \u001b[1;32mreturn\u001b[0m \u001b[0mself\u001b[0m\u001b[1;33m.\u001b[0m\u001b[0m_fcn\u001b[0m\u001b[1;33m(\u001b[0m\u001b[0mparent\u001b[0m\u001b[1;33m,\u001b[0m \u001b[1;33m*\u001b[0m\u001b[0midx\u001b[0m\u001b[1;33m)\u001b[0m\u001b[1;33m\u001b[0m\u001b[1;33m\u001b[0m\u001b[0m\n\u001b[0;32m    303\u001b[0m         \u001b[1;32melse\u001b[0m\u001b[1;33m:\u001b[0m\u001b[1;33m\u001b[0m\u001b[1;33m\u001b[0m\u001b[0m\n\u001b[1;32m--> 304\u001b[1;33m             \u001b[1;32mreturn\u001b[0m \u001b[0mself\u001b[0m\u001b[1;33m.\u001b[0m\u001b[0m_fcn\u001b[0m\u001b[1;33m(\u001b[0m\u001b[0mparent\u001b[0m\u001b[1;33m,\u001b[0m \u001b[0midx\u001b[0m\u001b[1;33m)\u001b[0m\u001b[1;33m\u001b[0m\u001b[1;33m\u001b[0m\u001b[0m\n\u001b[0m\u001b[0;32m    305\u001b[0m \u001b[1;33m\u001b[0m\u001b[0m\n\u001b[0;32m    306\u001b[0m \u001b[1;33m\u001b[0m\u001b[0m\n",
      "\u001b[1;32mc:\\Users\\mhardika\\miniconda3\\envs\\watertap-seto\\lib\\site-packages\\idaes\\core\\base\\process_block.py\u001b[0m in \u001b[0;36m_rule_default\u001b[1;34m(b, *args)\u001b[0m\n\u001b[0;32m     37\u001b[0m     \"\"\"\n\u001b[0;32m     38\u001b[0m     \u001b[1;32mtry\u001b[0m\u001b[1;33m:\u001b[0m\u001b[1;33m\u001b[0m\u001b[1;33m\u001b[0m\u001b[0m\n\u001b[1;32m---> 39\u001b[1;33m         \u001b[0mb\u001b[0m\u001b[1;33m.\u001b[0m\u001b[0mbuild\u001b[0m\u001b[1;33m(\u001b[0m\u001b[1;33m)\u001b[0m\u001b[1;33m\u001b[0m\u001b[1;33m\u001b[0m\u001b[0m\n\u001b[0m\u001b[0;32m     40\u001b[0m     \u001b[1;32mexcept\u001b[0m \u001b[0mException\u001b[0m\u001b[1;33m:\u001b[0m\u001b[1;33m\u001b[0m\u001b[1;33m\u001b[0m\u001b[0m\n\u001b[0;32m     41\u001b[0m         \u001b[0mlogging\u001b[0m\u001b[1;33m.\u001b[0m\u001b[0mgetLogger\u001b[0m\u001b[1;33m(\u001b[0m\u001b[0m__name__\u001b[0m\u001b[1;33m)\u001b[0m\u001b[1;33m.\u001b[0m\u001b[0mexception\u001b[0m\u001b[1;33m(\u001b[0m\u001b[1;34m\"Failure in build: {}\"\u001b[0m\u001b[1;33m.\u001b[0m\u001b[0mformat\u001b[0m\u001b[1;33m(\u001b[0m\u001b[0mb\u001b[0m\u001b[1;33m)\u001b[0m\u001b[1;33m)\u001b[0m\u001b[1;33m\u001b[0m\u001b[1;33m\u001b[0m\u001b[0m\n",
      "\u001b[1;32mc:\\users\\mhardika\\documents\\watertap_seto\\watertap-seto\\src\\watertap_contrib\\seto\\property_models\\chemical_softening_prop_pack.py\u001b[0m in \u001b[0;36mbuild\u001b[1;34m(self)\u001b[0m\n\u001b[0;32m    323\u001b[0m         \u001b[1;31m#     )\u001b[0m\u001b[1;33m\u001b[0m\u001b[1;33m\u001b[0m\u001b[0m\n\u001b[0;32m    324\u001b[0m \u001b[1;33m\u001b[0m\u001b[0m\n\u001b[1;32m--> 325\u001b[1;33m         \u001b[1;31m# self.mw_CaCO3 = Param(initialize=100e-3, units=pyunits.kg/pyunits.mol)\u001b[0m\u001b[1;33m\u001b[0m\u001b[1;33m\u001b[0m\u001b[0m\n\u001b[0m\u001b[0;32m    326\u001b[0m         \u001b[0mself\u001b[0m\u001b[1;33m.\u001b[0m\u001b[0mion_set\u001b[0m\u001b[1;33m.\u001b[0m\u001b[0madd\u001b[0m\u001b[1;33m(\u001b[0m\u001b[1;34m\"H2O\"\u001b[0m\u001b[1;33m)\u001b[0m\u001b[1;33m\u001b[0m\u001b[1;33m\u001b[0m\u001b[0m\n\u001b[0;32m    327\u001b[0m \u001b[1;33m\u001b[0m\u001b[0m\n",
      "\u001b[1;32mc:\\Users\\mhardika\\miniconda3\\envs\\watertap-seto\\lib\\site-packages\\pyomo\\core\\base\\block.py\u001b[0m in \u001b[0;36m__setattr__\u001b[1;34m(self, name, val)\u001b[0m\n\u001b[0;32m    647\u001b[0m                 \u001b[1;31m# Pyomo components are added with the add_component method.\u001b[0m\u001b[1;33m\u001b[0m\u001b[1;33m\u001b[0m\u001b[0m\n\u001b[0;32m    648\u001b[0m                 \u001b[1;31m#\u001b[0m\u001b[1;33m\u001b[0m\u001b[1;33m\u001b[0m\u001b[0m\n\u001b[1;32m--> 649\u001b[1;33m                 \u001b[0mself\u001b[0m\u001b[1;33m.\u001b[0m\u001b[0madd_component\u001b[0m\u001b[1;33m(\u001b[0m\u001b[0mname\u001b[0m\u001b[1;33m,\u001b[0m \u001b[0mval\u001b[0m\u001b[1;33m)\u001b[0m\u001b[1;33m\u001b[0m\u001b[1;33m\u001b[0m\u001b[0m\n\u001b[0m\u001b[0;32m    650\u001b[0m             \u001b[1;32melse\u001b[0m\u001b[1;33m:\u001b[0m\u001b[1;33m\u001b[0m\u001b[1;33m\u001b[0m\u001b[0m\n\u001b[0;32m    651\u001b[0m                 \u001b[1;31m#\u001b[0m\u001b[1;33m\u001b[0m\u001b[1;33m\u001b[0m\u001b[0m\n",
      "\u001b[1;32mc:\\Users\\mhardika\\miniconda3\\envs\\watertap-seto\\lib\\site-packages\\pyomo\\core\\base\\block.py\u001b[0m in \u001b[0;36madd_component\u001b[1;34m(self, name, val)\u001b[0m\n\u001b[0;32m   1217\u001b[0m                              _blockName, str(data))\n\u001b[0;32m   1218\u001b[0m             \u001b[1;32mtry\u001b[0m\u001b[1;33m:\u001b[0m\u001b[1;33m\u001b[0m\u001b[1;33m\u001b[0m\u001b[0m\n\u001b[1;32m-> 1219\u001b[1;33m                 \u001b[0mval\u001b[0m\u001b[1;33m.\u001b[0m\u001b[0mconstruct\u001b[0m\u001b[1;33m(\u001b[0m\u001b[0mdata\u001b[0m\u001b[1;33m)\u001b[0m\u001b[1;33m\u001b[0m\u001b[1;33m\u001b[0m\u001b[0m\n\u001b[0m\u001b[0;32m   1220\u001b[0m             \u001b[1;32mexcept\u001b[0m\u001b[1;33m:\u001b[0m\u001b[1;33m\u001b[0m\u001b[1;33m\u001b[0m\u001b[0m\n\u001b[0;32m   1221\u001b[0m                 \u001b[0merr\u001b[0m \u001b[1;33m=\u001b[0m \u001b[0msys\u001b[0m\u001b[1;33m.\u001b[0m\u001b[0mexc_info\u001b[0m\u001b[1;33m(\u001b[0m\u001b[1;33m)\u001b[0m\u001b[1;33m[\u001b[0m\u001b[1;36m1\u001b[0m\u001b[1;33m]\u001b[0m\u001b[1;33m\u001b[0m\u001b[1;33m\u001b[0m\u001b[0m\n",
      "\u001b[1;32mc:\\Users\\mhardika\\miniconda3\\envs\\watertap-seto\\lib\\site-packages\\pyomo\\core\\base\\param.py\u001b[0m in \u001b[0;36mconstruct\u001b[1;34m(self, data)\u001b[0m\n\u001b[0;32m    753\u001b[0m             \u001b[1;31m# Step #1: initialize data from rule value\u001b[0m\u001b[1;33m\u001b[0m\u001b[1;33m\u001b[0m\u001b[0m\n\u001b[0;32m    754\u001b[0m             \u001b[1;31m#\u001b[0m\u001b[1;33m\u001b[0m\u001b[1;33m\u001b[0m\u001b[0m\n\u001b[1;32m--> 755\u001b[1;33m             \u001b[0mself\u001b[0m\u001b[1;33m.\u001b[0m\u001b[0m_construct_from_rule_using_setitem\u001b[0m\u001b[1;33m(\u001b[0m\u001b[1;33m)\u001b[0m\u001b[1;33m\u001b[0m\u001b[1;33m\u001b[0m\u001b[0m\n\u001b[0m\u001b[0;32m    756\u001b[0m             \u001b[1;31m#\u001b[0m\u001b[1;33m\u001b[0m\u001b[1;33m\u001b[0m\u001b[0m\n\u001b[0;32m    757\u001b[0m             \u001b[1;31m# Step #2: allow any user-specified (external) data to override\u001b[0m\u001b[1;33m\u001b[0m\u001b[1;33m\u001b[0m\u001b[0m\n",
      "\u001b[1;32mc:\\Users\\mhardika\\miniconda3\\envs\\watertap-seto\\lib\\site-packages\\pyomo\\core\\base\\indexed_component.py\u001b[0m in \u001b[0;36m_construct_from_rule_using_setitem\u001b[1;34m(self)\u001b[0m\n\u001b[0;32m    702\u001b[0m                 \u001b[1;31m# The index is coming in externally; we need to validate it\u001b[0m\u001b[1;33m\u001b[0m\u001b[1;33m\u001b[0m\u001b[0m\n\u001b[0;32m    703\u001b[0m                 \u001b[1;32mfor\u001b[0m \u001b[0mindex\u001b[0m \u001b[1;32min\u001b[0m \u001b[0mrule\u001b[0m\u001b[1;33m.\u001b[0m\u001b[0mindices\u001b[0m\u001b[1;33m(\u001b[0m\u001b[1;33m)\u001b[0m\u001b[1;33m:\u001b[0m\u001b[1;33m\u001b[0m\u001b[1;33m\u001b[0m\u001b[0m\n\u001b[1;32m--> 704\u001b[1;33m                     \u001b[0mself\u001b[0m\u001b[1;33m[\u001b[0m\u001b[0mindex\u001b[0m\u001b[1;33m]\u001b[0m \u001b[1;33m=\u001b[0m \u001b[0mrule\u001b[0m\u001b[1;33m(\u001b[0m\u001b[0mblock\u001b[0m\u001b[1;33m,\u001b[0m \u001b[0mindex\u001b[0m\u001b[1;33m)\u001b[0m\u001b[1;33m\u001b[0m\u001b[1;33m\u001b[0m\u001b[0m\n\u001b[0m\u001b[0;32m    705\u001b[0m             \u001b[1;32melif\u001b[0m \u001b[1;32mnot\u001b[0m \u001b[0mself\u001b[0m\u001b[1;33m.\u001b[0m\u001b[0mindex_set\u001b[0m\u001b[1;33m(\u001b[0m\u001b[1;33m)\u001b[0m\u001b[1;33m.\u001b[0m\u001b[0misfinite\u001b[0m\u001b[1;33m(\u001b[0m\u001b[1;33m)\u001b[0m\u001b[1;33m:\u001b[0m\u001b[1;33m\u001b[0m\u001b[1;33m\u001b[0m\u001b[0m\n\u001b[0;32m    706\u001b[0m                 \u001b[1;31m# If the index is not finite, then we cannot iterate\u001b[0m\u001b[1;33m\u001b[0m\u001b[1;33m\u001b[0m\u001b[0m\n",
      "\u001b[1;32mc:\\Users\\mhardika\\miniconda3\\envs\\watertap-seto\\lib\\site-packages\\pyomo\\core\\base\\indexed_component.py\u001b[0m in \u001b[0;36m__setitem__\u001b[1;34m(self, index, val)\u001b[0m\n\u001b[0;32m    605\u001b[0m             \u001b[1;31m# _processUnhashableIndex didn't return a slicer)\u001b[0m\u001b[1;33m\u001b[0m\u001b[1;33m\u001b[0m\u001b[0m\n\u001b[0;32m    606\u001b[0m             \u001b[1;32mif\u001b[0m \u001b[0mindex\u001b[0m\u001b[1;33m.\u001b[0m\u001b[0m__class__\u001b[0m \u001b[1;32mis\u001b[0m \u001b[1;32mnot\u001b[0m \u001b[0mIndexedComponent_slice\u001b[0m\u001b[1;33m:\u001b[0m\u001b[1;33m\u001b[0m\u001b[1;33m\u001b[0m\u001b[0m\n\u001b[1;32m--> 607\u001b[1;33m                 \u001b[0mindex\u001b[0m \u001b[1;33m=\u001b[0m \u001b[0mself\u001b[0m\u001b[1;33m.\u001b[0m\u001b[0m_validate_index\u001b[0m\u001b[1;33m(\u001b[0m\u001b[0mindex\u001b[0m\u001b[1;33m)\u001b[0m\u001b[1;33m\u001b[0m\u001b[1;33m\u001b[0m\u001b[0m\n\u001b[0m\u001b[0;32m    608\u001b[0m         \u001b[1;32melse\u001b[0m\u001b[1;33m:\u001b[0m\u001b[1;33m\u001b[0m\u001b[1;33m\u001b[0m\u001b[0m\n\u001b[0;32m    609\u001b[0m             \u001b[1;32mreturn\u001b[0m \u001b[0mself\u001b[0m\u001b[1;33m.\u001b[0m\u001b[0m_setitem_impl\u001b[0m\u001b[1;33m(\u001b[0m\u001b[0mindex\u001b[0m\u001b[1;33m,\u001b[0m \u001b[0mobj\u001b[0m\u001b[1;33m,\u001b[0m \u001b[0mval\u001b[0m\u001b[1;33m)\u001b[0m\u001b[1;33m\u001b[0m\u001b[1;33m\u001b[0m\u001b[0m\n",
      "\u001b[1;32mc:\\Users\\mhardika\\miniconda3\\envs\\watertap-seto\\lib\\site-packages\\pyomo\\core\\base\\indexed_component.py\u001b[0m in \u001b[0;36m_validate_index\u001b[1;34m(self, idx)\u001b[0m\n\u001b[0;32m    786\u001b[0m         \u001b[1;31m# Raise an exception\u001b[0m\u001b[1;33m\u001b[0m\u001b[1;33m\u001b[0m\u001b[0m\n\u001b[0;32m    787\u001b[0m         \u001b[1;31m#\u001b[0m\u001b[1;33m\u001b[0m\u001b[1;33m\u001b[0m\u001b[0m\n\u001b[1;32m--> 788\u001b[1;33m         raise KeyError(\n\u001b[0m\u001b[0;32m    789\u001b[0m             \u001b[1;34m\"Index '%s' is not valid for indexed component '%s'\"\u001b[0m\u001b[1;33m\u001b[0m\u001b[1;33m\u001b[0m\u001b[0m\n\u001b[0;32m    790\u001b[0m             % ( idx, self.name, ))\n",
      "\u001b[1;31mKeyError\u001b[0m: \"Index 'SiO2' is not valid for indexed component 'fs.properties.mw_comp'\""
     ]
    }
   ],
   "source": [
    "charged_comp = [\"Ca_2+\", \"Mg_2+\", \"SiO2\"]\n",
    "neutral_solutes = [\"TSS\", \"TDS\", \"TOC\", \"NH3\", \"SiO2\"]\n",
    "ion_config_dict = get_ion_config(charged_comp)\n",
    "m = ConcreteModel()\n",
    "m.fs = FlowsheetBlock(dynamic=False)\n",
    "m.fs.properties = ChemSofteningParameterBlock(**ion_config_dict)\n",
    "m.fs.soft = soft = ChemicalSoftening0D(\n",
    "    property_package=m.fs.properties, silica_removal=True\n",
    ")\n",
    "soft.retention_time_mixer.fix()\n",
    "soft.retention_time_floc.fix()\n",
    "soft.retention_time_sed.fix()\n",
    "soft.retention_time_recarb.fix()\n",
    "ca_in = 0.075 * pyunits.kg / pyunits.m**3  # g/L = kg/m3\n",
    "mg_in = 0.0061 * pyunits.kg / pyunits.m**3  # g/L = kg/m3\n",
    "alk_in = 0.195 * pyunits.kg / pyunits.m**3  # g/L = kg/m3 as CaCO3\n",
    "co2_in = 0.072 * pyunits.kg / pyunits.m**3  # g/L = kg/m3\n",
    "q_in = 50000 * pyunits.m**3 / pyunits.day  # m3/d\n",
    "rho = 1000 * pyunits.kg / pyunits.m**3\n",
    "pH_in = 7\n",
    "temp_in = 293.15  # K\n",
    "prop_in = m.fs.soft.properties_in[0]\n",
    "prop_out = m.fs.soft.properties_out[0]\n",
    "prop_waste = m.fs.soft.properties_waste[0]\n",
    "if value(ca_in * 2.5) >= value(alk_in):\n",
    "    prop_in.carbonate_hardness_comp[\"Ca_2+\"].fix(alk_in)\n",
    "    prop_in.carbonate_hardness_comp[\"Mg_2+\"].fix(0)\n",
    "    prop_in.non_carbonate_hardness_comp[\"Ca_2+\"].fix(((ca_in * 2.5) - alk_in))\n",
    "    prop_in.non_carbonate_hardness_comp[\"Mg_2+\"].fix(mg_in * 4.10)\n",
    "else:\n",
    "    total_hardness = (ca_in * 2.5) + (mg_in * 4.10)\n",
    "    prop_in.carbonate_hardness_comp[\"Ca_2+\"].fix(ca_in * 2.5)\n",
    "    prop_in.carbonate_hardness_comp[\"Mg_2+\"].fix((alk_in - ca_in * 2.5))\n",
    "    prop_in.non_carbonate_hardness_comp[\"Ca_2+\"].fix(0)\n",
    "    prop_in.non_carbonate_hardness_comp[\"Mg_2+\"].fix(total_hardness - alk_in)\n",
    "ca_mass_flow = pyunits.convert((ca_in * q_in), to_units=pyunits.kg / pyunits.s)()\n",
    "mg_mass_flow = pyunits.convert((mg_in * q_in), to_units=pyunits.kg / pyunits.s)()\n",
    "co2_mass_flow = pyunits.convert((co2_in * q_in), to_units=pyunits.kg / pyunits.s)()\n",
    "h2o_mass_flow = pyunits.convert((rho * q_in), to_units=pyunits.kg / pyunits.s)()\n",
    "# alk_mol_flow = pyunits.convert((alk_in * q_in) / m.fs.properties.mw_comp[\"Alkalinity_2-\"], to_units=pyunits.mol/pyunits.s)()\n",
    "ca_mass_flow, h2o_mass_flow\n",
    "m.fs.soft.properties_in[0].flow_mass_phase_comp[\"Liq\", \"Ca_2+\"].fix(ca_mass_flow)\n",
    "set_scaling_factor(m.fs.soft.properties_in[0].flow_mass_phase_comp[\"Liq\", \"Ca_2+\"], 100)\n",
    "m.fs.soft.properties_in[0].flow_mass_phase_comp[\"Liq\", \"Mg_2+\"].fix(mg_mass_flow)\n",
    "set_scaling_factor(m.fs.soft.properties_in[0].flow_mass_phase_comp[\"Liq\", \"Mg_2+\"], 100)\n",
    "# m.fs.soft.properties_in[0].flow_mass_phase_comp[\"Liq\", \"CO3_2-\"].fix(co2_mass_flow)\n",
    "# set_scaling_factor(m.fs.soft.properties_in[0].flow_mass_phase_comp[\"Liq\", \"CO3_2-\"], 100)\n",
    "m.fs.soft.properties_in[0].flow_mass_phase_comp[\"Liq\", \"H2O\"].fix(h2o_mass_flow)\n",
    "set_scaling_factor(m.fs.soft.properties_in[0].flow_mass_phase_comp[\"Liq\", \"H2O\"], 1e-2)\n",
    "m.fs.soft.properties_in[0].flow_mass_phase_comp[\"Liq\", \"SiO2\"].fix(30)\n",
    "# m.fs.soft.properties_in[0].flow_mass_phase_comp[\"Liq\", \"TDS\"].fix(0.5)\n",
    "# m.fs.soft.properties_in[0].flow_mass_phase_comp[\"Liq\", \"TSS\"].fix(0.05)\n",
    "# m.fs.soft.properties_in[0].conc_mass_phase_comp[\"Liq\", \"SiO2\"].fix(0.15)\n",
    "m.fs.soft.properties_in[0].temperature.fix(temp_in)\n",
    "m.fs.soft.properties_in[0].alkalinity.fix(0.195)\n",
    "# soft.properties_out[0].calculate_state()\n",
    "# soft.properties_out[0].conc_mass_phase_comp['Liq', 'Ca_2+'].fix(0.03)\n",
    "# soft.properties_out[0].conc_mass_phase_comp['Liq', 'Mg_2+'].fix(0.02)\n",
    "# m.fs.soft.properties_in[0].flow_mol_phase_comp[\"Liq\", \"Alkalinity_2-\"].fix(alk_mol_flow)\n",
    "m.fs.soft.properties_in[0].conc_mass_phase_comp\n",
    "# m.fs.soft.properties_in[0].conc_mass_caco3_comp\n",
    "m.fs.soft.properties_in[0].flow_vol_phase\n",
    "# m.fs.soft.properties_in[0].carbonate_hardness_comp\n",
    "# m.fs.soft.properties_in[0].non_carbonate_hardness_comp\n",
    "m.fs.soft.properties_in[0].total_hardness\n",
    "# set_scaling_factor(m.fs.soft.properties_in[0].non_carbonate_hardness_comp, 1e8)\n",
    "# calculate_scaling_factors(m)\n",
    "\n",
    "\n",
    "m.fs.soft.properties_out[0].pH.fix(11.34)\n",
    "m.fs.soft.initialize()\n",
    "# m.fs.soft.excess_lime.fix(170)\n",
    "solver = get_solver()\n",
    "results = solver.solve(m)\n",
    "# # m.fs.soft.display()\n",
    "print(f\"DOF = {degrees_of_freedom(m)}\")\n",
    "print(results.solver.termination_condition.swapcase())\n",
    "print_infeasible_constraints(m)\n",
    "# lime_flow = m.fs.soft.excess_lime * prop_in.flow_vol_phase[\"Liq\"]\n",
    "# lime_flow = pyunits.convert(lime_flow, to_units=pyunits.kg/pyunits.day)()\n",
    "# print(lime_flow)\n",
    "soft.mg_add.display()"
   ]
  },
  {
   "cell_type": "code",
   "execution_count": 9,
   "metadata": {},
   "outputs": [
    {
     "name": "stdout",
     "output_type": "stream",
     "text": [
      "component_list : Size=1, Index=None, Ordered=Insertion\n",
      "    Key  : Dimen : Domain : Size : Members\n",
      "    None :     1 :    Any :    4 : {'H2O', 'Ca_2+', 'Mg_2+', 'SiO2'}\n"
     ]
    }
   ],
   "source": [
    "prop_in.component_list.display()"
   ]
  },
  {
   "cell_type": "code",
   "execution_count": 11,
   "metadata": {},
   "outputs": [
    {
     "name": "stdout",
     "output_type": "stream",
     "text": [
      "flow_mass_phase_comp : Mass flow rate\n",
      "    Size=4, Index=fs.soft.properties_in[0.0].flow_mass_phase_comp_index, Units=kg/s\n",
      "    Key              : Lower : Value                 : Upper : Fixed : Stale : Domain\n",
      "    ('Liq', 'Ca_2+') :     0 :  0.043402777777777776 :  None :  True :  True : NonNegativeReals\n",
      "      ('Liq', 'H2O') :     0 :     578.7037037037037 :  None :  True :  True : NonNegativeReals\n",
      "    ('Liq', 'Mg_2+') :     0 : 0.0035300925925925925 :  None :  True :  True : NonNegativeReals\n",
      "     ('Liq', 'SiO2') :     0 :                    30 :  None :  True :  True : NonNegativeReals\n",
      "mass_frac_phase_comp : Mass fraction\n",
      "    Size=4, Index=fs.soft.properties_in[0.0].mass_frac_phase_comp_index\n",
      "    Key              : Lower : Value                  : Upper : Fixed : Stale : Domain\n",
      "    ('Liq', 'Ca_2+') :     0 :  7.129812302462607e-05 : 1.001 : False : False :  Reals\n",
      "      ('Liq', 'H2O') :     0 :     0.9506416403283477 : 1.001 : False : False :  Reals\n",
      "    ('Liq', 'Mg_2+') :     0 :   4.82318404325847e-06 : 1.001 : False : False :  Reals\n",
      "     ('Liq', 'SiO2') :     0 : 1.0989011746026836e-05 : 1.001 : False : False :  Reals\n",
      "conc_mass_phase_comp : Mass concentration\n",
      "    Size=4, Index=fs.soft.properties_in[0.0].conc_mass_phase_comp_index, Units=kg/m**3\n",
      "    Key              : Lower : Value                : Upper  : Fixed : Stale : Domain\n",
      "    ('Liq', 'Ca_2+') :     0 :  0.07129812302462607 : 2000.0 : False : False :  Reals\n",
      "      ('Liq', 'H2O') :     0 :    950.6416403283478 : 2000.0 : False : False :  Reals\n",
      "    ('Liq', 'Mg_2+') :     0 : 0.004823184043076635 : 2000.0 : False : False :  Reals\n",
      "     ('Liq', 'SiO2') :     0 :    0.010989011745845 : 2000.0 : False : False :  Reals\n",
      "flow_vol_phase : Volumetric flow rate\n",
      "    Size=1, Index=fs.properties.phase_list, Units=m**3/s\n",
      "    Key : Lower : Value             : Upper : Fixed : Stale : Domain\n",
      "    Liq :     0 : 0.608750636574074 :  None : False : False :  Reals\n"
     ]
    }
   ],
   "source": [
    "prop_in.flow_mass_phase_comp.display()\n",
    "prop_in.mass_frac_phase_comp.display()\n",
    "prop_in.conc_mass_phase_comp.display()\n",
    "prop_in.flow_vol_phase.display()"
   ]
  },
  {
   "cell_type": "code",
   "execution_count": 7,
   "metadata": {},
   "outputs": [
    {
     "name": "stdout",
     "output_type": "stream",
     "text": [
      "flow_mass_phase_comp : Mass flow rate\n",
      "    Size=4, Index=fs.soft.properties_waste[0.0].flow_mass_phase_comp_index, Units=kg/s\n",
      "    Key              : Lower : Value                 : Upper : Fixed : Stale : Domain\n",
      "    ('Liq', 'Ca_2+') :     0 :  0.036491580215276286 :  None : False : False : NonNegativeReals\n",
      "      ('Liq', 'H2O') :     0 :     5.195581067986164 :  None : False : False : NonNegativeReals\n",
      "    ('Liq', 'Mg_2+') :     0 : 1.443238103315495e-09 :  None : False : False : NonNegativeReals\n",
      "     ('Liq', 'SiO2') :     0 :    0.5854337160961516 :  None : False : False : NonNegativeReals\n",
      "mass_frac_phase_comp : Mass fraction\n",
      "    Size=4, Index=fs.soft.properties_waste[0.0].mass_frac_phase_comp_index\n",
      "    Key              : Lower : Value : Upper : Fixed : Stale : Domain\n",
      "    ('Liq', 'Ca_2+') :     0 :   0.5 : 1.001 : False : False :  Reals\n",
      "      ('Liq', 'H2O') :     0 :   0.5 : 1.001 : False : False :  Reals\n",
      "    ('Liq', 'Mg_2+') :     0 :   0.5 : 1.001 : False : False :  Reals\n",
      "     ('Liq', 'SiO2') :     0 :   0.5 : 1.001 : False : False :  Reals\n",
      "conc_mass_phase_comp : Mass concentration\n",
      "    Size=4, Index=fs.soft.properties_waste[0.0].conc_mass_phase_comp_index, Units=kg/m**3\n",
      "    Key              : Lower : Value : Upper  : Fixed : Stale : Domain\n",
      "    ('Liq', 'Ca_2+') :     0 :    10 : 2000.0 : False : False :  Reals\n",
      "      ('Liq', 'H2O') :     0 :    10 : 2000.0 : False : False :  Reals\n",
      "    ('Liq', 'Mg_2+') :     0 :    10 : 2000.0 : False : False :  Reals\n",
      "     ('Liq', 'SiO2') :     0 :    10 : 2000.0 : False : False :  Reals\n"
     ]
    }
   ],
   "source": [
    "prop_waste.flow_mass_phase_comp.display()\n",
    "prop_waste.mass_frac_phase_comp.display()\n",
    "prop_waste.conc_mass_phase_comp.display()"
   ]
  },
  {
   "cell_type": "code",
   "execution_count": 6,
   "metadata": {},
   "outputs": [
    {
     "name": "stdout",
     "output_type": "stream",
     "text": [
      "H2O\n",
      "\tFLOW VOL IN = 0.609 m3/s = 13.8944 MGD\n",
      "\tFLOW VOL OUT = 0.603 m3/s = 13.7555 MGD\n",
      "\tFLOW VOL WASTE = 0.006 m3/s = 0.1389 MGD\n",
      "Ca_2+\n",
      "\tCONC. IN = 71.2981 mg/L\n",
      "\tCONC. OUT = 12.0 mg/L\n",
      "\tCONC. WASTE = 10000.0 mg/L\n",
      "\tMASS FLOW IN = 0.0434 kg/s\n",
      "\tMASS FLOW OUT = 0.0072 kg/s\n",
      "\tMASS FLOW WASTE = 0.0362 kg/s\n",
      "\n",
      "Mg_2+\n",
      "\tCONC. IN = 5.7989 mg/L\n",
      "\tCONC. OUT = 5.7989 mg/L\n",
      "\tCONC. WASTE = 10000.0 mg/L\n",
      "\tMASS FLOW IN = 0.0035 kg/s\n",
      "\tMASS FLOW OUT = 0.0035 kg/s\n",
      "\tMASS FLOW WASTE = 0.0 kg/s\n",
      "\n",
      "SiO2\n",
      "\tCONC. IN = 0.0 mg/L\n",
      "\tCONC. OUT = 45764.7822 mg/L\n",
      "\tCONC. WASTE = 10000.0 mg/L\n",
      "\tMASS FLOW IN = 30 kg/s\n",
      "\tMASS FLOW OUT = 27.5807 kg/s\n",
      "\tMASS FLOW WASTE = 2.4193 kg/s\n",
      "\n"
     ]
    }
   ],
   "source": [
    "pin = soft.properties_in[0]\n",
    "pout = soft.properties_out[0]\n",
    "pw = soft.properties_waste[0]\n",
    "pw.conc_mass_phase_comp[...]\n",
    "for c in soft.config.property_package.component_list:\n",
    "    print(c)\n",
    "    if c == \"H2O\":\n",
    "        print(\n",
    "            f\"\\tFLOW VOL IN = {round(pin.flow_vol(), 3)} m3/s = {round(pyunits.convert(pin.flow_vol, to_units=pyunits.Mgallons/pyunits.d)(), 4)} MGD\"\n",
    "        )\n",
    "        print(\n",
    "            f\"\\tFLOW VOL OUT = {round(pout.flow_vol(), 3)} m3/s = {round(pyunits.convert(pout.flow_vol, to_units=pyunits.Mgallons/pyunits.d)(), 4)} MGD\"\n",
    "        )\n",
    "        print(\n",
    "            f\"\\tFLOW VOL WASTE = {round(pw.flow_vol(), 3)} m3/s = {round(pyunits.convert(pw.flow_vol, to_units=pyunits.Mgallons/pyunits.d)(), 4)} MGD\"\n",
    "        )\n",
    "        continue\n",
    "    print(\n",
    "        f'\\tCONC. IN = {round(pyunits.convert(pin.conc_mass_phase_comp[\"Liq\", c], to_units=pyunits.mg/pyunits.liter)(), 4)} mg/L'\n",
    "    )\n",
    "    print(\n",
    "        f'\\tCONC. OUT = {round(pyunits.convert(pout.conc_mass_phase_comp[\"Liq\", c], to_units=pyunits.mg/pyunits.liter)(), 4)} mg/L'\n",
    "    )\n",
    "    print(\n",
    "        f'\\tCONC. WASTE = {round(pyunits.convert(pw.conc_mass_phase_comp[\"Liq\", c], to_units=pyunits.mg/pyunits.liter)(), 4)} mg/L'\n",
    "    )\n",
    "    print(f'\\tMASS FLOW IN = {round(pin.flow_mass_phase_comp[\"Liq\", c](), 4)} kg/s')\n",
    "    print(f'\\tMASS FLOW OUT = {round(pout.flow_mass_phase_comp[\"Liq\", c](), 4)} kg/s')\n",
    "    print(f'\\tMASS FLOW WASTE = {round(pw.flow_mass_phase_comp[\"Liq\", c](), 4)} kg/s')\n",
    "\n",
    "    print(f\"\")"
   ]
  },
  {
   "cell_type": "code",
   "execution_count": 1,
   "metadata": {},
   "outputs": [
    {
     "ename": "NameError",
     "evalue": "name 'm' is not defined",
     "output_type": "error",
     "traceback": [
      "\u001b[1;31m---------------------------------------------------------------------------\u001b[0m",
      "\u001b[1;31mNameError\u001b[0m                                 Traceback (most recent call last)",
      "\u001b[1;32m~\\AppData\\Local\\Temp\\2\\ipykernel_25288\\1265245002.py\u001b[0m in \u001b[0;36m<cell line: 1>\u001b[1;34m()\u001b[0m\n\u001b[1;32m----> 1\u001b[1;33m \u001b[0mm\u001b[0m\u001b[1;33m.\u001b[0m\u001b[0mfs\u001b[0m\u001b[1;33m.\u001b[0m\u001b[0msoft\u001b[0m\u001b[1;33m.\u001b[0m\u001b[0mproperties_in\u001b[0m\u001b[1;33m[\u001b[0m\u001b[1;36m0\u001b[0m\u001b[1;33m]\u001b[0m\u001b[1;33m.\u001b[0m\u001b[0mparams\u001b[0m\u001b[1;33m.\u001b[0m\u001b[0mmw_comp\u001b[0m\u001b[1;33m.\u001b[0m\u001b[0mdisplay\u001b[0m\u001b[1;33m(\u001b[0m\u001b[1;33m)\u001b[0m\u001b[1;33m\u001b[0m\u001b[1;33m\u001b[0m\u001b[0m\n\u001b[0m",
      "\u001b[1;31mNameError\u001b[0m: name 'm' is not defined"
     ]
    }
   ],
   "source": [
    "m.fs.soft.properties_in[0].params.mw_comp.display()"
   ]
  },
  {
   "cell_type": "code",
   "execution_count": null,
   "metadata": {},
   "outputs": [
    {
     "data": {
      "text/plain": [
       "[<matplotlib.lines.Line2D at 0x7fbf93a95090>]"
      ]
     },
     "execution_count": 17,
     "metadata": {},
     "output_type": "execute_result"
    },
    {
     "data": {
      "image/png": "[encoded data removed]",
      "text/plain": [
       "<Figure size 640x480 with 1 Axes>"
      ]
     },
     "metadata": {},
     "output_type": "display_data"
    }
   ],
   "source": [
    "def pkw(t):\n",
    "    return 4470.99 / t + 0.017060 * t - 6.0875\n",
    "\n",
    "\n",
    "ts = np.arange(273, 330)\n",
    "plt.plot(ts, pkw(ts))"
   ]
  },
  {
   "cell_type": "code",
   "execution_count": null,
   "metadata": {},
   "outputs": [
    {
     "data": {
      "text/plain": [
       "578.7037037037037"
      ]
     },
     "execution_count": 21,
     "metadata": {},
     "output_type": "execute_result"
    }
   ],
   "source": [
    "pyunits.convert((rho * q_in), to_units=pyunits.kg / pyunits.s)()"
   ]
  },
  {
   "cell_type": "code",
   "execution_count": null,
   "metadata": {},
   "outputs": [
    {
     "name": "stdout",
     "output_type": "stream",
     "text": [
      "non_carbonate_hardness_comp : Non-carbonate hardness in CaCO3 equivalents\n",
      "    Size=2, Index=fs.properties.hardness_set, Units=kg/m**3\n",
      "    Key   : Lower : Value                 : Upper : Fixed : Stale : Domain\n",
      "    Ca_2+ :     0 : 6.164766491848106e-09 :  None : False : False :  Reals\n",
      "    Mg_2+ :     0 :  0.025412775970696348 :  None : False : False :  Reals\n"
     ]
    }
   ],
   "source": [
    "m.fs.soft.properties_in[0].non_carbonate_hardness_comp.display()"
   ]
  },
  {
   "cell_type": "code",
   "execution_count": null,
   "metadata": {},
   "outputs": [
    {
     "name": "stdout",
     "output_type": "stream",
     "text": [
      "total_hardness : Size=1\n",
      "    Key  : Value\n",
      "    None : 0.21284260264494673\n"
     ]
    }
   ],
   "source": [
    "m.fs.soft.properties_in[0].total_hardness.display()"
   ]
  },
  {
   "cell_type": "code",
   "execution_count": null,
   "metadata": {},
   "outputs": [
    {
     "name": "stdout",
     "output_type": "stream",
     "text": [
      "Block fs.stream[0]\n",
      "\n",
      "  Variables:\n",
      "    flow_mol_phase_comp : Mole flow rate\n",
      "        Size=10, Index=fs.stream[0].flow_mol_phase_comp_index, Units=mol/s\n",
      "        Key                      : Lower : Value       : Upper : Fixed : Stale : Domain\n",
      "        ('Liq', 'Alkalinity_2-') :     0 :     2.5e-08 :  None :  True :  True : NonNegativeReals\n",
      "               ('Liq', 'CO3_2-') :     0 : 2.00025e-05 :  None :  True :  True : NonNegativeReals\n",
      "                ('Liq', 'Ca_2+') :     0 :    0.000135 :  None :  True :  True : NonNegativeReals\n",
      "                  ('Liq', 'H2O') :     0 :          10 :  None :  True :  True : NonNegativeReals\n",
      "                ('Liq', 'Mg_2+') :     0 :    0.000975 :  None :  True :  True : NonNegativeReals\n",
      "                  ('Liq', 'NH3') :     0 :       1e-05 :  None :  True :  True : NonNegativeReals\n",
      "                 ('Liq', 'SiO2') :     0 :       1e-05 :  None :  True :  True : NonNegativeReals\n",
      "                  ('Liq', 'TDS') :     0 :       1e-05 :  None :  True :  True : NonNegativeReals\n",
      "                  ('Liq', 'TOC') :     0 :       1e-05 :  None :  True :  True : NonNegativeReals\n",
      "                  ('Liq', 'TSS') :     0 :       1e-05 :  None :  True :  True : NonNegativeReals\n",
      "    temperature : State temperature\n",
      "        Size=1, Index=None, Units=K\n",
      "        Key  : Lower  : Value  : Upper  : Fixed : Stale : Domain\n",
      "        None : 273.15 : 298.15 : 373.15 :  True :  True : NonNegativeReals\n",
      "    pressure : State pressure\n",
      "        Size=1, Index=None, Units=Pa\n",
      "        Key  : Lower    : Value  : Upper : Fixed : Stale : Domain\n",
      "        None : 100000.0 : 101325 :  None :  True :  True : NonNegativeReals\n",
      "    pH : State pH\n",
      "        Size=1, Index=None\n",
      "        Key  : Lower : Value : Upper : Fixed : Stale : Domain\n",
      "        None :     0 :     7 :    14 :  True :  True : NonNegativeReals\n",
      "    conc_mass_caco3_comp : Mass concentration in CaCO3 equivalents\n",
      "        Size=4, Index=fs.properties.ion_set, Units=kg/m**3\n",
      "        Key           : Lower : Value                  : Upper : Fixed : Stale : Domain\n",
      "        Alkalinity_2- :     0 : 1.3886473185152083e-05 :  None : False : False :  Reals\n",
      "               CO3_2- :     0 :   0.011110567194897121 :  None : False : False :  Reals\n",
      "                Ca_2+ :     0 :    0.07498695519615242 :  None : False : False :  Reals\n",
      "                Mg_2+ :     0 :     0.5415724541944285 :  None : False : False :  Reals\n",
      "    conc_mass_phase_comp : Mass concentration\n",
      "        Size=10, Index=fs.stream[0].conc_mass_phase_comp_index, Units=kg/m**3\n",
      "        Key                      : Lower : Value                 : Upper  : Fixed : Stale : Domain\n",
      "        ('Liq', 'Alkalinity_2-') :     0 :   8.4735259375798e-06 : 2000.0 : False : False :  Reals\n",
      "               ('Liq', 'CO3_2-') :     0 :  0.006667451373657762 : 2000.0 : False : False :  Reals\n",
      "                ('Liq', 'Ca_2+') :     0 :   0.02999478207846097 : 2000.0 : False : False :  Reals\n",
      "                  ('Liq', 'H2O') :     0 :     999.8260692820185 : 2000.0 : False : False :  Reals\n",
      "                ('Liq', 'Mg_2+') :     0 :    0.1299773890066628 : 2000.0 : False : False :  Reals\n",
      "                  ('Liq', 'NH3') :     0 : 0.0009459465533266801 : 2000.0 : False : False :  Reals\n",
      "                 ('Liq', 'SiO2') :     0 : 0.0033371972356928408 : 2000.0 : False : False :  Reals\n",
      "                  ('Liq', 'TDS') :     0 :  0.000999826069282433 : 2000.0 : False : False :  Reals\n",
      "                  ('Liq', 'TOC') :     0 : 0.0009998260692824332 : 2000.0 : False : False :  Reals\n",
      "                  ('Liq', 'TSS') :     0 : 0.0009998260692824332 : 2000.0 : False : False :  Reals\n",
      "    dens_mass_phase : Mass density\n",
      "        Size=1, Index=fs.stream[0].dens_mass_phase_index, Units=kg/m**3\n",
      "        Key : Lower : Value  : Upper  : Fixed : Stale : Domain\n",
      "        Liq : 500.0 : 1000.0 : 2000.0 :  True :  True :  Reals\n",
      "    mass_frac_phase_comp : Mass fraction\n",
      "        Size=10, Index=fs.stream[0].mass_frac_phase_comp_index\n",
      "        Key                      : Lower : Value                  : Upper : Fixed : Stale : Domain\n",
      "        ('Liq', 'Alkalinity_2-') :     0 :  8.473525937579801e-09 : 1.001 : False : False :  Reals\n",
      "               ('Liq', 'CO3_2-') :     0 :  6.667451373657762e-06 : 1.001 : False : False :  Reals\n",
      "                ('Liq', 'Ca_2+') :     0 :  2.999478207846097e-05 : 1.001 : False : False :  Reals\n",
      "                  ('Liq', 'H2O') :     0 :     0.9998260692820184 : 1.001 : False : False :  Reals\n",
      "                ('Liq', 'Mg_2+') :     0 : 0.00012997738900666283 : 1.001 : False : False :  Reals\n",
      "                  ('Liq', 'NH3') :     0 :    9.4594655332668e-07 : 1.001 : False : False :  Reals\n",
      "                 ('Liq', 'SiO2') :     0 :  3.337197235692841e-06 : 1.001 : False : False :  Reals\n",
      "                  ('Liq', 'TDS') :     0 :  9.998260692824331e-07 : 1.001 : False : False :  Reals\n",
      "                  ('Liq', 'TOC') :     0 :  9.998260692824331e-07 : 1.001 : False : False :  Reals\n",
      "                  ('Liq', 'TSS') :     0 :  9.998260692824331e-07 : 1.001 : False : False :  Reals\n",
      "    flow_mass_phase_comp : Component Mass flowrate\n",
      "        Size=10, Index=fs.stream[0].flow_mass_phase_comp_index, Units=kg/s\n",
      "        Key                      : Lower : Value           : Upper : Fixed : Stale : Domain\n",
      "        ('Liq', 'Alkalinity_2-') :     0 :      1.5255e-09 :  None : False : False :  Reals\n",
      "               ('Liq', 'CO3_2-') :     0 : 1.200350025e-06 :  None : False : False :  Reals\n",
      "                ('Liq', 'Ca_2+') :     0 :         5.4e-06 :  None : False : False :  Reals\n",
      "                  ('Liq', 'H2O') :     0 :            0.18 :  None : False : False :  Reals\n",
      "                ('Liq', 'Mg_2+') :     0 :        2.34e-05 :  None : False : False :  Reals\n",
      "                  ('Liq', 'NH3') :     0 :       1.703e-07 :  None : False : False :  Reals\n",
      "                 ('Liq', 'SiO2') :     0 :       6.008e-07 :  None : False : False :  Reals\n",
      "                  ('Liq', 'TDS') :     0 :         1.8e-07 :  None : False : False :  Reals\n",
      "                  ('Liq', 'TOC') :     0 :         1.8e-07 :  None : False : False :  Reals\n",
      "                  ('Liq', 'TSS') :     0 :         1.8e-07 :  None : False : False :  Reals\n",
      "    carbonate_hardness_comp : Carbonate hardness in CaCO3 equivalents\n",
      "        Size=2, Index=fs.properties.hardness_set, Units=kg/m**3\n",
      "        Key   : Lower : Value                  : Upper : Fixed : Stale : Domain\n",
      "        Ca_2+ :     0 : 1.3886473185152083e-05 :  None : False : False :  Reals\n",
      "        Mg_2+ :     0 :                      0 :  None :  True :  True :  Reals\n",
      "    non_carbonate_hardness_comp : Non-carbonate hardness in CaCO3 equivalents\n",
      "        Size=2, Index=fs.properties.hardness_set, Units=kg/m**3\n",
      "        Key   : Lower : Value               : Upper : Fixed : Stale : Domain\n",
      "        Ca_2+ :     0 : 0.07497306872296727 :  None : False : False :  Reals\n",
      "        Mg_2+ :     0 :  0.5415724541944285 :  None : False : False :  Reals\n",
      "    pOH : pOH\n",
      "        Size=1, Index=None\n",
      "        Key  : Lower : Value : Upper : Fixed : Stale : Domain\n",
      "        None :     0 :   7.0 :    14 : False : False :  Reals\n",
      "\n",
      "  Objectives:\n",
      "    None\n",
      "\n",
      "  Constraints:\n",
      "    eq_conc_mass_caco3_comp : Size=4\n",
      "        Key           : Lower : Body : Upper\n",
      "        Alkalinity_2- :   0.0 :  0.0 :   0.0\n",
      "               CO3_2- :   0.0 :  0.0 :   0.0\n",
      "                Ca_2+ :   0.0 :  0.0 :   0.0\n",
      "                Mg_2+ :   0.0 :  0.0 :   0.0\n",
      "    eq_conc_mass_phase_comp : Size=10\n",
      "        Key                      : Lower : Body                    : Upper\n",
      "        ('Liq', 'Alkalinity_2-') :   0.0 : -1.6940658945086007e-21 :   0.0\n",
      "               ('Liq', 'CO3_2-') :   0.0 :                     0.0 :   0.0\n",
      "                ('Liq', 'Ca_2+') :   0.0 :                     0.0 :   0.0\n",
      "                  ('Liq', 'H2O') :   0.0 :                     0.0 :   0.0\n",
      "                ('Liq', 'Mg_2+') :   0.0 : -2.7755575615628914e-17 :   0.0\n",
      "                  ('Liq', 'NH3') :   0.0 :  1.0842021724855044e-19 :   0.0\n",
      "                 ('Liq', 'SiO2') :   0.0 :  -4.336808689942018e-19 :   0.0\n",
      "                  ('Liq', 'TDS') :   0.0 :  -2.168404344971009e-19 :   0.0\n",
      "                  ('Liq', 'TOC') :   0.0 :                     0.0 :   0.0\n",
      "                  ('Liq', 'TSS') :   0.0 :                     0.0 :   0.0\n",
      "    eq_dens_mass_phase : Size=0\n",
      "        Key : Lower : Body : Upper\n",
      "    eq_mass_frac_phase_comp : Size=10\n",
      "        Key                      : Lower : Body                    : Upper\n",
      "        ('Liq', 'Alkalinity_2-') :   0.0 :  4.1469211085243447e-19 :   0.0\n",
      "               ('Liq', 'CO3_2-') :   0.0 :  4.1250504531284427e-19 :   0.0\n",
      "                ('Liq', 'Ca_2+') :   0.0 :  4.0657581468206416e-19 :   0.0\n",
      "                  ('Liq', 'H2O') :   0.0 : -3.3306690738754696e-16 :   0.0\n",
      "                ('Liq', 'Mg_2+') :   0.0 :  3.7947076036992655e-19 :   0.0\n",
      "                  ('Liq', 'NH3') :   0.0 :  4.1441086944416644e-19 :   0.0\n",
      "                 ('Liq', 'SiO2') :   0.0 :   4.137755947337257e-19 :   0.0\n",
      "                  ('Liq', 'TDS') :   0.0 :  4.1441086944416644e-19 :   0.0\n",
      "                  ('Liq', 'TOC') :   0.0 :  4.1441086944416644e-19 :   0.0\n",
      "                  ('Liq', 'TSS') :   0.0 :  4.1441086944416644e-19 :   0.0\n",
      "    eq_flow_mass_phase_comp : Size=10\n",
      "        Key                      : Lower : Body : Upper\n",
      "        ('Liq', 'Alkalinity_2-') :   0.0 :  0.0 :   0.0\n",
      "               ('Liq', 'CO3_2-') :   0.0 :  0.0 :   0.0\n",
      "                ('Liq', 'Ca_2+') :   0.0 :  0.0 :   0.0\n",
      "                  ('Liq', 'H2O') :   0.0 :  0.0 :   0.0\n",
      "                ('Liq', 'Mg_2+') :   0.0 :  0.0 :   0.0\n",
      "                  ('Liq', 'NH3') :   0.0 :  0.0 :   0.0\n",
      "                 ('Liq', 'SiO2') :   0.0 :  0.0 :   0.0\n",
      "                  ('Liq', 'TDS') :   0.0 :  0.0 :   0.0\n",
      "                  ('Liq', 'TOC') :   0.0 :  0.0 :   0.0\n",
      "                  ('Liq', 'TSS') :   0.0 :  0.0 :   0.0\n",
      "    eq_carbonate_hardness_comp : Size=1\n",
      "        Key   : Lower : Body : Upper\n",
      "        Ca_2+ :   0.0 :  0.0 :   0.0\n",
      "    eq_non_carbonate_hardness_comp : Size=2\n",
      "        Key   : Lower : Body : Upper\n",
      "        Ca_2+ :   0.0 :  0.0 :   0.0\n",
      "        Mg_2+ :   0.0 :  0.0 :   0.0\n",
      "    eq_pOH : Size=1\n",
      "        Key  : Lower : Body : Upper\n",
      "        None :   0.0 :  0.0 :   0.0\n"
     ]
    }
   ],
   "source": [
    "charged_comp = [\"Ca_2+\", \"Mg_2+\", \"Alkalinity_2-\", \"CO3_2-\"]\n",
    "ion_config_dict = get_ion_config(charged_comp)\n",
    "m = ConcreteModel()\n",
    "m.fs = FlowsheetBlock(dynamic=False)\n",
    "m.fs.properties = ChemSofteningParameterBlock(**ion_config_dict)\n",
    "\n",
    "m.fs.stream = m.fs.properties.build_state_block([0], defined_state=False)\n",
    "\n",
    "m.fs.stream[0].temperature.fix()\n",
    "m.fs.stream[0].pressure.fix()\n",
    "m.fs.stream[0].pH.fix()\n",
    "\n",
    "s = m.fs.stream[0]\n",
    "s.flow_mol_phase_comp[\"Liq\", \"H2O\"].fix(10)\n",
    "for comp in ion_config_dict[\"solute_list\"]:\n",
    "    if comp in charged_comp:\n",
    "        continue\n",
    "    m.fs.stream[0].flow_mol_phase_comp[\"Liq\", comp].fix(1e-5)\n",
    "    # m.fs.stream[0].conc_mass_phase_comp[\"Liq\", comp].fix(0.02)\n",
    "m.fs.stream[0].flow_mol_phase_comp[\"Liq\", \"Ca_2+\"].fix(0.000135)\n",
    "m.fs.stream[0].flow_mol_phase_comp[\"Liq\", \"Mg_2+\"].fix(0.000975)\n",
    "m.fs.stream[0].flow_mol_phase_comp[\"Liq\", \"Alkalinity_2-\"].fix(0.000000025)\n",
    "m.fs.stream[0].flow_mol_phase_comp[\"Liq\", \"CO3_2-\"].fix(0.0000200025)\n",
    "m.fs.stream[0].conc_mass_caco3_comp\n",
    "# m.fs.stream[0].flow_mol_phase_comp\n",
    "m.fs.stream[0].carbonate_hardness_comp\n",
    "m.fs.stream[0].non_carbonate_hardness_comp\n",
    "m.fs.stream[0].total_hardness\n",
    "m.fs.stream[0].pOH\n",
    "# m.fs.stream.calculate_state()\n",
    "m.fs.stream.initialize()\n",
    "m.fs.stream.display()"
   ]
  },
  {
   "cell_type": "code",
   "execution_count": null,
   "metadata": {},
   "outputs": [
    {
     "name": "stdout",
     "output_type": "stream",
     "text": [
      "Block fs.soft\n",
      "\n",
      "  Variables:\n",
      "    _flow_mol_phase_comp_inlet_ref : Size=10, Index=fs.soft._flow_mol_phase_comp_inlet_ref_index, ReferenceTo=fs.soft.properties_in[...].component('flow_mol_phase_comp')[...]\n",
      "        Key                           : Lower : Value : Upper : Fixed : Stale : Domain\n",
      "        (0.0, 'Liq', 'Alkalinity_2-') :     0 :   0.1 :  None : False : False : NonNegativeReals\n",
      "               (0.0, 'Liq', 'CO3_2-') :     0 :   0.1 :  None : False : False : NonNegativeReals\n",
      "                (0.0, 'Liq', 'Ca_2+') :     0 :   0.1 :  None : False : False : NonNegativeReals\n",
      "                  (0.0, 'Liq', 'H2O') :     0 :   0.1 :  None : False : False : NonNegativeReals\n",
      "                (0.0, 'Liq', 'Mg_2+') :     0 :   0.1 :  None : False : False : NonNegativeReals\n",
      "                  (0.0, 'Liq', 'NH3') :     0 :   0.1 :  None : False : False : NonNegativeReals\n",
      "                 (0.0, 'Liq', 'SiO2') :     0 :   0.1 :  None : False : False : NonNegativeReals\n",
      "                  (0.0, 'Liq', 'TDS') :     0 :   0.1 :  None : False : False : NonNegativeReals\n",
      "                  (0.0, 'Liq', 'TOC') :     0 :   0.1 :  None : False : False : NonNegativeReals\n",
      "                  (0.0, 'Liq', 'TSS') :     0 :   0.1 :  None : False : False : NonNegativeReals\n",
      "    _temperature_inlet_ref : Size=1, Index=fs._time, ReferenceTo=fs.soft.properties_in[...].component('temperature')\n",
      "        Key : Lower  : Value  : Upper  : Fixed : Stale : Domain\n",
      "        0.0 : 273.15 : 298.15 : 373.15 : False : False : NonNegativeReals\n",
      "    _pressure_inlet_ref : Size=1, Index=fs._time, ReferenceTo=fs.soft.properties_in[...].component('pressure')\n",
      "        Key : Lower    : Value  : Upper : Fixed : Stale : Domain\n",
      "        0.0 : 100000.0 : 101325 :  None : False : False : NonNegativeReals\n",
      "    _flow_mol_phase_comp_outlet_ref : Size=10, Index=fs.soft._flow_mol_phase_comp_outlet_ref_index, ReferenceTo=fs.soft.properties_out[...].component('flow_mol_phase_comp')[...]\n",
      "        Key                           : Lower : Value : Upper : Fixed : Stale : Domain\n",
      "        (0.0, 'Liq', 'Alkalinity_2-') :     0 :   0.1 :  None : False : False : NonNegativeReals\n",
      "               (0.0, 'Liq', 'CO3_2-') :     0 :   0.1 :  None : False : False : NonNegativeReals\n",
      "                (0.0, 'Liq', 'Ca_2+') :     0 :   0.1 :  None : False : False : NonNegativeReals\n",
      "                  (0.0, 'Liq', 'H2O') :     0 :   0.1 :  None : False : False : NonNegativeReals\n",
      "                (0.0, 'Liq', 'Mg_2+') :     0 :   0.1 :  None : False : False : NonNegativeReals\n",
      "                  (0.0, 'Liq', 'NH3') :     0 :   0.1 :  None : False : False : NonNegativeReals\n",
      "                 (0.0, 'Liq', 'SiO2') :     0 :   0.1 :  None : False : False : NonNegativeReals\n",
      "                  (0.0, 'Liq', 'TDS') :     0 :   0.1 :  None : False : False : NonNegativeReals\n",
      "                  (0.0, 'Liq', 'TOC') :     0 :   0.1 :  None : False : False : NonNegativeReals\n",
      "                  (0.0, 'Liq', 'TSS') :     0 :   0.1 :  None : False : False : NonNegativeReals\n",
      "    _temperature_outlet_ref : Size=1, Index=fs._time, ReferenceTo=fs.soft.properties_out[...].component('temperature')\n",
      "        Key : Lower  : Value  : Upper  : Fixed : Stale : Domain\n",
      "        0.0 : 273.15 : 298.15 : 373.15 : False : False : NonNegativeReals\n",
      "    _pressure_outlet_ref : Size=1, Index=fs._time, ReferenceTo=fs.soft.properties_out[...].component('pressure')\n",
      "        Key : Lower    : Value  : Upper : Fixed : Stale : Domain\n",
      "        0.0 : 100000.0 : 101325 :  None : False : False : NonNegativeReals\n",
      "    _flow_mol_phase_comp_waste_ref : Size=10, Index=fs.soft._flow_mol_phase_comp_waste_ref_index, ReferenceTo=fs.soft.properties_waste[...].component('flow_mol_phase_comp')[...]\n",
      "        Key                           : Lower : Value : Upper : Fixed : Stale : Domain\n",
      "        (0.0, 'Liq', 'Alkalinity_2-') :     0 :   0.1 :  None : False : False : NonNegativeReals\n",
      "               (0.0, 'Liq', 'CO3_2-') :     0 :   0.1 :  None : False : False : NonNegativeReals\n",
      "                (0.0, 'Liq', 'Ca_2+') :     0 :   0.1 :  None : False : False : NonNegativeReals\n",
      "                  (0.0, 'Liq', 'H2O') :     0 :   0.1 :  None : False : False : NonNegativeReals\n",
      "                (0.0, 'Liq', 'Mg_2+') :     0 :   0.1 :  None : False : False : NonNegativeReals\n",
      "                  (0.0, 'Liq', 'NH3') :     0 :   0.1 :  None : False : False : NonNegativeReals\n",
      "                 (0.0, 'Liq', 'SiO2') :     0 :   0.1 :  None : False : False : NonNegativeReals\n",
      "                  (0.0, 'Liq', 'TDS') :     0 :   0.1 :  None : False : False : NonNegativeReals\n",
      "                  (0.0, 'Liq', 'TOC') :     0 :   0.1 :  None : False : False : NonNegativeReals\n",
      "                  (0.0, 'Liq', 'TSS') :     0 :   0.1 :  None : False : False : NonNegativeReals\n",
      "    _temperature_waste_ref : Size=1, Index=fs._time, ReferenceTo=fs.soft.properties_waste[...].component('temperature')\n",
      "        Key : Lower  : Value  : Upper  : Fixed : Stale : Domain\n",
      "        0.0 : 273.15 : 298.15 : 373.15 : False : False : NonNegativeReals\n",
      "    _pressure_waste_ref : Size=1, Index=fs._time, ReferenceTo=fs.soft.properties_waste[...].component('pressure')\n",
      "        Key : Lower    : Value  : Upper : Fixed : Stale : Domain\n",
      "        0.0 : 100000.0 : 101325 :  None : False : False : NonNegativeReals\n",
      "\n",
      "  Objectives:\n",
      "    None\n",
      "\n",
      "  Constraints:\n",
      "    None\n",
      "\n",
      "  Blocks:\n",
      "    Block fs.soft.properties_in[0.0]\n",
      "    \n",
      "      Variables:\n",
      "        flow_mol_phase_comp : Mole flow rate\n",
      "            Size=10, Index=fs.soft.properties_in[0.0].flow_mol_phase_comp_index, Units=mol/s\n",
      "            Key                      : Lower : Value : Upper : Fixed : Stale : Domain\n",
      "            ('Liq', 'Alkalinity_2-') :     0 :   0.1 :  None : False : False : NonNegativeReals\n",
      "                   ('Liq', 'CO3_2-') :     0 :   0.1 :  None : False : False : NonNegativeReals\n",
      "                    ('Liq', 'Ca_2+') :     0 :   0.1 :  None : False : False : NonNegativeReals\n",
      "                      ('Liq', 'H2O') :     0 :   0.1 :  None : False : False : NonNegativeReals\n",
      "                    ('Liq', 'Mg_2+') :     0 :   0.1 :  None : False : False : NonNegativeReals\n",
      "                      ('Liq', 'NH3') :     0 :   0.1 :  None : False : False : NonNegativeReals\n",
      "                     ('Liq', 'SiO2') :     0 :   0.1 :  None : False : False : NonNegativeReals\n",
      "                      ('Liq', 'TDS') :     0 :   0.1 :  None : False : False : NonNegativeReals\n",
      "                      ('Liq', 'TOC') :     0 :   0.1 :  None : False : False : NonNegativeReals\n",
      "                      ('Liq', 'TSS') :     0 :   0.1 :  None : False : False : NonNegativeReals\n",
      "        temperature : State temperature\n",
      "            Size=1, Index=None, Units=K\n",
      "            Key  : Lower  : Value  : Upper  : Fixed : Stale : Domain\n",
      "            None : 273.15 : 298.15 : 373.15 : False : False : NonNegativeReals\n",
      "        pressure : State pressure\n",
      "            Size=1, Index=None, Units=Pa\n",
      "            Key  : Lower    : Value  : Upper : Fixed : Stale : Domain\n",
      "            None : 100000.0 : 101325 :  None : False : False : NonNegativeReals\n",
      "        pH : State pH\n",
      "            Size=1, Index=None\n",
      "            Key  : Lower : Value : Upper : Fixed : Stale : Domain\n",
      "            None :     0 :     7 :    14 : False : False : NonNegativeReals\n",
      "    \n",
      "      Objectives:\n",
      "        None\n",
      "    \n",
      "      Constraints:\n",
      "        None\n",
      "    Block fs.soft.properties_out[0.0]\n",
      "    \n",
      "      Variables:\n",
      "        flow_mol_phase_comp : Mole flow rate\n",
      "            Size=10, Index=fs.soft.properties_out[0.0].flow_mol_phase_comp_index, Units=mol/s\n",
      "            Key                      : Lower : Value : Upper : Fixed : Stale : Domain\n",
      "            ('Liq', 'Alkalinity_2-') :     0 :   0.1 :  None : False : False : NonNegativeReals\n",
      "                   ('Liq', 'CO3_2-') :     0 :   0.1 :  None : False : False : NonNegativeReals\n",
      "                    ('Liq', 'Ca_2+') :     0 :   0.1 :  None : False : False : NonNegativeReals\n",
      "                      ('Liq', 'H2O') :     0 :   0.1 :  None : False : False : NonNegativeReals\n",
      "                    ('Liq', 'Mg_2+') :     0 :   0.1 :  None : False : False : NonNegativeReals\n",
      "                      ('Liq', 'NH3') :     0 :   0.1 :  None : False : False : NonNegativeReals\n",
      "                     ('Liq', 'SiO2') :     0 :   0.1 :  None : False : False : NonNegativeReals\n",
      "                      ('Liq', 'TDS') :     0 :   0.1 :  None : False : False : NonNegativeReals\n",
      "                      ('Liq', 'TOC') :     0 :   0.1 :  None : False : False : NonNegativeReals\n",
      "                      ('Liq', 'TSS') :     0 :   0.1 :  None : False : False : NonNegativeReals\n",
      "        temperature : State temperature\n",
      "            Size=1, Index=None, Units=K\n",
      "            Key  : Lower  : Value  : Upper  : Fixed : Stale : Domain\n",
      "            None : 273.15 : 298.15 : 373.15 : False : False : NonNegativeReals\n",
      "        pressure : State pressure\n",
      "            Size=1, Index=None, Units=Pa\n",
      "            Key  : Lower    : Value  : Upper : Fixed : Stale : Domain\n",
      "            None : 100000.0 : 101325 :  None : False : False : NonNegativeReals\n",
      "        pH : State pH\n",
      "            Size=1, Index=None\n",
      "            Key  : Lower : Value : Upper : Fixed : Stale : Domain\n",
      "            None :     0 :     7 :    14 : False : False : NonNegativeReals\n",
      "    \n",
      "      Objectives:\n",
      "        None\n",
      "    \n",
      "      Constraints:\n",
      "        None\n",
      "    Block fs.soft.properties_waste[0.0]\n",
      "    \n",
      "      Variables:\n",
      "        flow_mol_phase_comp : Mole flow rate\n",
      "            Size=10, Index=fs.soft.properties_waste[0.0].flow_mol_phase_comp_index, Units=mol/s\n",
      "            Key                      : Lower : Value : Upper : Fixed : Stale : Domain\n",
      "            ('Liq', 'Alkalinity_2-') :     0 :   0.1 :  None : False : False : NonNegativeReals\n",
      "                   ('Liq', 'CO3_2-') :     0 :   0.1 :  None : False : False : NonNegativeReals\n",
      "                    ('Liq', 'Ca_2+') :     0 :   0.1 :  None : False : False : NonNegativeReals\n",
      "                      ('Liq', 'H2O') :     0 :   0.1 :  None : False : False : NonNegativeReals\n",
      "                    ('Liq', 'Mg_2+') :     0 :   0.1 :  None : False : False : NonNegativeReals\n",
      "                      ('Liq', 'NH3') :     0 :   0.1 :  None : False : False : NonNegativeReals\n",
      "                     ('Liq', 'SiO2') :     0 :   0.1 :  None : False : False : NonNegativeReals\n",
      "                      ('Liq', 'TDS') :     0 :   0.1 :  None : False : False : NonNegativeReals\n",
      "                      ('Liq', 'TOC') :     0 :   0.1 :  None : False : False : NonNegativeReals\n",
      "                      ('Liq', 'TSS') :     0 :   0.1 :  None : False : False : NonNegativeReals\n",
      "        temperature : State temperature\n",
      "            Size=1, Index=None, Units=K\n",
      "            Key  : Lower  : Value  : Upper  : Fixed : Stale : Domain\n",
      "            None : 273.15 : 298.15 : 373.15 : False : False : NonNegativeReals\n",
      "        pressure : State pressure\n",
      "            Size=1, Index=None, Units=Pa\n",
      "            Key  : Lower    : Value  : Upper : Fixed : Stale : Domain\n",
      "            None : 100000.0 : 101325 :  None : False : False : NonNegativeReals\n",
      "        pH : State pH\n",
      "            Size=1, Index=None\n",
      "            Key  : Lower : Value : Upper : Fixed : Stale : Domain\n",
      "            None :     0 :     7 :    14 : False : False : NonNegativeReals\n",
      "    \n",
      "      Objectives:\n",
      "        None\n",
      "    \n",
      "      Constraints:\n",
      "        None\n"
     ]
    }
   ],
   "source": [
    "m.fs.soft.display()"
   ]
  },
  {
   "cell_type": "code",
   "execution_count": null,
   "metadata": {},
   "outputs": [
    {
     "data": {
      "text/plain": [
       "31.017369727047143"
      ]
     },
     "execution_count": 31,
     "metadata": {},
     "output_type": "execute_result"
    }
   ],
   "source": [
    "50 / 1.612"
   ]
  },
  {
   "cell_type": "code",
   "execution_count": null,
   "metadata": {},
   "outputs": [],
   "source": []
  },
  {
   "cell_type": "code",
   "execution_count": null,
   "metadata": {},
   "outputs": [],
   "source": []
  },
  {
   "cell_type": "code",
   "execution_count": null,
   "metadata": {},
   "outputs": [
    {
     "data": {
      "text/plain": [
       "0.6165594093905808"
      ]
     },
     "execution_count": 11,
     "metadata": {},
     "output_type": "execute_result"
    }
   ],
   "source": [
    "m.fs.stream[0].total_hardness()"
   ]
  },
  {
   "cell_type": "code",
   "execution_count": null,
   "metadata": {},
   "outputs": [
    {
     "name": "stdout",
     "output_type": "stream",
     "text": [
      "carbonate_hardness_comp : Carbonate hardness in CaCO3 equivalents\n",
      "    Size=2, Index=fs.properties.hardness_set, Units=kg/m**3\n",
      "    Key   : Lower : Value                  : Upper : Fixed : Stale : Domain\n",
      "    Ca_2+ :     0 : 1.3886565855475742e-05 :  None : False : False :  Reals\n",
      "    Mg_2+ :     0 :                      0 :  None :  True :  True :  Reals\n"
     ]
    }
   ],
   "source": [
    "m.fs.stream[0].carbonate_hardness_comp.display()"
   ]
  },
  {
   "cell_type": "code",
   "execution_count": null,
   "metadata": {},
   "outputs": [
    {
     "name": "stdout",
     "output_type": "stream",
     "text": [
      "non_carbonate_hardness_comp : Non-carbonate hardness in CaCO3 equivalents\n",
      "    Size=2, Index=fs.properties.hardness_set, Units=kg/m**3\n",
      "    Key   : Lower : Value              : Upper : Fixed : Stale : Domain\n",
      "    Ca_2+ :     0 : 0.0749735690534823 :  None : False : False :  Reals\n",
      "    Mg_2+ :     0 : 0.5415760683618823 :  None : False : False :  Reals\n"
     ]
    }
   ],
   "source": [
    "m.fs.stream[0].non_carbonate_hardness_comp.display()"
   ]
  },
  {
   "cell_type": "code",
   "execution_count": null,
   "metadata": {},
   "outputs": [
    {
     "name": "stdout",
     "output_type": "stream",
     "text": [
      "total_hardness : Size=1\n",
      "    Key  : Value\n",
      "    None : 0.6165635239812202\n"
     ]
    }
   ],
   "source": [
    "m.fs.stream[0].total_hardness.display()"
   ]
  },
  {
   "cell_type": "code",
   "execution_count": null,
   "metadata": {},
   "outputs": [
    {
     "data": {
      "text/plain": [
       "0.0111346437879"
      ]
     },
     "execution_count": 12,
     "metadata": {},
     "output_type": "execute_result"
    }
   ],
   "source": [
    "0.00666745137 * 1.67"
   ]
  },
  {
   "cell_type": "code",
   "execution_count": null,
   "metadata": {},
   "outputs": [],
   "source": []
  }
 ],
 "metadata": {
  "kernelspec": {
   "display_name": "watertap-seto",
   "language": "python",
   "name": "python3"
  },
  "language_info": {
   "codemirror_mode": {
    "name": "ipython",
    "version": 3
   },
   "file_extension": ".py",
   "mimetype": "text/x-python",
   "name": "python",
   "nbconvert_exporter": "python",
   "pygments_lexer": "ipython3",
   "version": "3.10.9"
  },
  "orig_nbformat": 4,
  "vscode": {
   "interpreter": {
    "hash": "40fab0ed9c337b4fe69b575a70de2a80b87eca00f0404d6eeedca76291efab98"
   }
  }
 },
 "nbformat": 4,
 "nbformat_minor": 2
}
